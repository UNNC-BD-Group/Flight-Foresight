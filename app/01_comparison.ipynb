{
 "cells": [
  {
   "cell_type": "code",
   "execution_count": 1,
   "metadata": {},
   "outputs": [],
   "source": [
    "import os\n",
    "from utils import airdelay_plot as plot"
   ]
  },
  {
   "cell_type": "code",
   "execution_count": 2,
   "metadata": {},
   "outputs": [],
   "source": [
    "def Param(name='', *args, **kwargs):\n",
    "    return name\n",
    "\n",
    "def get_log(logs=[]):\n",
    "    log_full = {}\n",
    "    for log_path in logs:\n",
    "        with open(log_path, 'r') as f:\n",
    "            log = f.read()\n",
    "            log = eval(log)\n",
    "            for model in log:\n",
    "                log_full[model] = log[model]\n",
    "    return log_full\n",
    "\n",
    "def get_log_list(path):\n",
    "    log_list = []\n",
    "    for root, _, files in os.walk(path):\n",
    "        for file in files:\n",
    "            log_list.append(os.path.join(root, file))\n",
    "            \n",
    "    return log_list"
   ]
  },
  {
   "cell_type": "code",
   "execution_count": 3,
   "metadata": {},
   "outputs": [],
   "source": [
    "log = get_log(get_log_list('../models/'))"
   ]
  },
  {
   "cell_type": "code",
   "execution_count": 4,
   "metadata": {},
   "outputs": [],
   "source": [
    "fig = plot.bar.method_compare(log)\n",
    "fig.write_image(file='../docs/Reports/Dataset-General/img/model_compare.png', engine=\"kaleido\")\n",
    "fig.show()"
   ]
  }
 ],
 "metadata": {
  "kernelspec": {
   "display_name": "BigData",
   "language": "python",
   "name": "python3"
  },
  "language_info": {
   "codemirror_mode": {
    "name": "ipython",
    "version": 3
   },
   "file_extension": ".py",
   "mimetype": "text/x-python",
   "name": "python",
   "nbconvert_exporter": "python",
   "pygments_lexer": "ipython3",
   "version": "3.8.16"
  },
  "orig_nbformat": 4
 },
 "nbformat": 4,
 "nbformat_minor": 2
}
