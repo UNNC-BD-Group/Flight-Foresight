{
 "cells": [
  {
   "cell_type": "code",
   "execution_count": 1,
   "metadata": {},
   "outputs": [],
   "source": [
    "from utils.dataset import AirDelayDataset\n",
    "import utils.airdelay_plot as plot"
   ]
  },
  {
   "cell_type": "code",
   "execution_count": 2,
   "metadata": {},
   "outputs": [
    {
     "name": "stdout",
     "output_type": "stream",
     "text": [
      "Initializing Spark...\n",
      "Spark stand by (Master=local, AppName=1e4a7d4b-8663-4833-9b9e-d3a26989b98c)\n",
      "Load datasets from ../datasets/app-dataset/full/train.csv\n",
      "                                                     0\n",
      "Spark Master                                     local\n",
      "Spark APP Name    1e4a7d4b-8663-4833-9b9e-d3a26989b98c\n",
      "Data Path       ../datasets/app-dataset/full/train.csv\n",
      "Data Count                                      121513\n"
     ]
    }
   ],
   "source": [
    "data = AirDelayDataset('../datasets/app-dataset/full/train.csv',\n",
    "                       airport_data_path='../datasets/AIRPORTS_INFO.csv')"
   ]
  },
  {
   "cell_type": "code",
   "execution_count": 3,
   "metadata": {},
   "outputs": [
    {
     "data": {
      "application/vnd.plotly.v1+json": {
       "config": {
        "plotlyServerURL": "https://plot.ly"
       },
       "data": [
        {
         "lat": [
          36.8946,
          29.984399795532227,
          21.32062,
          39.49909973144531,
          42.3643,
          19.721399,
          39.861698150635,
          35.2140007019043,
          34.5676994324,
          33.435302,
          32.896801,
          37.61899948120117,
          33.6367,
          26.072599,
          41.9786,
          42.212398529052734,
          30.49410057067871,
          33.942501,
          28.429399490356445,
          32.7336006165,
          40.639447
         ],
         "lon": [
          -76.201202,
          -95.34140014648438,
          -157.924228,
          -119.76799774169922,
          -71.005203,
          -155.048004,
          -104.672996521,
          -80.94309997558594,
          -98.4166030884,
          -112.005905,
          -97.038002,
          -122.375,
          -84.428101,
          -80.152702,
          -87.9048,
          -83.35340118408203,
          -81.68789672851562,
          -118.407997,
          -81.30899810791016,
          -117.190002441,
          -73.779317
         ],
         "marker": {
          "color": "royalblue",
          "line": {
           "color": "rgb(40,40,40)",
           "width": 0.5
          },
          "size": [
           1,
           2,
           1,
           1,
           1,
           1,
           2,
           1,
           1,
           2,
           1,
           1,
           1,
           3,
           2,
           1,
           1,
           2,
           1,
           1,
           3
          ],
          "sizemode": "area"
         },
         "name": "Origin Port",
         "text": [
          "US-VA",
          "US-TX",
          "US-HI",
          "US-NV",
          "US-MA",
          "US-HI",
          "US-CO",
          "US-NC",
          "US-OK",
          "US-AZ",
          "US-TX",
          "US-CA",
          "US-GA",
          "US-FL",
          "US-IL",
          "US-MI",
          "US-FL",
          "US-CA",
          "US-FL",
          "US-CA",
          "US-NY"
         ],
         "type": "scattergeo"
        },
        {
         "lat": [
          18.00830078125,
          29.984399795532227,
          39.49909973144531,
          42.3643,
          40.692501,
          36.083361,
          39.861698150635,
          36.1245002746582,
          35.040199,
          41.93851,
          27.975500106811523,
          33.435302,
          38.748697,
          33.562901,
          33.6367,
          33.938801,
          37.649899,
          41.9786,
          32.115004,
          19.738783,
          44.882,
          40.639447,
          20.898543,
          40.785749
         ],
         "lon": [
          -66.56300354003906,
          -95.34140014648438,
          -119.76799774169922,
          -71.005203,
          -74.168701,
          -115.151817,
          -104.672996521,
          -86.6781997680664,
          -106.609001,
          -72.688066,
          -82.533203125,
          -112.005905,
          -90.370003,
          -86.753502,
          -84.428101,
          -81.119499,
          -97.433098,
          -87.9048,
          -110.938053,
          -156.045603,
          -93.221802,
          -73.779317,
          -156.431212,
          -111.979746
         ],
         "marker": {
          "color": "orange",
          "line": {
           "color": "rgb(40,40,40)",
           "width": 0.5
          },
          "size": [
           1,
           1,
           1,
           1,
           1,
           1,
           1,
           1,
           1,
           1,
           1,
           1,
           1,
           2,
           2,
           1,
           1,
           1,
           1,
           1,
           2,
           2,
           1,
           3
          ],
          "sizemode": "area"
         },
         "name": "Destination Port",
         "text": [
          "PR-U-A",
          "US-TX",
          "US-NV",
          "US-MA",
          "US-NJ",
          "US-NV",
          "US-CO",
          "US-TN",
          "US-NM",
          "US-CT",
          "US-FL",
          "US-AZ",
          "US-MO",
          "US-AL",
          "US-GA",
          "US-SC",
          "US-KS",
          "US-IL",
          "US-AZ",
          "US-HI",
          "US-MN",
          "US-NY",
          "US-HI",
          "US-UT"
         ],
         "type": "scattergeo"
        }
       ],
       "layout": {
        "geo": {
         "countrycolor": "rgb(204, 204, 204)",
         "landcolor": "rgb(243, 243, 243)",
         "projection": {
          "type": "azimuthal equal area"
         },
         "scope": "north america",
         "showland": true
        },
        "margin": {
         "b": 0,
         "l": 0,
         "r": 0,
         "t": 0
        },
        "template": {
         "data": {
          "bar": [
           {
            "error_x": {
             "color": "#2a3f5f"
            },
            "error_y": {
             "color": "#2a3f5f"
            },
            "marker": {
             "line": {
              "color": "#E5ECF6",
              "width": 0.5
             },
             "pattern": {
              "fillmode": "overlay",
              "size": 10,
              "solidity": 0.2
             }
            },
            "type": "bar"
           }
          ],
          "barpolar": [
           {
            "marker": {
             "line": {
              "color": "#E5ECF6",
              "width": 0.5
             },
             "pattern": {
              "fillmode": "overlay",
              "size": 10,
              "solidity": 0.2
             }
            },
            "type": "barpolar"
           }
          ],
          "carpet": [
           {
            "aaxis": {
             "endlinecolor": "#2a3f5f",
             "gridcolor": "white",
             "linecolor": "white",
             "minorgridcolor": "white",
             "startlinecolor": "#2a3f5f"
            },
            "baxis": {
             "endlinecolor": "#2a3f5f",
             "gridcolor": "white",
             "linecolor": "white",
             "minorgridcolor": "white",
             "startlinecolor": "#2a3f5f"
            },
            "type": "carpet"
           }
          ],
          "choropleth": [
           {
            "colorbar": {
             "outlinewidth": 0,
             "ticks": ""
            },
            "type": "choropleth"
           }
          ],
          "contour": [
           {
            "colorbar": {
             "outlinewidth": 0,
             "ticks": ""
            },
            "colorscale": [
             [
              0,
              "#0d0887"
             ],
             [
              0.1111111111111111,
              "#46039f"
             ],
             [
              0.2222222222222222,
              "#7201a8"
             ],
             [
              0.3333333333333333,
              "#9c179e"
             ],
             [
              0.4444444444444444,
              "#bd3786"
             ],
             [
              0.5555555555555556,
              "#d8576b"
             ],
             [
              0.6666666666666666,
              "#ed7953"
             ],
             [
              0.7777777777777778,
              "#fb9f3a"
             ],
             [
              0.8888888888888888,
              "#fdca26"
             ],
             [
              1,
              "#f0f921"
             ]
            ],
            "type": "contour"
           }
          ],
          "contourcarpet": [
           {
            "colorbar": {
             "outlinewidth": 0,
             "ticks": ""
            },
            "type": "contourcarpet"
           }
          ],
          "heatmap": [
           {
            "colorbar": {
             "outlinewidth": 0,
             "ticks": ""
            },
            "colorscale": [
             [
              0,
              "#0d0887"
             ],
             [
              0.1111111111111111,
              "#46039f"
             ],
             [
              0.2222222222222222,
              "#7201a8"
             ],
             [
              0.3333333333333333,
              "#9c179e"
             ],
             [
              0.4444444444444444,
              "#bd3786"
             ],
             [
              0.5555555555555556,
              "#d8576b"
             ],
             [
              0.6666666666666666,
              "#ed7953"
             ],
             [
              0.7777777777777778,
              "#fb9f3a"
             ],
             [
              0.8888888888888888,
              "#fdca26"
             ],
             [
              1,
              "#f0f921"
             ]
            ],
            "type": "heatmap"
           }
          ],
          "heatmapgl": [
           {
            "colorbar": {
             "outlinewidth": 0,
             "ticks": ""
            },
            "colorscale": [
             [
              0,
              "#0d0887"
             ],
             [
              0.1111111111111111,
              "#46039f"
             ],
             [
              0.2222222222222222,
              "#7201a8"
             ],
             [
              0.3333333333333333,
              "#9c179e"
             ],
             [
              0.4444444444444444,
              "#bd3786"
             ],
             [
              0.5555555555555556,
              "#d8576b"
             ],
             [
              0.6666666666666666,
              "#ed7953"
             ],
             [
              0.7777777777777778,
              "#fb9f3a"
             ],
             [
              0.8888888888888888,
              "#fdca26"
             ],
             [
              1,
              "#f0f921"
             ]
            ],
            "type": "heatmapgl"
           }
          ],
          "histogram": [
           {
            "marker": {
             "pattern": {
              "fillmode": "overlay",
              "size": 10,
              "solidity": 0.2
             }
            },
            "type": "histogram"
           }
          ],
          "histogram2d": [
           {
            "colorbar": {
             "outlinewidth": 0,
             "ticks": ""
            },
            "colorscale": [
             [
              0,
              "#0d0887"
             ],
             [
              0.1111111111111111,
              "#46039f"
             ],
             [
              0.2222222222222222,
              "#7201a8"
             ],
             [
              0.3333333333333333,
              "#9c179e"
             ],
             [
              0.4444444444444444,
              "#bd3786"
             ],
             [
              0.5555555555555556,
              "#d8576b"
             ],
             [
              0.6666666666666666,
              "#ed7953"
             ],
             [
              0.7777777777777778,
              "#fb9f3a"
             ],
             [
              0.8888888888888888,
              "#fdca26"
             ],
             [
              1,
              "#f0f921"
             ]
            ],
            "type": "histogram2d"
           }
          ],
          "histogram2dcontour": [
           {
            "colorbar": {
             "outlinewidth": 0,
             "ticks": ""
            },
            "colorscale": [
             [
              0,
              "#0d0887"
             ],
             [
              0.1111111111111111,
              "#46039f"
             ],
             [
              0.2222222222222222,
              "#7201a8"
             ],
             [
              0.3333333333333333,
              "#9c179e"
             ],
             [
              0.4444444444444444,
              "#bd3786"
             ],
             [
              0.5555555555555556,
              "#d8576b"
             ],
             [
              0.6666666666666666,
              "#ed7953"
             ],
             [
              0.7777777777777778,
              "#fb9f3a"
             ],
             [
              0.8888888888888888,
              "#fdca26"
             ],
             [
              1,
              "#f0f921"
             ]
            ],
            "type": "histogram2dcontour"
           }
          ],
          "mesh3d": [
           {
            "colorbar": {
             "outlinewidth": 0,
             "ticks": ""
            },
            "type": "mesh3d"
           }
          ],
          "parcoords": [
           {
            "line": {
             "colorbar": {
              "outlinewidth": 0,
              "ticks": ""
             }
            },
            "type": "parcoords"
           }
          ],
          "pie": [
           {
            "automargin": true,
            "type": "pie"
           }
          ],
          "scatter": [
           {
            "fillpattern": {
             "fillmode": "overlay",
             "size": 10,
             "solidity": 0.2
            },
            "type": "scatter"
           }
          ],
          "scatter3d": [
           {
            "line": {
             "colorbar": {
              "outlinewidth": 0,
              "ticks": ""
             }
            },
            "marker": {
             "colorbar": {
              "outlinewidth": 0,
              "ticks": ""
             }
            },
            "type": "scatter3d"
           }
          ],
          "scattercarpet": [
           {
            "marker": {
             "colorbar": {
              "outlinewidth": 0,
              "ticks": ""
             }
            },
            "type": "scattercarpet"
           }
          ],
          "scattergeo": [
           {
            "marker": {
             "colorbar": {
              "outlinewidth": 0,
              "ticks": ""
             }
            },
            "type": "scattergeo"
           }
          ],
          "scattergl": [
           {
            "marker": {
             "colorbar": {
              "outlinewidth": 0,
              "ticks": ""
             }
            },
            "type": "scattergl"
           }
          ],
          "scattermapbox": [
           {
            "marker": {
             "colorbar": {
              "outlinewidth": 0,
              "ticks": ""
             }
            },
            "type": "scattermapbox"
           }
          ],
          "scatterpolar": [
           {
            "marker": {
             "colorbar": {
              "outlinewidth": 0,
              "ticks": ""
             }
            },
            "type": "scatterpolar"
           }
          ],
          "scatterpolargl": [
           {
            "marker": {
             "colorbar": {
              "outlinewidth": 0,
              "ticks": ""
             }
            },
            "type": "scatterpolargl"
           }
          ],
          "scatterternary": [
           {
            "marker": {
             "colorbar": {
              "outlinewidth": 0,
              "ticks": ""
             }
            },
            "type": "scatterternary"
           }
          ],
          "surface": [
           {
            "colorbar": {
             "outlinewidth": 0,
             "ticks": ""
            },
            "colorscale": [
             [
              0,
              "#0d0887"
             ],
             [
              0.1111111111111111,
              "#46039f"
             ],
             [
              0.2222222222222222,
              "#7201a8"
             ],
             [
              0.3333333333333333,
              "#9c179e"
             ],
             [
              0.4444444444444444,
              "#bd3786"
             ],
             [
              0.5555555555555556,
              "#d8576b"
             ],
             [
              0.6666666666666666,
              "#ed7953"
             ],
             [
              0.7777777777777778,
              "#fb9f3a"
             ],
             [
              0.8888888888888888,
              "#fdca26"
             ],
             [
              1,
              "#f0f921"
             ]
            ],
            "type": "surface"
           }
          ],
          "table": [
           {
            "cells": {
             "fill": {
              "color": "#EBF0F8"
             },
             "line": {
              "color": "white"
             }
            },
            "header": {
             "fill": {
              "color": "#C8D4E3"
             },
             "line": {
              "color": "white"
             }
            },
            "type": "table"
           }
          ]
         },
         "layout": {
          "annotationdefaults": {
           "arrowcolor": "#2a3f5f",
           "arrowhead": 0,
           "arrowwidth": 1
          },
          "autotypenumbers": "strict",
          "coloraxis": {
           "colorbar": {
            "outlinewidth": 0,
            "ticks": ""
           }
          },
          "colorscale": {
           "diverging": [
            [
             0,
             "#8e0152"
            ],
            [
             0.1,
             "#c51b7d"
            ],
            [
             0.2,
             "#de77ae"
            ],
            [
             0.3,
             "#f1b6da"
            ],
            [
             0.4,
             "#fde0ef"
            ],
            [
             0.5,
             "#f7f7f7"
            ],
            [
             0.6,
             "#e6f5d0"
            ],
            [
             0.7,
             "#b8e186"
            ],
            [
             0.8,
             "#7fbc41"
            ],
            [
             0.9,
             "#4d9221"
            ],
            [
             1,
             "#276419"
            ]
           ],
           "sequential": [
            [
             0,
             "#0d0887"
            ],
            [
             0.1111111111111111,
             "#46039f"
            ],
            [
             0.2222222222222222,
             "#7201a8"
            ],
            [
             0.3333333333333333,
             "#9c179e"
            ],
            [
             0.4444444444444444,
             "#bd3786"
            ],
            [
             0.5555555555555556,
             "#d8576b"
            ],
            [
             0.6666666666666666,
             "#ed7953"
            ],
            [
             0.7777777777777778,
             "#fb9f3a"
            ],
            [
             0.8888888888888888,
             "#fdca26"
            ],
            [
             1,
             "#f0f921"
            ]
           ],
           "sequentialminus": [
            [
             0,
             "#0d0887"
            ],
            [
             0.1111111111111111,
             "#46039f"
            ],
            [
             0.2222222222222222,
             "#7201a8"
            ],
            [
             0.3333333333333333,
             "#9c179e"
            ],
            [
             0.4444444444444444,
             "#bd3786"
            ],
            [
             0.5555555555555556,
             "#d8576b"
            ],
            [
             0.6666666666666666,
             "#ed7953"
            ],
            [
             0.7777777777777778,
             "#fb9f3a"
            ],
            [
             0.8888888888888888,
             "#fdca26"
            ],
            [
             1,
             "#f0f921"
            ]
           ]
          },
          "colorway": [
           "#636efa",
           "#EF553B",
           "#00cc96",
           "#ab63fa",
           "#FFA15A",
           "#19d3f3",
           "#FF6692",
           "#B6E880",
           "#FF97FF",
           "#FECB52"
          ],
          "font": {
           "color": "#2a3f5f"
          },
          "geo": {
           "bgcolor": "white",
           "lakecolor": "white",
           "landcolor": "#E5ECF6",
           "showlakes": true,
           "showland": true,
           "subunitcolor": "white"
          },
          "hoverlabel": {
           "align": "left"
          },
          "hovermode": "closest",
          "mapbox": {
           "style": "light"
          },
          "paper_bgcolor": "white",
          "plot_bgcolor": "#E5ECF6",
          "polar": {
           "angularaxis": {
            "gridcolor": "white",
            "linecolor": "white",
            "ticks": ""
           },
           "bgcolor": "#E5ECF6",
           "radialaxis": {
            "gridcolor": "white",
            "linecolor": "white",
            "ticks": ""
           }
          },
          "scene": {
           "xaxis": {
            "backgroundcolor": "#E5ECF6",
            "gridcolor": "white",
            "gridwidth": 2,
            "linecolor": "white",
            "showbackground": true,
            "ticks": "",
            "zerolinecolor": "white"
           },
           "yaxis": {
            "backgroundcolor": "#E5ECF6",
            "gridcolor": "white",
            "gridwidth": 2,
            "linecolor": "white",
            "showbackground": true,
            "ticks": "",
            "zerolinecolor": "white"
           },
           "zaxis": {
            "backgroundcolor": "#E5ECF6",
            "gridcolor": "white",
            "gridwidth": 2,
            "linecolor": "white",
            "showbackground": true,
            "ticks": "",
            "zerolinecolor": "white"
           }
          },
          "shapedefaults": {
           "line": {
            "color": "#2a3f5f"
           }
          },
          "ternary": {
           "aaxis": {
            "gridcolor": "white",
            "linecolor": "white",
            "ticks": ""
           },
           "baxis": {
            "gridcolor": "white",
            "linecolor": "white",
            "ticks": ""
           },
           "bgcolor": "#E5ECF6",
           "caxis": {
            "gridcolor": "white",
            "linecolor": "white",
            "ticks": ""
           }
          },
          "title": {
           "x": 0.05
          },
          "xaxis": {
           "automargin": true,
           "gridcolor": "white",
           "linecolor": "white",
           "ticks": "",
           "title": {
            "standoff": 15
           },
           "zerolinecolor": "white",
           "zerolinewidth": 2
          },
          "yaxis": {
           "automargin": true,
           "gridcolor": "white",
           "linecolor": "white",
           "ticks": "",
           "title": {
            "standoff": 15
           },
           "zerolinecolor": "white",
           "zerolinewidth": 2
          }
         }
        }
       }
      }
     },
     "metadata": {},
     "output_type": "display_data"
    }
   ],
   "source": [
    "d = data.get_date_period('2009-01-01', '2009-01-02')\n",
    "fig = plot.map.heatmap(d, 'origin', 'royalblue', 'Origin Port')\n",
    "fig = plot.map.heatmap(d, 'dest', 'orange', 'Destination Port', fig=fig)\n",
    "fig.show()"
   ]
  },
  {
   "cell_type": "code",
   "execution_count": 4,
   "metadata": {},
   "outputs": [
    {
     "data": {
      "application/vnd.plotly.v1+json": {
       "config": {
        "plotlyServerURL": "https://plot.ly"
       },
       "data": [
        {
         "lat": [
          36.8946,
          29.984399795532227,
          21.32062,
          39.49909973144531,
          42.3643,
          19.721399,
          39.861698150635,
          35.2140007019043,
          34.5676994324,
          33.435302,
          32.896801,
          37.61899948120117,
          33.6367,
          26.072599,
          41.9786,
          42.212398529052734,
          30.49410057067871,
          33.942501,
          28.429399490356445,
          32.7336006165,
          40.639447
         ],
         "lon": [
          -76.201202,
          -95.34140014648438,
          -157.924228,
          -119.76799774169922,
          -71.005203,
          -155.048004,
          -104.672996521,
          -80.94309997558594,
          -98.4166030884,
          -112.005905,
          -97.038002,
          -122.375,
          -84.428101,
          -80.152702,
          -87.9048,
          -83.35340118408203,
          -81.68789672851562,
          -118.407997,
          -81.30899810791016,
          -117.190002441,
          -73.779317
         ],
         "marker": {
          "color": "royalblue",
          "line": {
           "color": "rgb(40,40,40)",
           "width": 0.5
          },
          "size": [
           1,
           2,
           1,
           1,
           1,
           1,
           2,
           1,
           1,
           2,
           1,
           1,
           1,
           3,
           2,
           1,
           1,
           2,
           1,
           1,
           3
          ],
          "sizemode": "area"
         },
         "name": "Origin Port",
         "text": [
          "US-VA",
          "US-TX",
          "US-HI",
          "US-NV",
          "US-MA",
          "US-HI",
          "US-CO",
          "US-NC",
          "US-OK",
          "US-AZ",
          "US-TX",
          "US-CA",
          "US-GA",
          "US-FL",
          "US-IL",
          "US-MI",
          "US-FL",
          "US-CA",
          "US-FL",
          "US-CA",
          "US-NY"
         ],
         "type": "scattergeo"
        },
        {
         "lat": [
          36.8946,
          29.984399795532227,
          21.32062,
          32.896801,
          37.61899948120117,
          26.072599,
          33.942501
         ],
         "lon": [
          -76.201202,
          -95.34140014648438,
          -157.924228,
          -97.038002,
          -122.375,
          -80.152702,
          -118.407997
         ],
         "marker": {
          "color": "red",
          "line": {
           "color": "rgb(40,40,40)",
           "width": 0.5
          },
          "size": [
           1,
           1,
           1,
           1,
           1,
           1,
           1
          ],
          "sizemode": "area"
         },
         "name": "Delay",
         "text": [
          "US-VA",
          "US-TX",
          "US-HI",
          "US-TX",
          "US-CA",
          "US-FL",
          "US-CA"
         ],
         "type": "scattergeo"
        }
       ],
       "layout": {
        "geo": {
         "countrycolor": "rgb(204, 204, 204)",
         "landcolor": "rgb(243, 243, 243)",
         "projection": {
          "type": "azimuthal equal area"
         },
         "scope": "north america",
         "showland": true
        },
        "margin": {
         "b": 0,
         "l": 0,
         "r": 0,
         "t": 0
        },
        "template": {
         "data": {
          "bar": [
           {
            "error_x": {
             "color": "#2a3f5f"
            },
            "error_y": {
             "color": "#2a3f5f"
            },
            "marker": {
             "line": {
              "color": "#E5ECF6",
              "width": 0.5
             },
             "pattern": {
              "fillmode": "overlay",
              "size": 10,
              "solidity": 0.2
             }
            },
            "type": "bar"
           }
          ],
          "barpolar": [
           {
            "marker": {
             "line": {
              "color": "#E5ECF6",
              "width": 0.5
             },
             "pattern": {
              "fillmode": "overlay",
              "size": 10,
              "solidity": 0.2
             }
            },
            "type": "barpolar"
           }
          ],
          "carpet": [
           {
            "aaxis": {
             "endlinecolor": "#2a3f5f",
             "gridcolor": "white",
             "linecolor": "white",
             "minorgridcolor": "white",
             "startlinecolor": "#2a3f5f"
            },
            "baxis": {
             "endlinecolor": "#2a3f5f",
             "gridcolor": "white",
             "linecolor": "white",
             "minorgridcolor": "white",
             "startlinecolor": "#2a3f5f"
            },
            "type": "carpet"
           }
          ],
          "choropleth": [
           {
            "colorbar": {
             "outlinewidth": 0,
             "ticks": ""
            },
            "type": "choropleth"
           }
          ],
          "contour": [
           {
            "colorbar": {
             "outlinewidth": 0,
             "ticks": ""
            },
            "colorscale": [
             [
              0,
              "#0d0887"
             ],
             [
              0.1111111111111111,
              "#46039f"
             ],
             [
              0.2222222222222222,
              "#7201a8"
             ],
             [
              0.3333333333333333,
              "#9c179e"
             ],
             [
              0.4444444444444444,
              "#bd3786"
             ],
             [
              0.5555555555555556,
              "#d8576b"
             ],
             [
              0.6666666666666666,
              "#ed7953"
             ],
             [
              0.7777777777777778,
              "#fb9f3a"
             ],
             [
              0.8888888888888888,
              "#fdca26"
             ],
             [
              1,
              "#f0f921"
             ]
            ],
            "type": "contour"
           }
          ],
          "contourcarpet": [
           {
            "colorbar": {
             "outlinewidth": 0,
             "ticks": ""
            },
            "type": "contourcarpet"
           }
          ],
          "heatmap": [
           {
            "colorbar": {
             "outlinewidth": 0,
             "ticks": ""
            },
            "colorscale": [
             [
              0,
              "#0d0887"
             ],
             [
              0.1111111111111111,
              "#46039f"
             ],
             [
              0.2222222222222222,
              "#7201a8"
             ],
             [
              0.3333333333333333,
              "#9c179e"
             ],
             [
              0.4444444444444444,
              "#bd3786"
             ],
             [
              0.5555555555555556,
              "#d8576b"
             ],
             [
              0.6666666666666666,
              "#ed7953"
             ],
             [
              0.7777777777777778,
              "#fb9f3a"
             ],
             [
              0.8888888888888888,
              "#fdca26"
             ],
             [
              1,
              "#f0f921"
             ]
            ],
            "type": "heatmap"
           }
          ],
          "heatmapgl": [
           {
            "colorbar": {
             "outlinewidth": 0,
             "ticks": ""
            },
            "colorscale": [
             [
              0,
              "#0d0887"
             ],
             [
              0.1111111111111111,
              "#46039f"
             ],
             [
              0.2222222222222222,
              "#7201a8"
             ],
             [
              0.3333333333333333,
              "#9c179e"
             ],
             [
              0.4444444444444444,
              "#bd3786"
             ],
             [
              0.5555555555555556,
              "#d8576b"
             ],
             [
              0.6666666666666666,
              "#ed7953"
             ],
             [
              0.7777777777777778,
              "#fb9f3a"
             ],
             [
              0.8888888888888888,
              "#fdca26"
             ],
             [
              1,
              "#f0f921"
             ]
            ],
            "type": "heatmapgl"
           }
          ],
          "histogram": [
           {
            "marker": {
             "pattern": {
              "fillmode": "overlay",
              "size": 10,
              "solidity": 0.2
             }
            },
            "type": "histogram"
           }
          ],
          "histogram2d": [
           {
            "colorbar": {
             "outlinewidth": 0,
             "ticks": ""
            },
            "colorscale": [
             [
              0,
              "#0d0887"
             ],
             [
              0.1111111111111111,
              "#46039f"
             ],
             [
              0.2222222222222222,
              "#7201a8"
             ],
             [
              0.3333333333333333,
              "#9c179e"
             ],
             [
              0.4444444444444444,
              "#bd3786"
             ],
             [
              0.5555555555555556,
              "#d8576b"
             ],
             [
              0.6666666666666666,
              "#ed7953"
             ],
             [
              0.7777777777777778,
              "#fb9f3a"
             ],
             [
              0.8888888888888888,
              "#fdca26"
             ],
             [
              1,
              "#f0f921"
             ]
            ],
            "type": "histogram2d"
           }
          ],
          "histogram2dcontour": [
           {
            "colorbar": {
             "outlinewidth": 0,
             "ticks": ""
            },
            "colorscale": [
             [
              0,
              "#0d0887"
             ],
             [
              0.1111111111111111,
              "#46039f"
             ],
             [
              0.2222222222222222,
              "#7201a8"
             ],
             [
              0.3333333333333333,
              "#9c179e"
             ],
             [
              0.4444444444444444,
              "#bd3786"
             ],
             [
              0.5555555555555556,
              "#d8576b"
             ],
             [
              0.6666666666666666,
              "#ed7953"
             ],
             [
              0.7777777777777778,
              "#fb9f3a"
             ],
             [
              0.8888888888888888,
              "#fdca26"
             ],
             [
              1,
              "#f0f921"
             ]
            ],
            "type": "histogram2dcontour"
           }
          ],
          "mesh3d": [
           {
            "colorbar": {
             "outlinewidth": 0,
             "ticks": ""
            },
            "type": "mesh3d"
           }
          ],
          "parcoords": [
           {
            "line": {
             "colorbar": {
              "outlinewidth": 0,
              "ticks": ""
             }
            },
            "type": "parcoords"
           }
          ],
          "pie": [
           {
            "automargin": true,
            "type": "pie"
           }
          ],
          "scatter": [
           {
            "fillpattern": {
             "fillmode": "overlay",
             "size": 10,
             "solidity": 0.2
            },
            "type": "scatter"
           }
          ],
          "scatter3d": [
           {
            "line": {
             "colorbar": {
              "outlinewidth": 0,
              "ticks": ""
             }
            },
            "marker": {
             "colorbar": {
              "outlinewidth": 0,
              "ticks": ""
             }
            },
            "type": "scatter3d"
           }
          ],
          "scattercarpet": [
           {
            "marker": {
             "colorbar": {
              "outlinewidth": 0,
              "ticks": ""
             }
            },
            "type": "scattercarpet"
           }
          ],
          "scattergeo": [
           {
            "marker": {
             "colorbar": {
              "outlinewidth": 0,
              "ticks": ""
             }
            },
            "type": "scattergeo"
           }
          ],
          "scattergl": [
           {
            "marker": {
             "colorbar": {
              "outlinewidth": 0,
              "ticks": ""
             }
            },
            "type": "scattergl"
           }
          ],
          "scattermapbox": [
           {
            "marker": {
             "colorbar": {
              "outlinewidth": 0,
              "ticks": ""
             }
            },
            "type": "scattermapbox"
           }
          ],
          "scatterpolar": [
           {
            "marker": {
             "colorbar": {
              "outlinewidth": 0,
              "ticks": ""
             }
            },
            "type": "scatterpolar"
           }
          ],
          "scatterpolargl": [
           {
            "marker": {
             "colorbar": {
              "outlinewidth": 0,
              "ticks": ""
             }
            },
            "type": "scatterpolargl"
           }
          ],
          "scatterternary": [
           {
            "marker": {
             "colorbar": {
              "outlinewidth": 0,
              "ticks": ""
             }
            },
            "type": "scatterternary"
           }
          ],
          "surface": [
           {
            "colorbar": {
             "outlinewidth": 0,
             "ticks": ""
            },
            "colorscale": [
             [
              0,
              "#0d0887"
             ],
             [
              0.1111111111111111,
              "#46039f"
             ],
             [
              0.2222222222222222,
              "#7201a8"
             ],
             [
              0.3333333333333333,
              "#9c179e"
             ],
             [
              0.4444444444444444,
              "#bd3786"
             ],
             [
              0.5555555555555556,
              "#d8576b"
             ],
             [
              0.6666666666666666,
              "#ed7953"
             ],
             [
              0.7777777777777778,
              "#fb9f3a"
             ],
             [
              0.8888888888888888,
              "#fdca26"
             ],
             [
              1,
              "#f0f921"
             ]
            ],
            "type": "surface"
           }
          ],
          "table": [
           {
            "cells": {
             "fill": {
              "color": "#EBF0F8"
             },
             "line": {
              "color": "white"
             }
            },
            "header": {
             "fill": {
              "color": "#C8D4E3"
             },
             "line": {
              "color": "white"
             }
            },
            "type": "table"
           }
          ]
         },
         "layout": {
          "annotationdefaults": {
           "arrowcolor": "#2a3f5f",
           "arrowhead": 0,
           "arrowwidth": 1
          },
          "autotypenumbers": "strict",
          "coloraxis": {
           "colorbar": {
            "outlinewidth": 0,
            "ticks": ""
           }
          },
          "colorscale": {
           "diverging": [
            [
             0,
             "#8e0152"
            ],
            [
             0.1,
             "#c51b7d"
            ],
            [
             0.2,
             "#de77ae"
            ],
            [
             0.3,
             "#f1b6da"
            ],
            [
             0.4,
             "#fde0ef"
            ],
            [
             0.5,
             "#f7f7f7"
            ],
            [
             0.6,
             "#e6f5d0"
            ],
            [
             0.7,
             "#b8e186"
            ],
            [
             0.8,
             "#7fbc41"
            ],
            [
             0.9,
             "#4d9221"
            ],
            [
             1,
             "#276419"
            ]
           ],
           "sequential": [
            [
             0,
             "#0d0887"
            ],
            [
             0.1111111111111111,
             "#46039f"
            ],
            [
             0.2222222222222222,
             "#7201a8"
            ],
            [
             0.3333333333333333,
             "#9c179e"
            ],
            [
             0.4444444444444444,
             "#bd3786"
            ],
            [
             0.5555555555555556,
             "#d8576b"
            ],
            [
             0.6666666666666666,
             "#ed7953"
            ],
            [
             0.7777777777777778,
             "#fb9f3a"
            ],
            [
             0.8888888888888888,
             "#fdca26"
            ],
            [
             1,
             "#f0f921"
            ]
           ],
           "sequentialminus": [
            [
             0,
             "#0d0887"
            ],
            [
             0.1111111111111111,
             "#46039f"
            ],
            [
             0.2222222222222222,
             "#7201a8"
            ],
            [
             0.3333333333333333,
             "#9c179e"
            ],
            [
             0.4444444444444444,
             "#bd3786"
            ],
            [
             0.5555555555555556,
             "#d8576b"
            ],
            [
             0.6666666666666666,
             "#ed7953"
            ],
            [
             0.7777777777777778,
             "#fb9f3a"
            ],
            [
             0.8888888888888888,
             "#fdca26"
            ],
            [
             1,
             "#f0f921"
            ]
           ]
          },
          "colorway": [
           "#636efa",
           "#EF553B",
           "#00cc96",
           "#ab63fa",
           "#FFA15A",
           "#19d3f3",
           "#FF6692",
           "#B6E880",
           "#FF97FF",
           "#FECB52"
          ],
          "font": {
           "color": "#2a3f5f"
          },
          "geo": {
           "bgcolor": "white",
           "lakecolor": "white",
           "landcolor": "#E5ECF6",
           "showlakes": true,
           "showland": true,
           "subunitcolor": "white"
          },
          "hoverlabel": {
           "align": "left"
          },
          "hovermode": "closest",
          "mapbox": {
           "style": "light"
          },
          "paper_bgcolor": "white",
          "plot_bgcolor": "#E5ECF6",
          "polar": {
           "angularaxis": {
            "gridcolor": "white",
            "linecolor": "white",
            "ticks": ""
           },
           "bgcolor": "#E5ECF6",
           "radialaxis": {
            "gridcolor": "white",
            "linecolor": "white",
            "ticks": ""
           }
          },
          "scene": {
           "xaxis": {
            "backgroundcolor": "#E5ECF6",
            "gridcolor": "white",
            "gridwidth": 2,
            "linecolor": "white",
            "showbackground": true,
            "ticks": "",
            "zerolinecolor": "white"
           },
           "yaxis": {
            "backgroundcolor": "#E5ECF6",
            "gridcolor": "white",
            "gridwidth": 2,
            "linecolor": "white",
            "showbackground": true,
            "ticks": "",
            "zerolinecolor": "white"
           },
           "zaxis": {
            "backgroundcolor": "#E5ECF6",
            "gridcolor": "white",
            "gridwidth": 2,
            "linecolor": "white",
            "showbackground": true,
            "ticks": "",
            "zerolinecolor": "white"
           }
          },
          "shapedefaults": {
           "line": {
            "color": "#2a3f5f"
           }
          },
          "ternary": {
           "aaxis": {
            "gridcolor": "white",
            "linecolor": "white",
            "ticks": ""
           },
           "baxis": {
            "gridcolor": "white",
            "linecolor": "white",
            "ticks": ""
           },
           "bgcolor": "#E5ECF6",
           "caxis": {
            "gridcolor": "white",
            "linecolor": "white",
            "ticks": ""
           }
          },
          "title": {
           "x": 0.05
          },
          "xaxis": {
           "automargin": true,
           "gridcolor": "white",
           "linecolor": "white",
           "ticks": "",
           "title": {
            "standoff": 15
           },
           "zerolinecolor": "white",
           "zerolinewidth": 2
          },
          "yaxis": {
           "automargin": true,
           "gridcolor": "white",
           "linecolor": "white",
           "ticks": "",
           "title": {
            "standoff": 15
           },
           "zerolinecolor": "white",
           "zerolinewidth": 2
          }
         }
        }
       }
      }
     },
     "metadata": {},
     "output_type": "display_data"
    }
   ],
   "source": [
    "d = data.get_date_period('2009-01-01', '2009-01-02')\n",
    "fig = plot.map.heatmap(d, 'origin', 'royalblue', 'Origin Port')\n",
    "fig = plot.map.heatmap(d.get_delay(), 'origin', 'red', 'Delay', fig=fig)\n",
    "fig.show()"
   ]
  },
  {
   "cell_type": "code",
   "execution_count": 5,
   "metadata": {},
   "outputs": [
    {
     "data": {
      "application/vnd.plotly.v1+json": {
       "config": {
        "plotlyServerURL": "https://plot.ly"
       },
       "data": [
        {
         "lat": [
          18.00830078125,
          29.984399795532227,
          39.49909973144531,
          42.3643,
          40.692501,
          36.083361,
          39.861698150635,
          36.1245002746582,
          35.040199,
          41.93851,
          27.975500106811523,
          33.435302,
          38.748697,
          33.562901,
          33.6367,
          33.938801,
          37.649899,
          41.9786,
          32.115004,
          19.738783,
          44.882,
          40.639447,
          20.898543,
          40.785749
         ],
         "lon": [
          -66.56300354003906,
          -95.34140014648438,
          -119.76799774169922,
          -71.005203,
          -74.168701,
          -115.151817,
          -104.672996521,
          -86.6781997680664,
          -106.609001,
          -72.688066,
          -82.533203125,
          -112.005905,
          -90.370003,
          -86.753502,
          -84.428101,
          -81.119499,
          -97.433098,
          -87.9048,
          -110.938053,
          -156.045603,
          -93.221802,
          -73.779317,
          -156.431212,
          -111.979746
         ],
         "marker": {
          "color": "royalblue",
          "line": {
           "color": "rgb(40,40,40)",
           "width": 0.5
          },
          "size": [
           1,
           1,
           1,
           1,
           1,
           1,
           1,
           1,
           1,
           1,
           1,
           1,
           1,
           2,
           2,
           1,
           1,
           1,
           1,
           1,
           2,
           2,
           1,
           3
          ],
          "sizemode": "area"
         },
         "name": "Destination Port",
         "text": [
          "PR-U-A",
          "US-TX",
          "US-NV",
          "US-MA",
          "US-NJ",
          "US-NV",
          "US-CO",
          "US-TN",
          "US-NM",
          "US-CT",
          "US-FL",
          "US-AZ",
          "US-MO",
          "US-AL",
          "US-GA",
          "US-SC",
          "US-KS",
          "US-IL",
          "US-AZ",
          "US-HI",
          "US-MN",
          "US-NY",
          "US-HI",
          "US-UT"
         ],
         "type": "scattergeo"
        },
        {
         "lat": [
          42.3643,
          40.692501,
          39.861698150635,
          33.6367,
          20.898543,
          40.785749
         ],
         "lon": [
          -71.005203,
          -74.168701,
          -104.672996521,
          -84.428101,
          -156.431212,
          -111.979746
         ],
         "marker": {
          "color": "red",
          "line": {
           "color": "rgb(40,40,40)",
           "width": 0.5
          },
          "size": [
           1,
           1,
           1,
           1,
           1,
           2
          ],
          "sizemode": "area"
         },
         "name": "Delay",
         "text": [
          "US-MA",
          "US-NJ",
          "US-CO",
          "US-GA",
          "US-HI",
          "US-UT"
         ],
         "type": "scattergeo"
        }
       ],
       "layout": {
        "geo": {
         "countrycolor": "rgb(204, 204, 204)",
         "landcolor": "rgb(243, 243, 243)",
         "projection": {
          "type": "azimuthal equal area"
         },
         "scope": "north america",
         "showland": true
        },
        "margin": {
         "b": 0,
         "l": 0,
         "r": 0,
         "t": 0
        },
        "template": {
         "data": {
          "bar": [
           {
            "error_x": {
             "color": "#2a3f5f"
            },
            "error_y": {
             "color": "#2a3f5f"
            },
            "marker": {
             "line": {
              "color": "#E5ECF6",
              "width": 0.5
             },
             "pattern": {
              "fillmode": "overlay",
              "size": 10,
              "solidity": 0.2
             }
            },
            "type": "bar"
           }
          ],
          "barpolar": [
           {
            "marker": {
             "line": {
              "color": "#E5ECF6",
              "width": 0.5
             },
             "pattern": {
              "fillmode": "overlay",
              "size": 10,
              "solidity": 0.2
             }
            },
            "type": "barpolar"
           }
          ],
          "carpet": [
           {
            "aaxis": {
             "endlinecolor": "#2a3f5f",
             "gridcolor": "white",
             "linecolor": "white",
             "minorgridcolor": "white",
             "startlinecolor": "#2a3f5f"
            },
            "baxis": {
             "endlinecolor": "#2a3f5f",
             "gridcolor": "white",
             "linecolor": "white",
             "minorgridcolor": "white",
             "startlinecolor": "#2a3f5f"
            },
            "type": "carpet"
           }
          ],
          "choropleth": [
           {
            "colorbar": {
             "outlinewidth": 0,
             "ticks": ""
            },
            "type": "choropleth"
           }
          ],
          "contour": [
           {
            "colorbar": {
             "outlinewidth": 0,
             "ticks": ""
            },
            "colorscale": [
             [
              0,
              "#0d0887"
             ],
             [
              0.1111111111111111,
              "#46039f"
             ],
             [
              0.2222222222222222,
              "#7201a8"
             ],
             [
              0.3333333333333333,
              "#9c179e"
             ],
             [
              0.4444444444444444,
              "#bd3786"
             ],
             [
              0.5555555555555556,
              "#d8576b"
             ],
             [
              0.6666666666666666,
              "#ed7953"
             ],
             [
              0.7777777777777778,
              "#fb9f3a"
             ],
             [
              0.8888888888888888,
              "#fdca26"
             ],
             [
              1,
              "#f0f921"
             ]
            ],
            "type": "contour"
           }
          ],
          "contourcarpet": [
           {
            "colorbar": {
             "outlinewidth": 0,
             "ticks": ""
            },
            "type": "contourcarpet"
           }
          ],
          "heatmap": [
           {
            "colorbar": {
             "outlinewidth": 0,
             "ticks": ""
            },
            "colorscale": [
             [
              0,
              "#0d0887"
             ],
             [
              0.1111111111111111,
              "#46039f"
             ],
             [
              0.2222222222222222,
              "#7201a8"
             ],
             [
              0.3333333333333333,
              "#9c179e"
             ],
             [
              0.4444444444444444,
              "#bd3786"
             ],
             [
              0.5555555555555556,
              "#d8576b"
             ],
             [
              0.6666666666666666,
              "#ed7953"
             ],
             [
              0.7777777777777778,
              "#fb9f3a"
             ],
             [
              0.8888888888888888,
              "#fdca26"
             ],
             [
              1,
              "#f0f921"
             ]
            ],
            "type": "heatmap"
           }
          ],
          "heatmapgl": [
           {
            "colorbar": {
             "outlinewidth": 0,
             "ticks": ""
            },
            "colorscale": [
             [
              0,
              "#0d0887"
             ],
             [
              0.1111111111111111,
              "#46039f"
             ],
             [
              0.2222222222222222,
              "#7201a8"
             ],
             [
              0.3333333333333333,
              "#9c179e"
             ],
             [
              0.4444444444444444,
              "#bd3786"
             ],
             [
              0.5555555555555556,
              "#d8576b"
             ],
             [
              0.6666666666666666,
              "#ed7953"
             ],
             [
              0.7777777777777778,
              "#fb9f3a"
             ],
             [
              0.8888888888888888,
              "#fdca26"
             ],
             [
              1,
              "#f0f921"
             ]
            ],
            "type": "heatmapgl"
           }
          ],
          "histogram": [
           {
            "marker": {
             "pattern": {
              "fillmode": "overlay",
              "size": 10,
              "solidity": 0.2
             }
            },
            "type": "histogram"
           }
          ],
          "histogram2d": [
           {
            "colorbar": {
             "outlinewidth": 0,
             "ticks": ""
            },
            "colorscale": [
             [
              0,
              "#0d0887"
             ],
             [
              0.1111111111111111,
              "#46039f"
             ],
             [
              0.2222222222222222,
              "#7201a8"
             ],
             [
              0.3333333333333333,
              "#9c179e"
             ],
             [
              0.4444444444444444,
              "#bd3786"
             ],
             [
              0.5555555555555556,
              "#d8576b"
             ],
             [
              0.6666666666666666,
              "#ed7953"
             ],
             [
              0.7777777777777778,
              "#fb9f3a"
             ],
             [
              0.8888888888888888,
              "#fdca26"
             ],
             [
              1,
              "#f0f921"
             ]
            ],
            "type": "histogram2d"
           }
          ],
          "histogram2dcontour": [
           {
            "colorbar": {
             "outlinewidth": 0,
             "ticks": ""
            },
            "colorscale": [
             [
              0,
              "#0d0887"
             ],
             [
              0.1111111111111111,
              "#46039f"
             ],
             [
              0.2222222222222222,
              "#7201a8"
             ],
             [
              0.3333333333333333,
              "#9c179e"
             ],
             [
              0.4444444444444444,
              "#bd3786"
             ],
             [
              0.5555555555555556,
              "#d8576b"
             ],
             [
              0.6666666666666666,
              "#ed7953"
             ],
             [
              0.7777777777777778,
              "#fb9f3a"
             ],
             [
              0.8888888888888888,
              "#fdca26"
             ],
             [
              1,
              "#f0f921"
             ]
            ],
            "type": "histogram2dcontour"
           }
          ],
          "mesh3d": [
           {
            "colorbar": {
             "outlinewidth": 0,
             "ticks": ""
            },
            "type": "mesh3d"
           }
          ],
          "parcoords": [
           {
            "line": {
             "colorbar": {
              "outlinewidth": 0,
              "ticks": ""
             }
            },
            "type": "parcoords"
           }
          ],
          "pie": [
           {
            "automargin": true,
            "type": "pie"
           }
          ],
          "scatter": [
           {
            "fillpattern": {
             "fillmode": "overlay",
             "size": 10,
             "solidity": 0.2
            },
            "type": "scatter"
           }
          ],
          "scatter3d": [
           {
            "line": {
             "colorbar": {
              "outlinewidth": 0,
              "ticks": ""
             }
            },
            "marker": {
             "colorbar": {
              "outlinewidth": 0,
              "ticks": ""
             }
            },
            "type": "scatter3d"
           }
          ],
          "scattercarpet": [
           {
            "marker": {
             "colorbar": {
              "outlinewidth": 0,
              "ticks": ""
             }
            },
            "type": "scattercarpet"
           }
          ],
          "scattergeo": [
           {
            "marker": {
             "colorbar": {
              "outlinewidth": 0,
              "ticks": ""
             }
            },
            "type": "scattergeo"
           }
          ],
          "scattergl": [
           {
            "marker": {
             "colorbar": {
              "outlinewidth": 0,
              "ticks": ""
             }
            },
            "type": "scattergl"
           }
          ],
          "scattermapbox": [
           {
            "marker": {
             "colorbar": {
              "outlinewidth": 0,
              "ticks": ""
             }
            },
            "type": "scattermapbox"
           }
          ],
          "scatterpolar": [
           {
            "marker": {
             "colorbar": {
              "outlinewidth": 0,
              "ticks": ""
             }
            },
            "type": "scatterpolar"
           }
          ],
          "scatterpolargl": [
           {
            "marker": {
             "colorbar": {
              "outlinewidth": 0,
              "ticks": ""
             }
            },
            "type": "scatterpolargl"
           }
          ],
          "scatterternary": [
           {
            "marker": {
             "colorbar": {
              "outlinewidth": 0,
              "ticks": ""
             }
            },
            "type": "scatterternary"
           }
          ],
          "surface": [
           {
            "colorbar": {
             "outlinewidth": 0,
             "ticks": ""
            },
            "colorscale": [
             [
              0,
              "#0d0887"
             ],
             [
              0.1111111111111111,
              "#46039f"
             ],
             [
              0.2222222222222222,
              "#7201a8"
             ],
             [
              0.3333333333333333,
              "#9c179e"
             ],
             [
              0.4444444444444444,
              "#bd3786"
             ],
             [
              0.5555555555555556,
              "#d8576b"
             ],
             [
              0.6666666666666666,
              "#ed7953"
             ],
             [
              0.7777777777777778,
              "#fb9f3a"
             ],
             [
              0.8888888888888888,
              "#fdca26"
             ],
             [
              1,
              "#f0f921"
             ]
            ],
            "type": "surface"
           }
          ],
          "table": [
           {
            "cells": {
             "fill": {
              "color": "#EBF0F8"
             },
             "line": {
              "color": "white"
             }
            },
            "header": {
             "fill": {
              "color": "#C8D4E3"
             },
             "line": {
              "color": "white"
             }
            },
            "type": "table"
           }
          ]
         },
         "layout": {
          "annotationdefaults": {
           "arrowcolor": "#2a3f5f",
           "arrowhead": 0,
           "arrowwidth": 1
          },
          "autotypenumbers": "strict",
          "coloraxis": {
           "colorbar": {
            "outlinewidth": 0,
            "ticks": ""
           }
          },
          "colorscale": {
           "diverging": [
            [
             0,
             "#8e0152"
            ],
            [
             0.1,
             "#c51b7d"
            ],
            [
             0.2,
             "#de77ae"
            ],
            [
             0.3,
             "#f1b6da"
            ],
            [
             0.4,
             "#fde0ef"
            ],
            [
             0.5,
             "#f7f7f7"
            ],
            [
             0.6,
             "#e6f5d0"
            ],
            [
             0.7,
             "#b8e186"
            ],
            [
             0.8,
             "#7fbc41"
            ],
            [
             0.9,
             "#4d9221"
            ],
            [
             1,
             "#276419"
            ]
           ],
           "sequential": [
            [
             0,
             "#0d0887"
            ],
            [
             0.1111111111111111,
             "#46039f"
            ],
            [
             0.2222222222222222,
             "#7201a8"
            ],
            [
             0.3333333333333333,
             "#9c179e"
            ],
            [
             0.4444444444444444,
             "#bd3786"
            ],
            [
             0.5555555555555556,
             "#d8576b"
            ],
            [
             0.6666666666666666,
             "#ed7953"
            ],
            [
             0.7777777777777778,
             "#fb9f3a"
            ],
            [
             0.8888888888888888,
             "#fdca26"
            ],
            [
             1,
             "#f0f921"
            ]
           ],
           "sequentialminus": [
            [
             0,
             "#0d0887"
            ],
            [
             0.1111111111111111,
             "#46039f"
            ],
            [
             0.2222222222222222,
             "#7201a8"
            ],
            [
             0.3333333333333333,
             "#9c179e"
            ],
            [
             0.4444444444444444,
             "#bd3786"
            ],
            [
             0.5555555555555556,
             "#d8576b"
            ],
            [
             0.6666666666666666,
             "#ed7953"
            ],
            [
             0.7777777777777778,
             "#fb9f3a"
            ],
            [
             0.8888888888888888,
             "#fdca26"
            ],
            [
             1,
             "#f0f921"
            ]
           ]
          },
          "colorway": [
           "#636efa",
           "#EF553B",
           "#00cc96",
           "#ab63fa",
           "#FFA15A",
           "#19d3f3",
           "#FF6692",
           "#B6E880",
           "#FF97FF",
           "#FECB52"
          ],
          "font": {
           "color": "#2a3f5f"
          },
          "geo": {
           "bgcolor": "white",
           "lakecolor": "white",
           "landcolor": "#E5ECF6",
           "showlakes": true,
           "showland": true,
           "subunitcolor": "white"
          },
          "hoverlabel": {
           "align": "left"
          },
          "hovermode": "closest",
          "mapbox": {
           "style": "light"
          },
          "paper_bgcolor": "white",
          "plot_bgcolor": "#E5ECF6",
          "polar": {
           "angularaxis": {
            "gridcolor": "white",
            "linecolor": "white",
            "ticks": ""
           },
           "bgcolor": "#E5ECF6",
           "radialaxis": {
            "gridcolor": "white",
            "linecolor": "white",
            "ticks": ""
           }
          },
          "scene": {
           "xaxis": {
            "backgroundcolor": "#E5ECF6",
            "gridcolor": "white",
            "gridwidth": 2,
            "linecolor": "white",
            "showbackground": true,
            "ticks": "",
            "zerolinecolor": "white"
           },
           "yaxis": {
            "backgroundcolor": "#E5ECF6",
            "gridcolor": "white",
            "gridwidth": 2,
            "linecolor": "white",
            "showbackground": true,
            "ticks": "",
            "zerolinecolor": "white"
           },
           "zaxis": {
            "backgroundcolor": "#E5ECF6",
            "gridcolor": "white",
            "gridwidth": 2,
            "linecolor": "white",
            "showbackground": true,
            "ticks": "",
            "zerolinecolor": "white"
           }
          },
          "shapedefaults": {
           "line": {
            "color": "#2a3f5f"
           }
          },
          "ternary": {
           "aaxis": {
            "gridcolor": "white",
            "linecolor": "white",
            "ticks": ""
           },
           "baxis": {
            "gridcolor": "white",
            "linecolor": "white",
            "ticks": ""
           },
           "bgcolor": "#E5ECF6",
           "caxis": {
            "gridcolor": "white",
            "linecolor": "white",
            "ticks": ""
           }
          },
          "title": {
           "x": 0.05
          },
          "xaxis": {
           "automargin": true,
           "gridcolor": "white",
           "linecolor": "white",
           "ticks": "",
           "title": {
            "standoff": 15
           },
           "zerolinecolor": "white",
           "zerolinewidth": 2
          },
          "yaxis": {
           "automargin": true,
           "gridcolor": "white",
           "linecolor": "white",
           "ticks": "",
           "title": {
            "standoff": 15
           },
           "zerolinecolor": "white",
           "zerolinewidth": 2
          }
         }
        }
       }
      }
     },
     "metadata": {},
     "output_type": "display_data"
    }
   ],
   "source": [
    "d = data.get_date_period('2009-01-01', '2009-01-02')\n",
    "fig = plot.map.heatmap(d, 'dest', 'royalblue', 'Destination Port')\n",
    "fig = plot.map.heatmap(d.get_delay(), 'dest', 'red', 'Delay', fig=fig)\n",
    "fig.show()"
   ]
  },
  {
   "cell_type": "code",
   "execution_count": 6,
   "metadata": {},
   "outputs": [
    {
     "data": {
      "application/vnd.plotly.v1+json": {
       "config": {
        "plotlyServerURL": "https://plot.ly"
       },
       "data": [
        {
         "lat": [
          42.20869827,
          18.00830078125,
          48.566200256347656,
          29.99340057373047,
          -14.331,
          47.6199,
          33.675701,
          34.197703,
          44.483459,
          47.48199844,
          43.514599,
          42.88079834,
          40.2192,
          44.12459945678711,
          56.80170059,
          41.725038,
          36.097801,
          33.6796989441,
          37.721298,
          43.1399,
          46.92070007324219,
          44.520199,
          46.3536,
          35.336601,
          45.95479965209961,
          70.19470215,
          45.7226982117,
          38.8521,
          41.884701,
          32.510899,
          46.3745002746582,
          33.450298309299995,
          36.161201477051,
          46.6068,
          46.25080108642578,
          38.036499,
          44.2541008,
          46.92969894,
          36.8946,
          40.849374,
          38.0369987488,
          55.35559845,
          38.3731,
          44.7775993347,
          32.12760162,
          37.9275016785,
          60.491798,
          36.475201,
          39.998001,
          37.625801,
          40.916099548339844,
          32.35409927368164,
          38.13859939575195,
          30.6912,
          30.4734,
          41.78020096,
          21.976,
          29.984399795532227,
          21.32062,
          32.446602,
          42.083127,
          58.4253006,
          37.362452,
          39.048801,
          41.5868,
          40.777199,
          30.3965,
          42.94049835,
          37.70100021362305,
          31.611299514770508,
          41.06700134277344,
          40.50899887,
          41.448502,
          30.197535,
          44.3489,
          18.4393997192,
          44.258099,
          31.321300506591797,
          39.126663,
          33.816523,
          35.436199,
          37.326698,
          47.949299,
          35.433601,
          38.755001,
          39.49909973144531,
          27.395399,
          41.708698,
          24.556101,
          47.50939941,
          40.27669906616211,
          43.908298,
          43.6072998046875,
          32.898602,
          36.19839859008789,
          26.228500366210938,
          26.53619956970215,
          35.219398,
          40.79520035,
          42.3643,
          28.1028,
          31.942499,
          40.692501,
          36.083361,
          46.772701263427734,
          32.311199,
          19.721399,
          64.81510162,
          36.281898,
          46.842098,
          39.861698150635,
          35.0730018616,
          37.036389,
          42.74829864501953,
          42.908001,
          40.85100173950195,
          40.967498779296875,
          64.51219940185547,
          38.9445,
          33.8297,
          34.42620087,
          43.5644,
          32.3326,
          32.6875,
          37.151501,
          25.90679931640625,
          46.402861,
          41.5942,
          40.4771,
          47.449162,
          42.77870178222656,
          40.039819,
          27.543800354003906,
          30.782499313354492,
          43.0778999329,
          39.2976,
          35.1385,
          31.0672,
          35.2140007019043,
          36.1245002746582,
          44.74140167236328,
          30.58860016,
          37.2253,
          46.26470184326172,
          48.79280090332031,
          39.79539871,
          42.2673,
          35.040199,
          26.68320083618164,
          27.9102,
          38.1744,
          40.978101,
          34.5676994324,
          32.847099,
          36.58700180053711,
          41.93851,
          42.49100112915039,
          42.402,
          41.4117012024,
          45.58869934,
          41.25310135,
          25.79319953918457,
          42.37419891357422,
          42.4818,
          39.1754,
          27.975500106811523,
          47.168399810791016,
          35.393101,
          37.3255,
          38.69540023803711,
          71.285402,
          39.844101,
          43.41709899902344,
          28.777599334716797,
          32.4113006592,
          43.532902,
          33.435302,
          48.31050109863281,
          45.449100494384766,
          48.114201,
          38.748697,
          43.646198,
          31.532946,
          60.77980042,
          32.896801,
          42.932598,
          33.453701,
          40.651773,
          34.895699,
          43.879002,
          17.701900482177734,
          34.991199,
          40.481201,
          42.156101,
          33.663601,
          40.82490158081055,
          27.770399,
          39.64260101,
          43.585463,
          41.504101,
          31.258800506591797,
          32.516300201416016,
          43.50439835,
          37.61899948120117,
          35.04240036010742,
          35.6171,
          31.80719948,
          33.562901,
          33.6367,
          26.072599,
          42.96540069580078,
          42.9098014831543,
          33.3078,
          37.50519943237305,
          39.902401,
          37.131901,
          41.3032,
          31.35770034790039,
          30.126100540161133,
          30.4832,
          39.14099884033203,
          29.9508,
          34.729582,
          33.938801,
          36.776199,
          37.649899,
          30.357106,
          41.9786,
          41.338500976599995,
          44.471901,
          43.169498,
          45.807701,
          33.9888,
          31.3274,
          34.270599365234375,
          34.898899,
          40.6642,
          13.4834,
          35.877601623535156,
          18.4949,
          26.176141,
          47.3866,
          42.947200775146484,
          43.11119842529297,
          null,
          30.205299,
          34.637199,
          40.49150085,
          32.115004,
          33.301601,
          39.45759963989258,
          38.5098,
          41.785999,
          42.234901428222656,
          34.829201,
          38.805801,
          58.35499954223633,
          39.7173,
          42.557098388671875,
          19.738783,
          44.86579895019531,
          30.407301,
          32.300598,
          42.212398529052734,
          29.645399,
          35.811001,
          35.035301,
          32.656601,
          57.75,
          40.9785,
          34.055999755859375,
          40.193501,
          30.49410057067871,
          33.942501,
          44.882,
          48.2593994140625,
          30.533199,
          44.8074,
          28.429399490356445,
          37.245701,
          43.1189,
          33.3699,
          44.68840027,
          66.88469696,
          32.7336006165,
          45.77750015,
          32.38399887084961,
          59.508717,
          40.639447,
          61.1744,
          29.179899,
          37.06079864501953,
          42.397605,
          46.91630173,
          29.6900997162,
          20.898543,
          39.87189865112305,
          41.534,
          40.785749,
          29.533701,
          18.337091,
          44.0452995300293,
          33.1283,
          39.223202,
          35.236801147499996
         ],
         "lon": [
          -75.97979736,
          -66.56300354003906,
          -93.4030990600586,
          -90.25800323486328,
          -170.710007,
          -117.533997,
          -117.867996,
          -118.356378,
          -88.130805,
          -111.3710022,
          -112.070999,
          -85.52279663,
          -111.723,
          -123.21199798583984,
          -132.9450073,
          -71.425668,
          -79.937302,
          -78.9282989502,
          -122.221001,
          -89.337502,
          -96.81580352783203,
          -109.024002,
          -87.395401,
          -94.367401,
          -112.49700164794922,
          -148.4649963,
          -87.0936965942,
          -77.037697,
          -91.7108,
          -92.037697,
          -117.01499938964844,
          -88.5914001465,
          -97.08570098877,
          -111.983002,
          -84.47239685058594,
          -84.605904,
          -121.1500015,
          -98.67819977,
          -76.201202,
          -77.84852,
          -87.5324020386,
          -131.7140045,
          -81.593201,
          -89.6668014526,
          -81.20210266,
          -100.723999023,
          -145.477997,
          -82.407401,
          -82.891899,
          -120.954002,
          -81.44219970703125,
          -95.40239715576172,
          -78.4529037475586,
          -88.242798,
          -87.1866,
          -124.2369995,
          -159.339005,
          -95.34140014648438,
          -157.924228,
          -93.8256,
          -80.173867,
          -135.7070007,
          -121.929188,
          -84.667801,
          -83.8078,
          -73.872597,
          -84.350304,
          -78.73220062,
          -113.0989990234375,
          -97.23049926757812,
          -73.70760345458984,
          -122.2929993,
          -90.5075,
          -97.662015,
          -105.539001,
          -66.0018005371,
          -88.519096,
          -85.44960021972656,
          -108.529387,
          -118.149891,
          -82.541801,
          -79.200401,
          -97.176102,
          -119.056999,
          -109.754997,
          -119.76799774169922,
          -82.554398,
          -86.317299,
          -81.759598,
          -94.93370056,
          -74.8134994506836,
          -92.5,
          -110.73799896240234,
          -80.040497,
          -95.88809967041016,
          -97.65440368652344,
          -81.75520324707031,
          -101.706001,
          -73.10019684,
          -71.005203,
          -80.645302,
          -102.202003,
          -74.168701,
          -115.151817,
          -100.74600219726562,
          -90.075897,
          -155.048004,
          -147.8560028,
          -94.306801,
          -92.193604,
          -104.672996521,
          -77.04290008539999,
          -113.510306,
          -73.80169677734375,
          -106.463997,
          -96.75920104980469,
          -98.30960083007812,
          -165.44500732421875,
          -77.455803,
          -116.507004,
          -119.8399963,
          -116.223,
          -88.7519,
          -103.217003,
          -107.753998,
          -97.4259033203125,
          -94.129727,
          -109.065001,
          -88.915901,
          -122.311134,
          -84.58740234375,
          -88.276249,
          -99.46160125732422,
          -83.27670288085938,
          -70.8233032227,
          -94.713898,
          -111.670998,
          -97.828903,
          -80.94309997558594,
          -86.6781997680664,
          -85.58219909667969,
          -96.36380005,
          -89.570801,
          -119.11900329589844,
          -122.53800201416016,
          -121.8580017,
          -71.875702,
          -106.609001,
          -80.09559631347656,
          -82.687401,
          -85.736,
          -124.109,
          -98.4166030884,
          -96.851799,
          -121.84300231933594,
          -72.688066,
          -76.4583969116211,
          -90.709503,
          -81.8498001099,
          -122.5979996,
          -70.06020355,
          -80.29060363769531,
          -122.87300109863281,
          -114.487999,
          -76.668297,
          -82.533203125,
          -88.48909759521484,
          -97.6007,
          -79.975403,
          -121.59100341796875,
          -156.766008,
          -89.677902,
          -124.24600219726562,
          -81.23750305175781,
          -99.68190002440001,
          -84.079597,
          -112.005905,
          -114.25599670410156,
          -98.42179870605469,
          -98.908798,
          -90.370003,
          -70.309303,
          -84.196215,
          -161.8379974,
          -97.038002,
          -71.435699,
          -93.990997,
          -75.442797,
          -82.218903,
          -91.256699,
          -64.79859924316406,
          -78.880302,
          -107.218002,
          -121.733002,
          -101.822998,
          -115.79199981689453,
          -97.501198,
          -106.9179993,
          -96.741152,
          -74.104797,
          -81.46649932861328,
          -84.93890380859375,
          -114.2959976,
          -122.375,
          -89.97669982910156,
          -106.088997,
          -106.3779984,
          -86.753502,
          -84.428101,
          -80.152702,
          -83.74359893798828,
          -112.59600067138672,
          -111.654999,
          -77.3197021484375,
          -84.219398,
          -76.492996,
          -95.894096,
          -100.49600219726562,
          -93.22329711914062,
          -86.525398,
          -96.6707992553711,
          -94.020699,
          -92.223728,
          -81.119499,
          -119.718002,
          -97.433098,
          -85.795414,
          -87.9048,
          -75.72339630130001,
          -73.153297,
          -86.238197,
          -108.542999,
          -98.491898,
          -92.549797,
          -77.90260314941406,
          -120.457001,
          -89.693298,
          144.796005,
          -78.7874984741211,
          -67.129402,
          -98.237965,
          -92.838997,
          -87.89659881591797,
          -76.1063003540039,
          null,
          -91.987602,
          -86.775101,
          -80.23290253,
          -110.938053,
          -104.530998,
          -74.57720184326172,
          -107.893997,
          -87.752403,
          -85.5521011352539,
          -77.612099,
          -104.700996,
          -134.5760040283203,
          -86.294403,
          -92.40029907226562,
          -156.045603,
          -91.48429870605469,
          -89.070099,
          -86.393997,
          -83.35340118408203,
          -95.2789,
          -83.994003,
          -85.203796,
          -114.606003,
          -152.4940033,
          -85.195099,
          -117.60099792480469,
          -76.763397,
          -81.68789672851562,
          -118.407997,
          -93.221802,
          -101.27999877929688,
          -91.149597,
          -68.828102,
          -81.30899810791016,
          -93.388603,
          -77.672401,
          -81.9645,
          -111.1179962,
          -162.598999,
          -117.190002441,
          -111.1529999,
          -94.71150207519531,
          -139.660435,
          -73.779317,
          -149.996002,
          -81.058098,
          -88.7738037109375,
          -96.382237,
          -114.0910034,
          -82.2717971802,
          -156.431212,
          -75.24109649658203,
          -93.663101,
          -111.979746,
          -98.469803,
          -64.977251,
          -103.05699920654297,
          -117.279999,
          -106.869003,
          -120.641998291
         ],
         "marker": {
          "color": "royalblue",
          "line": {
           "color": "rgb(40,40,40)",
           "width": 0.5
          },
          "size": [
           1,
           2,
           1,
           128,
           1,
           30,
           168,
           106,
           9,
           11,
           6,
           48,
           1,
           18,
           3,
           46,
           31,
           10,
           199,
           29,
           22,
           8,
           4,
           8,
           1,
           2,
           1,
           271,
           25,
           7,
           3,
           2,
           1,
           5,
           1,
           19,
           14,
           3,
           44,
           3,
           9,
           11,
           10,
           8,
           25,
           1,
           1,
           4,
           86,
           2,
           26,
           4,
           7,
           18,
           31,
           1,
           49,
           553,
           236,
           13,
           3,
           1,
           164,
           81,
           3,
           240,
           22,
           74,
           6,
           5,
           28,
           4,
           11,
           170,
           5,
           84,
           16,
           7,
           14,
           54,
           13,
           1,
           5,
           11,
           1,
           69,
           11,
           12,
           5,
           1,
           6,
           4,
           8,
           43,
           61,
           9,
           76,
           25,
           27,
           294,
           7,
           24,
           297,
           486,
           8,
           21,
           47,
           12,
           41,
           10,
           716,
           5,
           10,
           40,
           4,
           9,
           3,
           2,
           180,
           37,
           30,
           41,
           4,
           1,
           14,
           6,
           2,
           5,
           6,
           373,
           12,
           3,
           17,
           4,
           1,
           150,
           4,
           12,
           471,
           189,
           13,
           8,
           1,
           8,
           3,
           1,
           2,
           104,
           69,
           3,
           53,
           6,
           2,
           187,
           15,
           74,
           1,
           1,
           155,
           189,
           2,
           203,
           11,
           5,
           315,
           207,
           3,
           74,
           9,
           157,
           5,
           3,
           2,
           2,
           8,
           6,
           672,
           10,
           1,
           1,
           211,
           12,
           3,
           3,
           764,
           26,
           2,
           6,
           25,
           2,
           3,
           9,
           6,
           3,
           21,
           2,
           24,
           7,
           19,
           3,
           3,
           4,
           4,
           432,
           113,
           7,
           65,
           47,
           1189,
           246,
           18,
           4,
           2,
           56,
           44,
           7,
           68,
           4,
           8,
           19,
           9,
           2,
           70,
           22,
           41,
           36,
           15,
           784,
           6,
           17,
           4,
           13,
           2,
           11,
           11,
           4,
           14,
           3,
           149,
           6,
           11,
           4,
           126,
           24,
           4,
           20,
           18,
           110,
           67,
           4,
           5,
           4,
           290,
           4,
           6,
           34,
           16,
           97,
           2,
           58,
           1,
           20,
           16,
           394,
           176,
           33,
           12,
           9,
           2,
           14,
           91,
           14,
           74,
           725,
           366,
           7,
           26,
           7,
           392,
           25,
           36,
           9,
           2,
           6,
           305,
           16,
           4,
           3,
           304,
           63,
           5,
           3,
           1,
           14,
           7,
           120,
           228,
           35,
           396,
           135,
           4,
           15,
           4,
           16,
           16
          ],
          "sizemode": "area"
         },
         "name": "",
         "text": [
          "US-NY",
          "PR-U-A",
          "US-MN",
          "US-LA",
          "AS-WT",
          "US-WA",
          "US-CA",
          "US-CA",
          "US-WI",
          "US-MT",
          "US-ID",
          "US-MI",
          "US-UT",
          "US-OR",
          "US-AK",
          "US-RI",
          "US-NC",
          "US-SC",
          "US-CA",
          "US-WI",
          "US-ND",
          "US-WY",
          "US-MI",
          "US-AR",
          "US-MT",
          "US-AK",
          "US-MI",
          "US-DC",
          "US-IA",
          "US-LA",
          "US-ID",
          "US-MS",
          "US-OK",
          "US-MT",
          "US-MI",
          "US-KY",
          "US-OR",
          "US-ND",
          "US-VA",
          "US-PA",
          "US-IN",
          "US-AK",
          "US-WV",
          "US-WI",
          "US-GA",
          "US-KS",
          "US-AK",
          "US-TN",
          "US-OH",
          "US-CA",
          "US-OH",
          "US-TX",
          "US-VA",
          "US-AL",
          "US-FL",
          "US-CA",
          "US-HI",
          "US-TX",
          "US-HI",
          "US-LA",
          "US-PA",
          "US-AK",
          "US-CA",
          "US-KY",
          "US-OH",
          "US-NY",
          "US-FL",
          "US-NY",
          "US-UT",
          "US-TX",
          "US-NY",
          "US-CA",
          "US-IL",
          "US-TX",
          "US-WY",
          "PR-U-A",
          "US-WI",
          "US-AL",
          "US-CO",
          "US-CA",
          "US-NC",
          "US-VA",
          "US-ND",
          "US-CA",
          "US-UT",
          "US-NV",
          "US-FL",
          "US-IN",
          "US-FL",
          "US-MN",
          "US-NJ",
          "US-MN",
          "US-WY",
          "US-SC",
          "US-OK",
          "US-TX",
          "US-FL",
          "US-TX",
          "US-NY",
          "US-MA",
          "US-FL",
          "US-TX",
          "US-NJ",
          "US-NV",
          "US-ND",
          "US-MS",
          "US-HI",
          "US-AK",
          "US-AR",
          "US-MN",
          "US-CO",
          "US-NC",
          "US-UT",
          "US-NY",
          "US-WY",
          "US-NE",
          "US-NE",
          "US-AK",
          "US-VA",
          "US-CA",
          "US-CA",
          "US-ID",
          "US-MS",
          "US-NM",
          "US-CO",
          "US-TX",
          "US-MN",
          "US-WY",
          "US-IL",
          "US-WA",
          "US-MI",
          "US-IL",
          "US-TX",
          "US-GA",
          "US-NH",
          "US-MO",
          "US-AZ",
          "US-TX",
          "US-NC",
          "US-TN",
          "US-MI",
          "US-TX",
          "US-MO",
          "US-WA",
          "US-WA",
          "US-CA",
          "US-MA",
          "US-NM",
          "US-FL",
          "US-FL",
          "US-KY",
          "US-CA",
          "US-OK",
          "US-TX",
          "US-CA",
          "US-CT",
          "US-NY",
          "US-IA",
          "US-OH",
          "US-OR",
          "US-MA",
          "US-FL",
          "US-OR",
          "US-ID",
          "US-MD",
          "US-FL",
          "US-MI",
          "US-OK",
          "US-VA",
          "US-CA",
          "US-AK",
          "US-IL",
          "US-OR",
          "US-FL",
          "US-TX",
          "US-MI",
          "US-AZ",
          "US-MT",
          "US-SD",
          "US-ND",
          "US-MO",
          "US-ME",
          "US-GA",
          "US-AK",
          "US-TX",
          "US-NH",
          "US-AR",
          "US-PA",
          "US-SC",
          "US-WI",
          "VI-U-A",
          "US-NC",
          "US-CO",
          "US-OR",
          "US-TX",
          "US-NV",
          "US-TX",
          "US-CO",
          "US-SD",
          "US-NY",
          "US-GA",
          "US-GA",
          "US-ID",
          "US-CA",
          "US-TN",
          "US-NM",
          "US-TX",
          "US-AL",
          "US-GA",
          "US-FL",
          "US-MI",
          "US-ID",
          "US-AZ",
          "US-VA",
          "US-OH",
          "US-VA",
          "US-NE",
          "US-TX",
          "US-LA",
          "US-FL",
          "US-KS",
          "US-TX",
          "US-AR",
          "US-SC",
          "US-CA",
          "US-KS",
          "US-FL",
          "US-IL",
          "US-PA",
          "US-VT",
          "US-MI",
          "US-MT",
          "US-TX",
          "US-LA",
          "US-NC",
          "US-CA",
          "US-IL",
          "GU-U-A",
          "US-NC",
          "PR-U-A",
          "US-TX",
          "US-MN",
          "US-WI",
          "US-NY",
          null,
          "US-LA",
          "US-AL",
          "US-PA",
          "US-AZ",
          "US-NM",
          "US-NJ",
          "US-CO",
          "US-IL",
          "US-MI",
          "US-NC",
          "US-CO",
          "US-AK",
          "US-IN",
          "US-IA",
          "US-HI",
          "US-WI",
          "US-MS",
          "US-AL",
          "US-MI",
          "US-TX",
          "US-TN",
          "US-TN",
          "US-AZ",
          "US-AK",
          "US-IN",
          "US-CA",
          "US-PA",
          "US-FL",
          "US-CA",
          "US-MN",
          "US-ND",
          "US-LA",
          "US-ME",
          "US-FL",
          "US-MO",
          "US-NY",
          "US-GA",
          "US-MT",
          "US-AK",
          "US-CA",
          "US-MT",
          "US-TX",
          "US-AK",
          "US-NY",
          "US-AK",
          "US-FL",
          "US-KY",
          "US-IA",
          "US-MT",
          "US-FL",
          "US-HI",
          "US-PA",
          "US-IA",
          "US-UT",
          "US-TX",
          "VI-U-A",
          "US-SD",
          "US-CA",
          "US-CO",
          "US-CA"
         ],
         "type": "scattergeo"
        }
       ],
       "layout": {
        "geo": {
         "countrycolor": "rgb(204, 204, 204)",
         "landcolor": "rgb(243, 243, 243)",
         "projection": {
          "type": "azimuthal equal area"
         },
         "scope": "north america",
         "showland": true
        },
        "margin": {
         "b": 0,
         "l": 0,
         "r": 0,
         "t": 0
        },
        "template": {
         "data": {
          "bar": [
           {
            "error_x": {
             "color": "#2a3f5f"
            },
            "error_y": {
             "color": "#2a3f5f"
            },
            "marker": {
             "line": {
              "color": "#E5ECF6",
              "width": 0.5
             },
             "pattern": {
              "fillmode": "overlay",
              "size": 10,
              "solidity": 0.2
             }
            },
            "type": "bar"
           }
          ],
          "barpolar": [
           {
            "marker": {
             "line": {
              "color": "#E5ECF6",
              "width": 0.5
             },
             "pattern": {
              "fillmode": "overlay",
              "size": 10,
              "solidity": 0.2
             }
            },
            "type": "barpolar"
           }
          ],
          "carpet": [
           {
            "aaxis": {
             "endlinecolor": "#2a3f5f",
             "gridcolor": "white",
             "linecolor": "white",
             "minorgridcolor": "white",
             "startlinecolor": "#2a3f5f"
            },
            "baxis": {
             "endlinecolor": "#2a3f5f",
             "gridcolor": "white",
             "linecolor": "white",
             "minorgridcolor": "white",
             "startlinecolor": "#2a3f5f"
            },
            "type": "carpet"
           }
          ],
          "choropleth": [
           {
            "colorbar": {
             "outlinewidth": 0,
             "ticks": ""
            },
            "type": "choropleth"
           }
          ],
          "contour": [
           {
            "colorbar": {
             "outlinewidth": 0,
             "ticks": ""
            },
            "colorscale": [
             [
              0,
              "#0d0887"
             ],
             [
              0.1111111111111111,
              "#46039f"
             ],
             [
              0.2222222222222222,
              "#7201a8"
             ],
             [
              0.3333333333333333,
              "#9c179e"
             ],
             [
              0.4444444444444444,
              "#bd3786"
             ],
             [
              0.5555555555555556,
              "#d8576b"
             ],
             [
              0.6666666666666666,
              "#ed7953"
             ],
             [
              0.7777777777777778,
              "#fb9f3a"
             ],
             [
              0.8888888888888888,
              "#fdca26"
             ],
             [
              1,
              "#f0f921"
             ]
            ],
            "type": "contour"
           }
          ],
          "contourcarpet": [
           {
            "colorbar": {
             "outlinewidth": 0,
             "ticks": ""
            },
            "type": "contourcarpet"
           }
          ],
          "heatmap": [
           {
            "colorbar": {
             "outlinewidth": 0,
             "ticks": ""
            },
            "colorscale": [
             [
              0,
              "#0d0887"
             ],
             [
              0.1111111111111111,
              "#46039f"
             ],
             [
              0.2222222222222222,
              "#7201a8"
             ],
             [
              0.3333333333333333,
              "#9c179e"
             ],
             [
              0.4444444444444444,
              "#bd3786"
             ],
             [
              0.5555555555555556,
              "#d8576b"
             ],
             [
              0.6666666666666666,
              "#ed7953"
             ],
             [
              0.7777777777777778,
              "#fb9f3a"
             ],
             [
              0.8888888888888888,
              "#fdca26"
             ],
             [
              1,
              "#f0f921"
             ]
            ],
            "type": "heatmap"
           }
          ],
          "heatmapgl": [
           {
            "colorbar": {
             "outlinewidth": 0,
             "ticks": ""
            },
            "colorscale": [
             [
              0,
              "#0d0887"
             ],
             [
              0.1111111111111111,
              "#46039f"
             ],
             [
              0.2222222222222222,
              "#7201a8"
             ],
             [
              0.3333333333333333,
              "#9c179e"
             ],
             [
              0.4444444444444444,
              "#bd3786"
             ],
             [
              0.5555555555555556,
              "#d8576b"
             ],
             [
              0.6666666666666666,
              "#ed7953"
             ],
             [
              0.7777777777777778,
              "#fb9f3a"
             ],
             [
              0.8888888888888888,
              "#fdca26"
             ],
             [
              1,
              "#f0f921"
             ]
            ],
            "type": "heatmapgl"
           }
          ],
          "histogram": [
           {
            "marker": {
             "pattern": {
              "fillmode": "overlay",
              "size": 10,
              "solidity": 0.2
             }
            },
            "type": "histogram"
           }
          ],
          "histogram2d": [
           {
            "colorbar": {
             "outlinewidth": 0,
             "ticks": ""
            },
            "colorscale": [
             [
              0,
              "#0d0887"
             ],
             [
              0.1111111111111111,
              "#46039f"
             ],
             [
              0.2222222222222222,
              "#7201a8"
             ],
             [
              0.3333333333333333,
              "#9c179e"
             ],
             [
              0.4444444444444444,
              "#bd3786"
             ],
             [
              0.5555555555555556,
              "#d8576b"
             ],
             [
              0.6666666666666666,
              "#ed7953"
             ],
             [
              0.7777777777777778,
              "#fb9f3a"
             ],
             [
              0.8888888888888888,
              "#fdca26"
             ],
             [
              1,
              "#f0f921"
             ]
            ],
            "type": "histogram2d"
           }
          ],
          "histogram2dcontour": [
           {
            "colorbar": {
             "outlinewidth": 0,
             "ticks": ""
            },
            "colorscale": [
             [
              0,
              "#0d0887"
             ],
             [
              0.1111111111111111,
              "#46039f"
             ],
             [
              0.2222222222222222,
              "#7201a8"
             ],
             [
              0.3333333333333333,
              "#9c179e"
             ],
             [
              0.4444444444444444,
              "#bd3786"
             ],
             [
              0.5555555555555556,
              "#d8576b"
             ],
             [
              0.6666666666666666,
              "#ed7953"
             ],
             [
              0.7777777777777778,
              "#fb9f3a"
             ],
             [
              0.8888888888888888,
              "#fdca26"
             ],
             [
              1,
              "#f0f921"
             ]
            ],
            "type": "histogram2dcontour"
           }
          ],
          "mesh3d": [
           {
            "colorbar": {
             "outlinewidth": 0,
             "ticks": ""
            },
            "type": "mesh3d"
           }
          ],
          "parcoords": [
           {
            "line": {
             "colorbar": {
              "outlinewidth": 0,
              "ticks": ""
             }
            },
            "type": "parcoords"
           }
          ],
          "pie": [
           {
            "automargin": true,
            "type": "pie"
           }
          ],
          "scatter": [
           {
            "fillpattern": {
             "fillmode": "overlay",
             "size": 10,
             "solidity": 0.2
            },
            "type": "scatter"
           }
          ],
          "scatter3d": [
           {
            "line": {
             "colorbar": {
              "outlinewidth": 0,
              "ticks": ""
             }
            },
            "marker": {
             "colorbar": {
              "outlinewidth": 0,
              "ticks": ""
             }
            },
            "type": "scatter3d"
           }
          ],
          "scattercarpet": [
           {
            "marker": {
             "colorbar": {
              "outlinewidth": 0,
              "ticks": ""
             }
            },
            "type": "scattercarpet"
           }
          ],
          "scattergeo": [
           {
            "marker": {
             "colorbar": {
              "outlinewidth": 0,
              "ticks": ""
             }
            },
            "type": "scattergeo"
           }
          ],
          "scattergl": [
           {
            "marker": {
             "colorbar": {
              "outlinewidth": 0,
              "ticks": ""
             }
            },
            "type": "scattergl"
           }
          ],
          "scattermapbox": [
           {
            "marker": {
             "colorbar": {
              "outlinewidth": 0,
              "ticks": ""
             }
            },
            "type": "scattermapbox"
           }
          ],
          "scatterpolar": [
           {
            "marker": {
             "colorbar": {
              "outlinewidth": 0,
              "ticks": ""
             }
            },
            "type": "scatterpolar"
           }
          ],
          "scatterpolargl": [
           {
            "marker": {
             "colorbar": {
              "outlinewidth": 0,
              "ticks": ""
             }
            },
            "type": "scatterpolargl"
           }
          ],
          "scatterternary": [
           {
            "marker": {
             "colorbar": {
              "outlinewidth": 0,
              "ticks": ""
             }
            },
            "type": "scatterternary"
           }
          ],
          "surface": [
           {
            "colorbar": {
             "outlinewidth": 0,
             "ticks": ""
            },
            "colorscale": [
             [
              0,
              "#0d0887"
             ],
             [
              0.1111111111111111,
              "#46039f"
             ],
             [
              0.2222222222222222,
              "#7201a8"
             ],
             [
              0.3333333333333333,
              "#9c179e"
             ],
             [
              0.4444444444444444,
              "#bd3786"
             ],
             [
              0.5555555555555556,
              "#d8576b"
             ],
             [
              0.6666666666666666,
              "#ed7953"
             ],
             [
              0.7777777777777778,
              "#fb9f3a"
             ],
             [
              0.8888888888888888,
              "#fdca26"
             ],
             [
              1,
              "#f0f921"
             ]
            ],
            "type": "surface"
           }
          ],
          "table": [
           {
            "cells": {
             "fill": {
              "color": "#EBF0F8"
             },
             "line": {
              "color": "white"
             }
            },
            "header": {
             "fill": {
              "color": "#C8D4E3"
             },
             "line": {
              "color": "white"
             }
            },
            "type": "table"
           }
          ]
         },
         "layout": {
          "annotationdefaults": {
           "arrowcolor": "#2a3f5f",
           "arrowhead": 0,
           "arrowwidth": 1
          },
          "autotypenumbers": "strict",
          "coloraxis": {
           "colorbar": {
            "outlinewidth": 0,
            "ticks": ""
           }
          },
          "colorscale": {
           "diverging": [
            [
             0,
             "#8e0152"
            ],
            [
             0.1,
             "#c51b7d"
            ],
            [
             0.2,
             "#de77ae"
            ],
            [
             0.3,
             "#f1b6da"
            ],
            [
             0.4,
             "#fde0ef"
            ],
            [
             0.5,
             "#f7f7f7"
            ],
            [
             0.6,
             "#e6f5d0"
            ],
            [
             0.7,
             "#b8e186"
            ],
            [
             0.8,
             "#7fbc41"
            ],
            [
             0.9,
             "#4d9221"
            ],
            [
             1,
             "#276419"
            ]
           ],
           "sequential": [
            [
             0,
             "#0d0887"
            ],
            [
             0.1111111111111111,
             "#46039f"
            ],
            [
             0.2222222222222222,
             "#7201a8"
            ],
            [
             0.3333333333333333,
             "#9c179e"
            ],
            [
             0.4444444444444444,
             "#bd3786"
            ],
            [
             0.5555555555555556,
             "#d8576b"
            ],
            [
             0.6666666666666666,
             "#ed7953"
            ],
            [
             0.7777777777777778,
             "#fb9f3a"
            ],
            [
             0.8888888888888888,
             "#fdca26"
            ],
            [
             1,
             "#f0f921"
            ]
           ],
           "sequentialminus": [
            [
             0,
             "#0d0887"
            ],
            [
             0.1111111111111111,
             "#46039f"
            ],
            [
             0.2222222222222222,
             "#7201a8"
            ],
            [
             0.3333333333333333,
             "#9c179e"
            ],
            [
             0.4444444444444444,
             "#bd3786"
            ],
            [
             0.5555555555555556,
             "#d8576b"
            ],
            [
             0.6666666666666666,
             "#ed7953"
            ],
            [
             0.7777777777777778,
             "#fb9f3a"
            ],
            [
             0.8888888888888888,
             "#fdca26"
            ],
            [
             1,
             "#f0f921"
            ]
           ]
          },
          "colorway": [
           "#636efa",
           "#EF553B",
           "#00cc96",
           "#ab63fa",
           "#FFA15A",
           "#19d3f3",
           "#FF6692",
           "#B6E880",
           "#FF97FF",
           "#FECB52"
          ],
          "font": {
           "color": "#2a3f5f"
          },
          "geo": {
           "bgcolor": "white",
           "lakecolor": "white",
           "landcolor": "#E5ECF6",
           "showlakes": true,
           "showland": true,
           "subunitcolor": "white"
          },
          "hoverlabel": {
           "align": "left"
          },
          "hovermode": "closest",
          "mapbox": {
           "style": "light"
          },
          "paper_bgcolor": "white",
          "plot_bgcolor": "#E5ECF6",
          "polar": {
           "angularaxis": {
            "gridcolor": "white",
            "linecolor": "white",
            "ticks": ""
           },
           "bgcolor": "#E5ECF6",
           "radialaxis": {
            "gridcolor": "white",
            "linecolor": "white",
            "ticks": ""
           }
          },
          "scene": {
           "xaxis": {
            "backgroundcolor": "#E5ECF6",
            "gridcolor": "white",
            "gridwidth": 2,
            "linecolor": "white",
            "showbackground": true,
            "ticks": "",
            "zerolinecolor": "white"
           },
           "yaxis": {
            "backgroundcolor": "#E5ECF6",
            "gridcolor": "white",
            "gridwidth": 2,
            "linecolor": "white",
            "showbackground": true,
            "ticks": "",
            "zerolinecolor": "white"
           },
           "zaxis": {
            "backgroundcolor": "#E5ECF6",
            "gridcolor": "white",
            "gridwidth": 2,
            "linecolor": "white",
            "showbackground": true,
            "ticks": "",
            "zerolinecolor": "white"
           }
          },
          "shapedefaults": {
           "line": {
            "color": "#2a3f5f"
           }
          },
          "ternary": {
           "aaxis": {
            "gridcolor": "white",
            "linecolor": "white",
            "ticks": ""
           },
           "baxis": {
            "gridcolor": "white",
            "linecolor": "white",
            "ticks": ""
           },
           "bgcolor": "#E5ECF6",
           "caxis": {
            "gridcolor": "white",
            "linecolor": "white",
            "ticks": ""
           }
          },
          "title": {
           "x": 0.05
          },
          "xaxis": {
           "automargin": true,
           "gridcolor": "white",
           "linecolor": "white",
           "ticks": "",
           "title": {
            "standoff": 15
           },
           "zerolinecolor": "white",
           "zerolinewidth": 2
          },
          "yaxis": {
           "automargin": true,
           "gridcolor": "white",
           "linecolor": "white",
           "ticks": "",
           "title": {
            "standoff": 15
           },
           "zerolinecolor": "white",
           "zerolinewidth": 2
          }
         }
        }
       }
      }
     },
     "metadata": {},
     "output_type": "display_data"
    }
   ],
   "source": [
    "fig = plot.map.heatmap(data.get_delay(), 'dest')\n",
    "fig.show()"
   ]
  },
  {
   "cell_type": "code",
   "execution_count": 7,
   "metadata": {},
   "outputs": [
    {
     "data": {
      "application/vnd.plotly.v1+json": {
       "config": {
        "plotlyServerURL": "https://plot.ly"
       },
       "data": [
        {
         "lat": [
          41.9786,
          33.938801,
          null,
          29.984399795532227,
          32.115004,
          null,
          39.861698150635,
          29.984399795532227,
          null,
          32.896801,
          40.785749,
          null,
          33.435302,
          39.49909973144531,
          null,
          42.212398529052734,
          44.882,
          null,
          28.429399490356445,
          40.639447,
          null,
          39.49909973144531,
          33.435302,
          null,
          36.8946,
          33.6367,
          null,
          42.3643,
          38.748697,
          null,
          34.5676994324,
          33.6367,
          null,
          26.072599,
          40.639447,
          null,
          33.435302,
          40.785749,
          null,
          19.721399,
          19.738783,
          null,
          39.861698150635,
          41.9786,
          null,
          33.942501,
          39.861698150635,
          null,
          26.072599,
          42.3643,
          null,
          41.9786,
          37.649899,
          null,
          37.61899948120117,
          40.785749,
          null,
          26.072599,
          41.93851,
          null,
          30.49410057067871,
          33.562901,
          null,
          33.6367,
          33.562901,
          null,
          40.639447,
          36.083361,
          null,
          21.32062,
          20.898543,
          null,
          35.2140007019043,
          36.1245002746582,
          null,
          32.7336006165,
          35.040199,
          null,
          40.639447,
          44.882,
          null,
          40.639447,
          18.00830078125,
          null,
          29.984399795532227,
          40.692501,
          null,
          33.942501,
          27.975500106811523,
          null
         ],
         "line": {
          "color": "royalblue",
          "width": 0.5
         },
         "lon": [
          -87.9048,
          -81.119499,
          null,
          -95.34140014648438,
          -110.938053,
          null,
          -104.672996521,
          -95.34140014648438,
          null,
          -97.038002,
          -111.979746,
          null,
          -112.005905,
          -119.76799774169922,
          null,
          -83.35340118408203,
          -93.221802,
          null,
          -81.30899810791016,
          -73.779317,
          null,
          -119.76799774169922,
          -112.005905,
          null,
          -76.201202,
          -84.428101,
          null,
          -71.005203,
          -90.370003,
          null,
          -98.4166030884,
          -84.428101,
          null,
          -80.152702,
          -73.779317,
          null,
          -112.005905,
          -111.979746,
          null,
          -155.048004,
          -156.045603,
          null,
          -104.672996521,
          -87.9048,
          null,
          -118.407997,
          -104.672996521,
          null,
          -80.152702,
          -71.005203,
          null,
          -87.9048,
          -97.433098,
          null,
          -122.375,
          -111.979746,
          null,
          -80.152702,
          -72.688066,
          null,
          -81.68789672851562,
          -86.753502,
          null,
          -84.428101,
          -86.753502,
          null,
          -73.779317,
          -115.151817,
          null,
          -157.924228,
          -156.431212,
          null,
          -80.94309997558594,
          -86.6781997680664,
          null,
          -117.190002441,
          -106.609001,
          null,
          -73.779317,
          -93.221802,
          null,
          -73.779317,
          -66.56300354003906,
          null,
          -95.34140014648438,
          -74.168701,
          null,
          -118.407997,
          -82.533203125,
          null
         ],
         "mode": "lines",
         "name": "flight",
         "opacity": 0.5,
         "type": "scattergeo"
        },
        {
         "hoverinfo": [
          "text",
          "lon",
          "lat"
         ],
         "lat": [
          41.9786,
          29.984399795532227,
          39.861698150635,
          32.896801,
          33.435302,
          42.212398529052734,
          28.429399490356445,
          39.49909973144531,
          36.8946,
          42.3643,
          34.5676994324,
          26.072599,
          33.435302,
          19.721399,
          39.861698150635,
          33.942501,
          26.072599,
          41.9786,
          37.61899948120117,
          26.072599,
          30.49410057067871,
          33.6367,
          40.639447,
          21.32062,
          35.2140007019043,
          32.7336006165,
          40.639447,
          40.639447,
          29.984399795532227,
          33.942501
         ],
         "lon": [
          -87.9048,
          -95.34140014648438,
          -104.672996521,
          -97.038002,
          -112.005905,
          -83.35340118408203,
          -81.30899810791016,
          -119.76799774169922,
          -76.201202,
          -71.005203,
          -98.4166030884,
          -80.152702,
          -112.005905,
          -155.048004,
          -104.672996521,
          -118.407997,
          -80.152702,
          -87.9048,
          -122.375,
          -80.152702,
          -81.68789672851562,
          -84.428101,
          -73.779317,
          -157.924228,
          -80.94309997558594,
          -117.190002441,
          -73.779317,
          -73.779317,
          -95.34140014648438,
          -118.407997
         ],
         "marker": {
          "color": "royalblue",
          "size": 1
         },
         "mode": "markers",
         "name": "",
         "text": [
          "US-IL",
          "US-TX",
          "US-CO",
          "US-TX",
          "US-AZ",
          "US-MI",
          "US-FL",
          "US-NV",
          "US-VA",
          "US-MA",
          "US-OK",
          "US-FL",
          "US-AZ",
          "US-HI",
          "US-CO",
          "US-CA",
          "US-FL",
          "US-IL",
          "US-CA",
          "US-FL",
          "US-FL",
          "US-GA",
          "US-NY",
          "US-HI",
          "US-NC",
          "US-CA",
          "US-NY",
          "US-NY",
          "US-TX",
          "US-CA"
         ],
         "type": "scattergeo"
        },
        {
         "hoverinfo": [
          "text",
          "lon",
          "lat"
         ],
         "lat": [
          33.938801,
          32.115004,
          29.984399795532227,
          40.785749,
          39.49909973144531,
          44.882,
          40.639447,
          33.435302,
          33.6367,
          38.748697,
          33.6367,
          40.639447,
          40.785749,
          19.738783,
          41.9786,
          39.861698150635,
          42.3643,
          37.649899,
          40.785749,
          41.93851,
          33.562901,
          33.562901,
          36.083361,
          20.898543,
          36.1245002746582,
          35.040199,
          44.882,
          18.00830078125,
          40.692501,
          27.975500106811523
         ],
         "lon": [
          -81.119499,
          -110.938053,
          -95.34140014648438,
          -111.979746,
          -119.76799774169922,
          -93.221802,
          -73.779317,
          -112.005905,
          -84.428101,
          -90.370003,
          -84.428101,
          -73.779317,
          -111.979746,
          -156.045603,
          -87.9048,
          -104.672996521,
          -71.005203,
          -97.433098,
          -111.979746,
          -72.688066,
          -86.753502,
          -86.753502,
          -115.151817,
          -156.431212,
          -86.6781997680664,
          -106.609001,
          -93.221802,
          -66.56300354003906,
          -74.168701,
          -82.533203125
         ],
         "marker": {
          "color": "royalblue",
          "size": 1
         },
         "mode": "markers",
         "name": "",
         "text": [
          "US-SC",
          "US-AZ",
          "US-TX",
          "US-UT",
          "US-NV",
          "US-MN",
          "US-NY",
          "US-AZ",
          "US-GA",
          "US-MO",
          "US-GA",
          "US-NY",
          "US-UT",
          "US-HI",
          "US-IL",
          "US-CO",
          "US-MA",
          "US-KS",
          "US-UT",
          "US-CT",
          "US-AL",
          "US-AL",
          "US-NV",
          "US-HI",
          "US-TN",
          "US-NM",
          "US-MN",
          "PR-U-A",
          "US-NJ",
          "US-FL"
         ],
         "type": "scattergeo"
        },
        {
         "lat": [
          32.896801,
          40.785749,
          null,
          36.8946,
          33.6367,
          null,
          33.942501,
          39.861698150635,
          null,
          26.072599,
          42.3643,
          null,
          37.61899948120117,
          40.785749,
          null,
          21.32062,
          20.898543,
          null,
          29.984399795532227,
          40.692501,
          null
         ],
         "line": {
          "color": "red",
          "width": 0.5
         },
         "lon": [
          -97.038002,
          -111.979746,
          null,
          -76.201202,
          -84.428101,
          null,
          -118.407997,
          -104.672996521,
          null,
          -80.152702,
          -71.005203,
          null,
          -122.375,
          -111.979746,
          null,
          -157.924228,
          -156.431212,
          null,
          -95.34140014648438,
          -74.168701,
          null
         ],
         "mode": "lines",
         "name": "delay",
         "opacity": 0.5,
         "type": "scattergeo"
        },
        {
         "hoverinfo": [
          "text",
          "lon",
          "lat"
         ],
         "lat": [
          32.896801,
          36.8946,
          33.942501,
          26.072599,
          37.61899948120117,
          21.32062,
          29.984399795532227
         ],
         "lon": [
          -97.038002,
          -76.201202,
          -118.407997,
          -80.152702,
          -122.375,
          -157.924228,
          -95.34140014648438
         ],
         "marker": {
          "color": "red",
          "size": 1
         },
         "mode": "markers",
         "name": "",
         "text": [
          "US-TX",
          "US-VA",
          "US-CA",
          "US-FL",
          "US-CA",
          "US-HI",
          "US-TX"
         ],
         "type": "scattergeo"
        },
        {
         "hoverinfo": [
          "text",
          "lon",
          "lat"
         ],
         "lat": [
          40.785749,
          33.6367,
          39.861698150635,
          42.3643,
          40.785749,
          20.898543,
          40.692501
         ],
         "lon": [
          -111.979746,
          -84.428101,
          -104.672996521,
          -71.005203,
          -111.979746,
          -156.431212,
          -74.168701
         ],
         "marker": {
          "color": "red",
          "size": 1
         },
         "mode": "markers",
         "name": "",
         "text": [
          "US-UT",
          "US-GA",
          "US-CO",
          "US-MA",
          "US-UT",
          "US-HI",
          "US-NJ"
         ],
         "type": "scattergeo"
        }
       ],
       "layout": {
        "geo": {
         "countrycolor": "rgb(204, 204, 204)",
         "landcolor": "rgb(243, 243, 243)",
         "projection": {
          "type": "azimuthal equal area"
         },
         "scope": "north america",
         "showland": true
        },
        "margin": {
         "b": 0,
         "l": 0,
         "r": 0,
         "t": 0
        },
        "template": {
         "data": {
          "bar": [
           {
            "error_x": {
             "color": "#2a3f5f"
            },
            "error_y": {
             "color": "#2a3f5f"
            },
            "marker": {
             "line": {
              "color": "#E5ECF6",
              "width": 0.5
             },
             "pattern": {
              "fillmode": "overlay",
              "size": 10,
              "solidity": 0.2
             }
            },
            "type": "bar"
           }
          ],
          "barpolar": [
           {
            "marker": {
             "line": {
              "color": "#E5ECF6",
              "width": 0.5
             },
             "pattern": {
              "fillmode": "overlay",
              "size": 10,
              "solidity": 0.2
             }
            },
            "type": "barpolar"
           }
          ],
          "carpet": [
           {
            "aaxis": {
             "endlinecolor": "#2a3f5f",
             "gridcolor": "white",
             "linecolor": "white",
             "minorgridcolor": "white",
             "startlinecolor": "#2a3f5f"
            },
            "baxis": {
             "endlinecolor": "#2a3f5f",
             "gridcolor": "white",
             "linecolor": "white",
             "minorgridcolor": "white",
             "startlinecolor": "#2a3f5f"
            },
            "type": "carpet"
           }
          ],
          "choropleth": [
           {
            "colorbar": {
             "outlinewidth": 0,
             "ticks": ""
            },
            "type": "choropleth"
           }
          ],
          "contour": [
           {
            "colorbar": {
             "outlinewidth": 0,
             "ticks": ""
            },
            "colorscale": [
             [
              0,
              "#0d0887"
             ],
             [
              0.1111111111111111,
              "#46039f"
             ],
             [
              0.2222222222222222,
              "#7201a8"
             ],
             [
              0.3333333333333333,
              "#9c179e"
             ],
             [
              0.4444444444444444,
              "#bd3786"
             ],
             [
              0.5555555555555556,
              "#d8576b"
             ],
             [
              0.6666666666666666,
              "#ed7953"
             ],
             [
              0.7777777777777778,
              "#fb9f3a"
             ],
             [
              0.8888888888888888,
              "#fdca26"
             ],
             [
              1,
              "#f0f921"
             ]
            ],
            "type": "contour"
           }
          ],
          "contourcarpet": [
           {
            "colorbar": {
             "outlinewidth": 0,
             "ticks": ""
            },
            "type": "contourcarpet"
           }
          ],
          "heatmap": [
           {
            "colorbar": {
             "outlinewidth": 0,
             "ticks": ""
            },
            "colorscale": [
             [
              0,
              "#0d0887"
             ],
             [
              0.1111111111111111,
              "#46039f"
             ],
             [
              0.2222222222222222,
              "#7201a8"
             ],
             [
              0.3333333333333333,
              "#9c179e"
             ],
             [
              0.4444444444444444,
              "#bd3786"
             ],
             [
              0.5555555555555556,
              "#d8576b"
             ],
             [
              0.6666666666666666,
              "#ed7953"
             ],
             [
              0.7777777777777778,
              "#fb9f3a"
             ],
             [
              0.8888888888888888,
              "#fdca26"
             ],
             [
              1,
              "#f0f921"
             ]
            ],
            "type": "heatmap"
           }
          ],
          "heatmapgl": [
           {
            "colorbar": {
             "outlinewidth": 0,
             "ticks": ""
            },
            "colorscale": [
             [
              0,
              "#0d0887"
             ],
             [
              0.1111111111111111,
              "#46039f"
             ],
             [
              0.2222222222222222,
              "#7201a8"
             ],
             [
              0.3333333333333333,
              "#9c179e"
             ],
             [
              0.4444444444444444,
              "#bd3786"
             ],
             [
              0.5555555555555556,
              "#d8576b"
             ],
             [
              0.6666666666666666,
              "#ed7953"
             ],
             [
              0.7777777777777778,
              "#fb9f3a"
             ],
             [
              0.8888888888888888,
              "#fdca26"
             ],
             [
              1,
              "#f0f921"
             ]
            ],
            "type": "heatmapgl"
           }
          ],
          "histogram": [
           {
            "marker": {
             "pattern": {
              "fillmode": "overlay",
              "size": 10,
              "solidity": 0.2
             }
            },
            "type": "histogram"
           }
          ],
          "histogram2d": [
           {
            "colorbar": {
             "outlinewidth": 0,
             "ticks": ""
            },
            "colorscale": [
             [
              0,
              "#0d0887"
             ],
             [
              0.1111111111111111,
              "#46039f"
             ],
             [
              0.2222222222222222,
              "#7201a8"
             ],
             [
              0.3333333333333333,
              "#9c179e"
             ],
             [
              0.4444444444444444,
              "#bd3786"
             ],
             [
              0.5555555555555556,
              "#d8576b"
             ],
             [
              0.6666666666666666,
              "#ed7953"
             ],
             [
              0.7777777777777778,
              "#fb9f3a"
             ],
             [
              0.8888888888888888,
              "#fdca26"
             ],
             [
              1,
              "#f0f921"
             ]
            ],
            "type": "histogram2d"
           }
          ],
          "histogram2dcontour": [
           {
            "colorbar": {
             "outlinewidth": 0,
             "ticks": ""
            },
            "colorscale": [
             [
              0,
              "#0d0887"
             ],
             [
              0.1111111111111111,
              "#46039f"
             ],
             [
              0.2222222222222222,
              "#7201a8"
             ],
             [
              0.3333333333333333,
              "#9c179e"
             ],
             [
              0.4444444444444444,
              "#bd3786"
             ],
             [
              0.5555555555555556,
              "#d8576b"
             ],
             [
              0.6666666666666666,
              "#ed7953"
             ],
             [
              0.7777777777777778,
              "#fb9f3a"
             ],
             [
              0.8888888888888888,
              "#fdca26"
             ],
             [
              1,
              "#f0f921"
             ]
            ],
            "type": "histogram2dcontour"
           }
          ],
          "mesh3d": [
           {
            "colorbar": {
             "outlinewidth": 0,
             "ticks": ""
            },
            "type": "mesh3d"
           }
          ],
          "parcoords": [
           {
            "line": {
             "colorbar": {
              "outlinewidth": 0,
              "ticks": ""
             }
            },
            "type": "parcoords"
           }
          ],
          "pie": [
           {
            "automargin": true,
            "type": "pie"
           }
          ],
          "scatter": [
           {
            "fillpattern": {
             "fillmode": "overlay",
             "size": 10,
             "solidity": 0.2
            },
            "type": "scatter"
           }
          ],
          "scatter3d": [
           {
            "line": {
             "colorbar": {
              "outlinewidth": 0,
              "ticks": ""
             }
            },
            "marker": {
             "colorbar": {
              "outlinewidth": 0,
              "ticks": ""
             }
            },
            "type": "scatter3d"
           }
          ],
          "scattercarpet": [
           {
            "marker": {
             "colorbar": {
              "outlinewidth": 0,
              "ticks": ""
             }
            },
            "type": "scattercarpet"
           }
          ],
          "scattergeo": [
           {
            "marker": {
             "colorbar": {
              "outlinewidth": 0,
              "ticks": ""
             }
            },
            "type": "scattergeo"
           }
          ],
          "scattergl": [
           {
            "marker": {
             "colorbar": {
              "outlinewidth": 0,
              "ticks": ""
             }
            },
            "type": "scattergl"
           }
          ],
          "scattermapbox": [
           {
            "marker": {
             "colorbar": {
              "outlinewidth": 0,
              "ticks": ""
             }
            },
            "type": "scattermapbox"
           }
          ],
          "scatterpolar": [
           {
            "marker": {
             "colorbar": {
              "outlinewidth": 0,
              "ticks": ""
             }
            },
            "type": "scatterpolar"
           }
          ],
          "scatterpolargl": [
           {
            "marker": {
             "colorbar": {
              "outlinewidth": 0,
              "ticks": ""
             }
            },
            "type": "scatterpolargl"
           }
          ],
          "scatterternary": [
           {
            "marker": {
             "colorbar": {
              "outlinewidth": 0,
              "ticks": ""
             }
            },
            "type": "scatterternary"
           }
          ],
          "surface": [
           {
            "colorbar": {
             "outlinewidth": 0,
             "ticks": ""
            },
            "colorscale": [
             [
              0,
              "#0d0887"
             ],
             [
              0.1111111111111111,
              "#46039f"
             ],
             [
              0.2222222222222222,
              "#7201a8"
             ],
             [
              0.3333333333333333,
              "#9c179e"
             ],
             [
              0.4444444444444444,
              "#bd3786"
             ],
             [
              0.5555555555555556,
              "#d8576b"
             ],
             [
              0.6666666666666666,
              "#ed7953"
             ],
             [
              0.7777777777777778,
              "#fb9f3a"
             ],
             [
              0.8888888888888888,
              "#fdca26"
             ],
             [
              1,
              "#f0f921"
             ]
            ],
            "type": "surface"
           }
          ],
          "table": [
           {
            "cells": {
             "fill": {
              "color": "#EBF0F8"
             },
             "line": {
              "color": "white"
             }
            },
            "header": {
             "fill": {
              "color": "#C8D4E3"
             },
             "line": {
              "color": "white"
             }
            },
            "type": "table"
           }
          ]
         },
         "layout": {
          "annotationdefaults": {
           "arrowcolor": "#2a3f5f",
           "arrowhead": 0,
           "arrowwidth": 1
          },
          "autotypenumbers": "strict",
          "coloraxis": {
           "colorbar": {
            "outlinewidth": 0,
            "ticks": ""
           }
          },
          "colorscale": {
           "diverging": [
            [
             0,
             "#8e0152"
            ],
            [
             0.1,
             "#c51b7d"
            ],
            [
             0.2,
             "#de77ae"
            ],
            [
             0.3,
             "#f1b6da"
            ],
            [
             0.4,
             "#fde0ef"
            ],
            [
             0.5,
             "#f7f7f7"
            ],
            [
             0.6,
             "#e6f5d0"
            ],
            [
             0.7,
             "#b8e186"
            ],
            [
             0.8,
             "#7fbc41"
            ],
            [
             0.9,
             "#4d9221"
            ],
            [
             1,
             "#276419"
            ]
           ],
           "sequential": [
            [
             0,
             "#0d0887"
            ],
            [
             0.1111111111111111,
             "#46039f"
            ],
            [
             0.2222222222222222,
             "#7201a8"
            ],
            [
             0.3333333333333333,
             "#9c179e"
            ],
            [
             0.4444444444444444,
             "#bd3786"
            ],
            [
             0.5555555555555556,
             "#d8576b"
            ],
            [
             0.6666666666666666,
             "#ed7953"
            ],
            [
             0.7777777777777778,
             "#fb9f3a"
            ],
            [
             0.8888888888888888,
             "#fdca26"
            ],
            [
             1,
             "#f0f921"
            ]
           ],
           "sequentialminus": [
            [
             0,
             "#0d0887"
            ],
            [
             0.1111111111111111,
             "#46039f"
            ],
            [
             0.2222222222222222,
             "#7201a8"
            ],
            [
             0.3333333333333333,
             "#9c179e"
            ],
            [
             0.4444444444444444,
             "#bd3786"
            ],
            [
             0.5555555555555556,
             "#d8576b"
            ],
            [
             0.6666666666666666,
             "#ed7953"
            ],
            [
             0.7777777777777778,
             "#fb9f3a"
            ],
            [
             0.8888888888888888,
             "#fdca26"
            ],
            [
             1,
             "#f0f921"
            ]
           ]
          },
          "colorway": [
           "#636efa",
           "#EF553B",
           "#00cc96",
           "#ab63fa",
           "#FFA15A",
           "#19d3f3",
           "#FF6692",
           "#B6E880",
           "#FF97FF",
           "#FECB52"
          ],
          "font": {
           "color": "#2a3f5f"
          },
          "geo": {
           "bgcolor": "white",
           "lakecolor": "white",
           "landcolor": "#E5ECF6",
           "showlakes": true,
           "showland": true,
           "subunitcolor": "white"
          },
          "hoverlabel": {
           "align": "left"
          },
          "hovermode": "closest",
          "mapbox": {
           "style": "light"
          },
          "paper_bgcolor": "white",
          "plot_bgcolor": "#E5ECF6",
          "polar": {
           "angularaxis": {
            "gridcolor": "white",
            "linecolor": "white",
            "ticks": ""
           },
           "bgcolor": "#E5ECF6",
           "radialaxis": {
            "gridcolor": "white",
            "linecolor": "white",
            "ticks": ""
           }
          },
          "scene": {
           "xaxis": {
            "backgroundcolor": "#E5ECF6",
            "gridcolor": "white",
            "gridwidth": 2,
            "linecolor": "white",
            "showbackground": true,
            "ticks": "",
            "zerolinecolor": "white"
           },
           "yaxis": {
            "backgroundcolor": "#E5ECF6",
            "gridcolor": "white",
            "gridwidth": 2,
            "linecolor": "white",
            "showbackground": true,
            "ticks": "",
            "zerolinecolor": "white"
           },
           "zaxis": {
            "backgroundcolor": "#E5ECF6",
            "gridcolor": "white",
            "gridwidth": 2,
            "linecolor": "white",
            "showbackground": true,
            "ticks": "",
            "zerolinecolor": "white"
           }
          },
          "shapedefaults": {
           "line": {
            "color": "#2a3f5f"
           }
          },
          "ternary": {
           "aaxis": {
            "gridcolor": "white",
            "linecolor": "white",
            "ticks": ""
           },
           "baxis": {
            "gridcolor": "white",
            "linecolor": "white",
            "ticks": ""
           },
           "bgcolor": "#E5ECF6",
           "caxis": {
            "gridcolor": "white",
            "linecolor": "white",
            "ticks": ""
           }
          },
          "title": {
           "x": 0.05
          },
          "xaxis": {
           "automargin": true,
           "gridcolor": "white",
           "linecolor": "white",
           "ticks": "",
           "title": {
            "standoff": 15
           },
           "zerolinecolor": "white",
           "zerolinewidth": 2
          },
          "yaxis": {
           "automargin": true,
           "gridcolor": "white",
           "linecolor": "white",
           "ticks": "",
           "title": {
            "standoff": 15
           },
           "zerolinecolor": "white",
           "zerolinewidth": 2
          }
         }
        }
       }
      }
     },
     "metadata": {},
     "output_type": "display_data"
    }
   ],
   "source": [
    "d = data.get_date_period('2009-01-01', '2009-01-02')\n",
    "fig = plot.map.linemap(d, name='flight', color='royalblue')\n",
    "fig = plot.map.linemap(d.get_delay(), color='red', name='delay', fig=fig)\n",
    "fig.show()"
   ]
  },
  {
   "cell_type": "code",
   "execution_count": 8,
   "metadata": {},
   "outputs": [
    {
     "name": "stdout",
     "output_type": "stream",
     "text": [
      "+-------------------+---------+-------+\n",
      "|           col_name|data_type|comment|\n",
      "+-------------------+---------+-------+\n",
      "|                _c0|      int|   null|\n",
      "|            FL_DATE|     date|   null|\n",
      "|         OP_CARRIER|   string|   null|\n",
      "|  OP_CARRIER_FL_NUM|      int|   null|\n",
      "|             ORIGIN|   string|   null|\n",
      "|               DEST|   string|   null|\n",
      "|       CRS_DEP_TIME|   double|   null|\n",
      "|           DEP_TIME|   double|   null|\n",
      "|          DEP_DELAY|   double|   null|\n",
      "|           TAXI_OUT|   double|   null|\n",
      "|         WHEELS_OFF|   double|   null|\n",
      "|          WHEELS_ON|   double|   null|\n",
      "|            TAXI_IN|   double|   null|\n",
      "|       CRS_ARR_TIME|   double|   null|\n",
      "|           ARR_TIME|   double|   null|\n",
      "|          ARR_DELAY|   double|   null|\n",
      "|          CANCELLED|   double|   null|\n",
      "|  CANCELLATION_CODE|   string|   null|\n",
      "|           DIVERTED|   double|   null|\n",
      "|   CRS_ELAPSED_TIME|   double|   null|\n",
      "|ACTUAL_ELAPSED_TIME|   double|   null|\n",
      "|           AIR_TIME|   double|   null|\n",
      "|           DISTANCE|   double|   null|\n",
      "|      CARRIER_DELAY|   double|   null|\n",
      "|      WEATHER_DELAY|   double|   null|\n",
      "|          NAS_DELAY|   double|   null|\n",
      "|     SECURITY_DELAY|   double|   null|\n",
      "|LATE_AIRCRAFT_DELAY|   double|   null|\n",
      "|        Unnamed: 27|   string|   null|\n",
      "|               _c20|   string|   null|\n",
      "+-------------------+---------+-------+\n",
      "\n"
     ]
    }
   ],
   "source": [
    "data.createTempView().show(50)\n"
   ]
  },
  {
   "cell_type": "code",
   "execution_count": 9,
   "metadata": {},
   "outputs": [
    {
     "name": "stdout",
     "output_type": "stream",
     "text": [
      "This type of delay is longer than 0 minutes\n",
      "+-------------+-------------------+---------+--------------+\n",
      "|WEATHER_DELAY|LATE_AIRCRAFT_DELAY|NAS_DELAY|SECURITY_DELAY|\n",
      "+-------------+-------------------+---------+--------------+\n",
      "|         1303|              11860|    12587|            65|\n",
      "+-------------+-------------------+---------+--------------+\n",
      "\n"
     ]
    }
   ],
   "source": [
    "print(\"This type of delay is longer than 0 minutes\")\n",
    "data.sql(\"\"\"SELECT\n",
    "(SELECT count(WEATHER_DELAY) FROM flightdata WHERE WEATHER_DELAY>0) AS WEATHER_DELAY, \n",
    "(SELECT count(LATE_AIRCRAFT_DELAY) FROM flightdata WHERE LATE_AIRCRAFT_DELAY>0)AS LATE_AIRCRAFT_DELAY, \n",
    "(SELECT count(NAS_DELAY) FROM flightdata WHERE NAS_DELAY>0) AS NAS_DELAY, \n",
    "(SELECT count(SECURITY_DELAY) FROM flightdata WHERE SECURITY_DELAY>0) AS SECURITY_DELAY\n",
    "FROM flightdata\n",
    "LIMIT 1\"\"\").show()"
   ]
  },
  {
   "cell_type": "code",
   "execution_count": 10,
   "metadata": {},
   "outputs": [
    {
     "name": "stdout",
     "output_type": "stream",
     "text": [
      "Longest delay is of this type\n",
      "+-------------------+-----+\n",
      "|         delay_type|count|\n",
      "+-------------------+-----+\n",
      "|      WEATHER_DELAY|  708|\n",
      "|LATE_AIRCRAFT_DELAY|10338|\n",
      "|          NAS_DELAY| 8696|\n",
      "|     SECURITY_DELAY|   42|\n",
      "+-------------------+-----+\n",
      "\n"
     ]
    }
   ],
   "source": [
    "print(\"Longest delay is of this type\")\n",
    "data.sql(\"\"\"SELECT \n",
    "(CASE\n",
    "    WHEN LATE_AIRCRAFT_DELAY>0 AND LATE_AIRCRAFT_DELAY=greatest(WEATHER_DELAY, LATE_AIRCRAFT_DELAY, NAS_DELAY, SECURITY_DELAY) THEN \"LATE_AIRCRAFT_DELAY\"\n",
    "    WHEN WEATHER_DELAY>0 AND WEATHER_DELAY=greatest(WEATHER_DELAY, LATE_AIRCRAFT_DELAY, NAS_DELAY, SECURITY_DELAY) THEN \"WEATHER_DELAY\"\n",
    "    WHEN NAS_DELAY>0 AND NAS_DELAY=greatest(WEATHER_DELAY, LATE_AIRCRAFT_DELAY, NAS_DELAY, SECURITY_DELAY) THEN \"NAS_DELAY\"\n",
    "    WHEN SECURITY_DELAY>0 AND SECURITY_DELAY=greatest(WEATHER_DELAY, LATE_AIRCRAFT_DELAY, NAS_DELAY, SECURITY_DELAY) THEN \"SECURITY_DELAY\"\n",
    "    ELSE \"UNKNOWN\"\n",
    "END) AS delay_type, \n",
    "count(*) AS count\n",
    "FROM flightdata\n",
    "WHERE WEATHER_DELAY>0 OR LATE_AIRCRAFT_DELAY>0 OR NAS_DELAY>0 OR SECURITY_DELAY>0\n",
    "GROUP BY delay_type\"\"\").show()"
   ]
  },
  {
   "cell_type": "code",
   "execution_count": 11,
   "metadata": {},
   "outputs": [
    {
     "name": "stdout",
     "output_type": "stream",
     "text": [
      "Late arrivals by carrier\n",
      "+----------+-------------+-------------+-------------------+\n",
      "|OP_CARRIER|TOTAL_FLIGHTS|LATE_ARRIVALS|           laterate|\n",
      "+----------+-------------+-------------+-------------------+\n",
      "|        9E|         2094|          718| 0.3428844317096466|\n",
      "|        AA|        13254|         5042|0.38041346008752075|\n",
      "|        AS|         3298|         1098| 0.3329290479078229|\n",
      "|        B6|         4973|         1997| 0.4015684697365775|\n",
      "|        CO|         1463|          644|0.44019138755980863|\n",
      "|        DL|        15615|         4964|0.31789945565161704|\n",
      "|        EV|         9124|         3587|0.39313897413415166|\n",
      "|        F9|         1795|          807|0.44958217270194983|\n",
      "|        FL|         2440|          888| 0.3639344262295082|\n",
      "|        G4|          190|           78| 0.4105263157894737|\n",
      "|        HA|         1452|          508|  0.349862258953168|\n",
      "|        MQ|         6133|         2475|0.40355454100766347|\n",
      "|        NK|         1138|          417| 0.3664323374340949|\n",
      "|        NW|          583|          241|0.41337907375643224|\n",
      "|        OH|         1114|          462|  0.414721723518851|\n",
      "|        OO|        12404|         4570|0.36842953885843277|\n",
      "|        UA|         9692|         3275|0.33790755262071814|\n",
      "|        US|         5316|         1997|0.37565838976674193|\n",
      "|        VX|          774|          312|0.40310077519379844|\n",
      "|        WN|        23812|         9463|0.39740466991432893|\n",
      "+----------+-------------+-------------+-------------------+\n",
      "only showing top 20 rows\n",
      "\n"
     ]
    }
   ],
   "source": [
    "data.sql(\"CREATE OR REPLACE TEMPORARY VIEW flightbycarrier AS SELECT OP_CARRIER, count(*) AS TOTAL_FLIGHTS FROM flightdata GROUP BY OP_CARRIER ORDER BY OP_CARRIER ASC\")\n",
    "data.sql(\"CREATE OR REPLACE TEMPORARY VIEW latearrivalbycarrier AS SELECT OP_CARRIER, count(*) AS LATE_ARRIVALS FROM flightdata WHERE ARR_DELAY>0 GROUP BY OP_CARRIER ORDER BY OP_CARRIER ASC\")\n",
    "\n",
    "print(\"Late arrivals by carrier\")\n",
    "data.sql(\"\"\"\n",
    "SELECT f.OP_CARRIER, TOTAL_FLIGHTS, LATE_ARRIVALS, (LATE_ARRIVALS/TOTAL_FLIGHTS) AS laterate\n",
    "FROM flightbycarrier f, latearrivalbycarrier l\n",
    "WHERE f.OP_CARRIER = l.OP_CARRIER\n",
    "ORDER BY OP_CARRIER ASC\n",
    "\"\"\").show()"
   ]
  },
  {
   "cell_type": "code",
   "execution_count": 12,
   "metadata": {},
   "outputs": [
    {
     "name": "stdout",
     "output_type": "stream",
     "text": [
      "Late arrivals by flight number\n",
      "+-------------+-------------+-------------+------------------+\n",
      "|FLIGHT_NUMBER|TOTAL_FLIGHTS|LATE_ARRIVALS|          laterate|\n",
      "+-------------+-------------+-------------+------------------+\n",
      "|       9E2114|            1|            1|               1.0|\n",
      "|       9E2116|            1|            1|               1.0|\n",
      "|       9E2130|            2|            1|               0.5|\n",
      "|       9E2137|            1|            1|               1.0|\n",
      "|       9E2150|            1|            1|               1.0|\n",
      "|       9E2151|            1|            1|               1.0|\n",
      "|       9E2179|            1|            1|               1.0|\n",
      "|       9E2185|            1|            1|               1.0|\n",
      "|       9E2189|            2|            1|               0.5|\n",
      "|       9E2191|            1|            1|               1.0|\n",
      "|       9E2204|            2|            1|               0.5|\n",
      "|       9E2225|            1|            1|               1.0|\n",
      "|       9E2240|            2|            1|               0.5|\n",
      "|       9E2257|            1|            1|               1.0|\n",
      "|       9E2260|            2|            1|               0.5|\n",
      "|       9E2264|            1|            1|               1.0|\n",
      "|       9E2271|            1|            1|               1.0|\n",
      "|       9E2280|            1|            1|               1.0|\n",
      "|       9E2287|            1|            1|               1.0|\n",
      "|       9E2289|            3|            1|0.3333333333333333|\n",
      "+-------------+-------------+-------------+------------------+\n",
      "only showing top 20 rows\n",
      "\n"
     ]
    }
   ],
   "source": [
    "data.sql(\"CREATE OR REPLACE TEMPORARY VIEW flightbyflightnumber AS SELECT CONCAT(OP_CARRIER, OP_CARRIER_FL_NUM) AS FLIGHT_NUMBER, count(*) AS TOTAL_FLIGHTS FROM flightdata GROUP BY FLIGHT_NUMBER ORDER BY FLIGHT_NUMBER ASC\")\n",
    "data.sql(\"CREATE OR REPLACE TEMPORARY VIEW latearrivalbyflightnumber AS SELECT CONCAT(OP_CARRIER, OP_CARRIER_FL_NUM) AS FLIGHT_NUMBER, count(*) AS LATE_ARRIVALS FROM flightdata WHERE ARR_DELAY>0 GROUP BY FLIGHT_NUMBER ORDER BY FLIGHT_NUMBER ASC\")\n",
    "\n",
    "print(\"Late arrivals by flight number\")\n",
    "data.sql(\"\"\"\n",
    "SELECT f.FLIGHT_NUMBER, TOTAL_FLIGHTS, LATE_ARRIVALS, (LATE_ARRIVALS/TOTAL_FLIGHTS) AS laterate\n",
    "FROM flightbyflightnumber f, latearrivalbyflightnumber l\n",
    "WHERE f.FLIGHT_NUMBER = l.FLIGHT_NUMBER\n",
    "ORDER BY FLIGHT_NUMBER ASC\n",
    "\"\"\").show()"
   ]
  },
  {
   "cell_type": "code",
   "execution_count": 13,
   "metadata": {},
   "outputs": [
    {
     "name": "stdout",
     "output_type": "stream",
     "text": [
      "Late arrivals by route\n",
      "+------+----+-------------+-------------+-------------------+\n",
      "|ORIGIN|DEST|TOTAL_FLIGHTS|LATE_ARRIVALS|           laterate|\n",
      "+------+----+-------------+-------------+-------------------+\n",
      "|   ABE| ATL|           16|            7|             0.4375|\n",
      "|   ABE| DTW|           20|            6|                0.3|\n",
      "|   ABE| MCO|            3|            2| 0.6666666666666666|\n",
      "|   ABE| MYR|            1|            1|                1.0|\n",
      "|   ABE| ORD|           13|            5|0.38461538461538464|\n",
      "|   ABI| DFW|           41|           14|0.34146341463414637|\n",
      "|   ABQ| ATL|           17|            9| 0.5294117647058824|\n",
      "|   ABQ| BWI|            9|            2| 0.2222222222222222|\n",
      "|   ABQ| DAL|           48|           20| 0.4166666666666667|\n",
      "|   ABQ| DEN|           47|           16| 0.3404255319148936|\n",
      "|   ABQ| DFW|           45|           14| 0.3111111111111111|\n",
      "|   ABQ| ELP|            3|            2| 0.6666666666666666|\n",
      "|   ABQ| HOU|           18|           10| 0.5555555555555556|\n",
      "|   ABQ| IAH|           33|            8|0.24242424242424243|\n",
      "|   ABQ| JFK|            4|            2|                0.5|\n",
      "|   ABQ| LAS|           35|           11| 0.3142857142857143|\n",
      "|   ABQ| LAX|           37|            8|0.21621621621621623|\n",
      "|   ABQ| MCI|           12|            4| 0.3333333333333333|\n",
      "|   ABQ| MCO|            4|            1|               0.25|\n",
      "|   ABQ| MDW|           15|            4|0.26666666666666666|\n",
      "+------+----+-------------+-------------+-------------------+\n",
      "only showing top 20 rows\n",
      "\n"
     ]
    }
   ],
   "source": [
    "data.sql(\"CREATE OR REPLACE TEMPORARY VIEW flightbyroute AS SELECT ORIGIN, DEST, count(*) AS TOTAL_FLIGHTS FROM flightdata GROUP BY ORIGIN, DEST ORDER BY ORIGIN, DEST ASC\")\n",
    "data.sql(\"CREATE OR REPLACE TEMPORARY VIEW latearrivalbyroute AS SELECT ORIGIN, DEST, count(*) AS LATE_ARRIVALS FROM flightdata WHERE ARR_DELAY>0 GROUP BY ORIGIN, DEST ORDER BY ORIGIN, DEST ASC\")\n",
    "\n",
    "print(\"Late arrivals by route\")\n",
    "data.sql(\"\"\"\n",
    "SELECT f.ORIGIN, f.DEST, TOTAL_FLIGHTS, LATE_ARRIVALS, (LATE_ARRIVALS/TOTAL_FLIGHTS) AS laterate\n",
    "FROM flightbyroute f, latearrivalbyroute l\n",
    "WHERE f.ORIGIN=l.ORIGIN\n",
    "AND f.DEST=l.DEST\n",
    "ORDER BY ORIGIN, DEST ASC\n",
    "\"\"\").show()"
   ]
  },
  {
   "cell_type": "code",
   "execution_count": 17,
   "metadata": {},
   "outputs": [
    {
     "name": "stdout",
     "output_type": "stream",
     "text": [
      "Number of carriers for each flight route\n",
      "+------+----+------------------+\n",
      "|ORIGIN|DEST|number_of_carriers|\n",
      "+------+----+------------------+\n",
      "|   ABE| ATL|                 3|\n",
      "|   ABE| CLT|                 3|\n",
      "|   ABE| DTW|                 4|\n",
      "|   ABE| FLL|                 1|\n",
      "|   ABE| IAD|                 1|\n",
      "|   ABE| MCO|                 1|\n",
      "|   ABE| MYR|                 1|\n",
      "|   ABE| ORD|                 4|\n",
      "|   ABE| SFB|                 1|\n",
      "|   ABI| DFW|                 2|\n",
      "|   ABQ| AMA|                 1|\n",
      "|   ABQ| ATL|                 1|\n",
      "|   ABQ| BWI|                 1|\n",
      "|   ABQ| DAL|                 1|\n",
      "|   ABQ| DEN|                 7|\n",
      "|   ABQ| DFW|                 2|\n",
      "|   ABQ| ELP|                 1|\n",
      "|   ABQ| HOU|                 1|\n",
      "|   ABQ| IAD|                 1|\n",
      "|   ABQ| IAH|                 6|\n",
      "+------+----+------------------+\n",
      "only showing top 20 rows\n",
      "\n"
     ]
    }
   ],
   "source": [
    "print(\"Number of carriers for each flight route\")\n",
    "data.sql(\"\"\"\n",
    "SELECT f.ORIGIN, f.DEST, count(DISTINCT OP_CARRIER) AS number_of_carriers\n",
    "FROM flightdata f\n",
    "GROUP BY ORIGIN, DEST\n",
    "ORDER BY ORIGIN, DEST ASC\n",
    "\"\"\").show()\n"
   ]
  }
 ],
 "metadata": {
  "kernelspec": {
   "display_name": "BigData",
   "language": "python",
   "name": "python3"
  },
  "language_info": {
   "codemirror_mode": {
    "name": "ipython",
    "version": 3
   },
   "file_extension": ".py",
   "mimetype": "text/x-python",
   "name": "python",
   "nbconvert_exporter": "python",
   "pygments_lexer": "ipython3",
   "version": "3.8.16"
  },
  "orig_nbformat": 4
 },
 "nbformat": 4,
 "nbformat_minor": 2
}
