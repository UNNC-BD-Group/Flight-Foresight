{
 "cells": [
  {
   "cell_type": "code",
   "execution_count": 1,
   "metadata": {},
   "outputs": [],
   "source": [
    "from utils.dataset import AirDelayDataset"
   ]
  },
  {
   "cell_type": "code",
   "execution_count": 2,
   "metadata": {},
   "outputs": [
    {
     "name": "stdout",
     "output_type": "stream",
     "text": [
      "Initializing Spark...\n",
      "Spark stand by (Master=local, AppName=0d47713c-a3a2-4f4d-bd83-1ac108fd9e9b)\n",
      "Load datasets from ../datasets/airline-delay-analysis/\n"
     ]
    },
    {
     "name": "stderr",
     "output_type": "stream",
     "text": [
      "Loading 2019.csv: : 11it [05:23, 29.45s/it]\n"
     ]
    },
    {
     "name": "stdout",
     "output_type": "stream",
     "text": [
      "Merging Frames...\n",
      "                                                   0\n",
      "Spark Master                                   local\n",
      "Spark APP Name  0d47713c-a3a2-4f4d-bd83-1ac108fd9e9b\n",
      "Data Path        ../datasets/airline-delay-analysis/\n",
      "Data Count                                  68979001\n"
     ]
    }
   ],
   "source": [
    "add = AirDelayDataset('../datasets/airline-delay-analysis/')"
   ]
  },
  {
   "cell_type": "code",
   "execution_count": 9,
   "metadata": {},
   "outputs": [
    {
     "name": "stdout",
     "output_type": "stream",
     "text": [
      "+-------------------+\n",
      "|            FL_DATE|\n",
      "+-------------------+\n",
      "|2009-12-31 00:00:00|\n",
      "|2009-12-31 00:00:00|\n",
      "|2009-12-31 00:00:00|\n",
      "|2009-12-31 00:00:00|\n",
      "|2009-12-31 00:00:00|\n",
      "|2009-12-31 00:00:00|\n",
      "|2009-12-31 00:00:00|\n",
      "|2009-12-31 00:00:00|\n",
      "|2009-12-31 00:00:00|\n",
      "|2009-12-31 00:00:00|\n",
      "|2009-12-31 00:00:00|\n",
      "|2009-12-31 00:00:00|\n",
      "|2009-12-31 00:00:00|\n",
      "|2009-12-31 00:00:00|\n",
      "|2009-12-31 00:00:00|\n",
      "|2009-12-31 00:00:00|\n",
      "|2009-12-31 00:00:00|\n",
      "|2009-12-31 00:00:00|\n",
      "|2009-12-31 00:00:00|\n",
      "|2009-12-31 00:00:00|\n",
      "+-------------------+\n",
      "only showing top 20 rows\n",
      "\n"
     ]
    }
   ],
   "source": [
    "add.dataframe().select('FL_DATE').sort('FL_DATE', ascending=False).show()"
   ]
  },
  {
   "cell_type": "code",
   "execution_count": 3,
   "metadata": {},
   "outputs": [
    {
     "name": "stdout",
     "output_type": "stream",
     "text": [
      "+-------------------+----------+-----------------+------+----+------------+--------+---------+--------+----------+---------+-------+------------+--------+---------+---------+-----------------+--------+----------------+-------------------+--------+--------+-------------+-------------+---------+--------------+-------------------+-----------+\n",
      "|            FL_DATE|OP_CARRIER|OP_CARRIER_FL_NUM|ORIGIN|DEST|CRS_DEP_TIME|DEP_TIME|DEP_DELAY|TAXI_OUT|WHEELS_OFF|WHEELS_ON|TAXI_IN|CRS_ARR_TIME|ARR_TIME|ARR_DELAY|CANCELLED|CANCELLATION_CODE|DIVERTED|CRS_ELAPSED_TIME|ACTUAL_ELAPSED_TIME|AIR_TIME|DISTANCE|CARRIER_DELAY|WEATHER_DELAY|NAS_DELAY|SECURITY_DELAY|LATE_AIRCRAFT_DELAY|Unnamed: 27|\n",
      "+-------------------+----------+-----------------+------+----+------------+--------+---------+--------+----------+---------+-------+------------+--------+---------+---------+-----------------+--------+----------------+-------------------+--------+--------+-------------+-------------+---------+--------------+-------------------+-----------+\n",
      "|2017-01-01 00:00:00|        EV|             5420|   GNV| ATL|        1710|  1721.0|     11.0|    11.0|    1732.0|   1831.0|   11.0|        1836|  1842.0|      6.0|      0.0|             null|     0.0|            86.0|               81.0|    59.0|   300.0|         null|         null|     null|          null|               null|       null|\n",
      "|2017-01-01 00:00:00|        EV|             5108|   GNV| ATL|         608|   605.0|     -3.0|    12.0|     617.0|    712.0|    9.0|         727|   721.0|     -6.0|      0.0|             null|     0.0|            79.0|               76.0|    55.0|   300.0|         null|         null|     null|          null|               null|       null|\n",
      "|2017-01-01 00:00:00|        EV|             5489|   GNV| ATL|        1256|  1252.0|     -4.0|    11.0|    1303.0|   1402.0|   11.0|        1419|  1413.0|     -6.0|      0.0|             null|     0.0|            83.0|               81.0|    59.0|   300.0|         null|         null|     null|          null|               null|       null|\n",
      "|2017-01-01 00:00:00|        EV|             5553|   GNV| ATL|        1535|  1536.0|      1.0|    24.0|    1600.0|   1703.0|    8.0|        1654|  1711.0|     17.0|      0.0|             null|     0.0|            79.0|               95.0|    63.0|   300.0|          1.0|          0.0|     16.0|           0.0|                0.0|       null|\n",
      "|2017-01-02 00:00:00|        EV|             5420|   GNV| ATL|        1710|  1819.0|     69.0|    17.0|    1836.0|   1941.0|   10.0|        1837|  1951.0|     74.0|      0.0|             null|     0.0|            87.0|               92.0|    65.0|   300.0|          7.0|          0.0|      5.0|           0.0|               62.0|       null|\n",
      "|2017-01-02 00:00:00|        EV|             5444|   GNV| ATL|        1002|  1106.0|     64.0|    18.0|    1124.0|    314.0|    8.0|        1124|   322.0|     null|      0.0|             null|     1.0|            82.0|               null|    null|   300.0|         null|         null|     null|          null|               null|       null|\n",
      "|2017-01-02 00:00:00|        EV|             5105|   GNV| ATL|        1939|  2304.0|    205.0|    13.0|    2317.0|     15.0|    8.0|        2105|    23.0|    198.0|      0.0|             null|     0.0|            86.0|               79.0|    58.0|   300.0|          0.0|          0.0|      0.0|           0.0|              198.0|       null|\n",
      "|2017-01-02 00:00:00|        EV|             5108|   GNV| ATL|         608|   604.0|     -4.0|    19.0|     623.0|    722.0|    7.0|         731|   729.0|     -2.0|      0.0|             null|     0.0|            83.0|               85.0|    59.0|   300.0|         null|         null|     null|          null|               null|       null|\n",
      "|2017-01-02 00:00:00|        EV|             5489|   GNV| ATL|        1256|  1356.0|     60.0|    20.0|    1416.0|   1513.0|   14.0|        1420|  1527.0|     67.0|      0.0|             null|     0.0|            84.0|               91.0|    57.0|   300.0|         20.0|          0.0|      7.0|           0.0|               40.0|       null|\n",
      "|2017-01-02 00:00:00|        EV|             5553|   GNV| ATL|        1535|  1531.0|     -4.0|    17.0|    1548.0|   1646.0|   13.0|        1655|  1659.0|      4.0|      0.0|             null|     0.0|            80.0|               88.0|    58.0|   300.0|         null|         null|     null|          null|               null|       null|\n",
      "|2017-01-03 00:00:00|        DL|              303|   GNV| ATL|        1939|  1936.0|     -3.0|    16.0|    1952.0|   2044.0|    5.0|        2104|  2049.0|    -15.0|      0.0|             null|     0.0|            85.0|               73.0|    52.0|   300.0|         null|         null|     null|          null|               null|       null|\n",
      "|2017-01-03 00:00:00|        EV|             5420|   GNV| ATL|        1710|  1701.0|     -9.0|    19.0|    1720.0|   1813.0|    7.0|        1837|  1820.0|    -17.0|      0.0|             null|     0.0|            87.0|               79.0|    53.0|   300.0|         null|         null|     null|          null|               null|       null|\n",
      "|2017-01-03 00:00:00|        EV|             5444|   GNV| ATL|        1002|  1000.0|     -2.0|    25.0|    1025.0|   1120.0|    7.0|        1124|  1127.0|      3.0|      0.0|             null|     0.0|            82.0|               87.0|    55.0|   300.0|         null|         null|     null|          null|               null|       null|\n",
      "|2017-01-03 00:00:00|        EV|             5108|   GNV| ATL|         608|   754.0|    106.0|     7.0|     801.0|    906.0|   21.0|         731|   927.0|    116.0|      0.0|             null|     0.0|            83.0|               93.0|    65.0|   300.0|        106.0|          0.0|     10.0|           0.0|                0.0|       null|\n",
      "|2017-01-03 00:00:00|        EV|             5489|   GNV| ATL|        1256|  1303.0|      7.0|    13.0|    1316.0|   1411.0|    9.0|        1420|  1420.0|      0.0|      0.0|             null|     0.0|            84.0|               77.0|    55.0|   300.0|         null|         null|     null|          null|               null|       null|\n",
      "|2017-01-03 00:00:00|        EV|             5553|   GNV| ATL|        1535|  1533.0|     -2.0|     9.0|    1542.0|   1636.0|    4.0|        1655|  1640.0|    -15.0|      0.0|             null|     0.0|            80.0|               67.0|    54.0|   300.0|         null|         null|     null|          null|               null|       null|\n",
      "|2017-01-04 00:00:00|        EV|             5420|   GNV| ATL|        1710|  1704.0|     -6.0|    21.0|    1725.0|   1820.0|   13.0|        1837|  1833.0|     -4.0|      0.0|             null|     0.0|            87.0|               89.0|    55.0|   300.0|         null|         null|     null|          null|               null|       null|\n",
      "|2017-01-04 00:00:00|        EV|             5444|   GNV| ATL|        1002|   954.0|     -8.0|    25.0|    1019.0|   1111.0|   13.0|        1124|  1124.0|      0.0|      0.0|             null|     0.0|            82.0|               90.0|    52.0|   300.0|         null|         null|     null|          null|               null|       null|\n",
      "|2017-01-04 00:00:00|        EV|             5108|   GNV| ATL|         608|   559.0|     -9.0|    18.0|     617.0|    712.0|    8.0|         731|   720.0|    -11.0|      0.0|             null|     0.0|            83.0|               81.0|    55.0|   300.0|         null|         null|     null|          null|               null|       null|\n",
      "|2017-01-04 00:00:00|        EV|             5489|   GNV| ATL|        1256|  1251.0|     -5.0|     8.0|    1259.0|   1349.0|   10.0|        1420|  1359.0|    -21.0|      0.0|             null|     0.0|            84.0|               68.0|    50.0|   300.0|         null|         null|     null|          null|               null|       null|\n",
      "+-------------------+----------+-----------------+------+----+------------+--------+---------+--------+----------+---------+-------+------------+--------+---------+---------+-----------------+--------+----------------+-------------------+--------+--------+-------------+-------------+---------+--------------+-------------------+-----------+\n",
      "only showing top 20 rows\n",
      "\n"
     ]
    }
   ],
   "source": [
    "add_ori_gnv = add.get_ports(['GNV'], 'origin')\n",
    "add_ori_gnv.dataframe().show()"
   ]
  },
  {
   "cell_type": "code",
   "execution_count": 3,
   "metadata": {},
   "outputs": [
    {
     "name": "stdout",
     "output_type": "stream",
     "text": [
      "+-------------------+----------+-----------------+------+----+------------+--------+---------+--------+----------+---------+-------+------------+--------+---------+---------+-----------------+--------+----------------+-------------------+--------+--------+-------------+-------------+---------+--------------+-------------------+-----------+----+\n",
      "|            FL_DATE|OP_CARRIER|OP_CARRIER_FL_NUM|ORIGIN|DEST|CRS_DEP_TIME|DEP_TIME|DEP_DELAY|TAXI_OUT|WHEELS_OFF|WHEELS_ON|TAXI_IN|CRS_ARR_TIME|ARR_TIME|ARR_DELAY|CANCELLED|CANCELLATION_CODE|DIVERTED|CRS_ELAPSED_TIME|ACTUAL_ELAPSED_TIME|AIR_TIME|DISTANCE|CARRIER_DELAY|WEATHER_DELAY|NAS_DELAY|SECURITY_DELAY|LATE_AIRCRAFT_DELAY|Unnamed: 27|_c20|\n",
      "+-------------------+----------+-----------------+------+----+------------+--------+---------+--------+----------+---------+-------+------------+--------+---------+---------+-----------------+--------+----------------+-------------------+--------+--------+-------------+-------------+---------+--------------+-------------------+-----------+----+\n",
      "|2019-01-01 00:00:00|        9E|             3280|   GNV| ATL|        null|   601.0|      1.0|    22.0|     623.0|    714.0|    8.0|        null|   722.0|     -1.0|     null|             null|    null|            null|               null|    51.0|   300.0|         null|         null|     null|          null|               null|       null|null|\n",
      "|2019-01-01 00:00:00|        9E|             3281|   MSP| CVG|        null|  1359.0|     -5.0|    15.0|    1414.0|   1629.0|    4.0|        null|  1633.0|    -36.0|     null|             null|    null|            null|               null|    75.0|   596.0|         null|         null|     null|          null|               null|       null|null|\n",
      "|2019-01-01 00:00:00|        9E|             3282|   DTW| CVG|        null|  1215.0|     -5.0|    18.0|    1233.0|   1323.0|    6.0|        null|  1329.0|    -16.0|     null|             null|    null|            null|               null|    50.0|   229.0|         null|         null|     null|          null|               null|       null|null|\n",
      "|2019-01-01 00:00:00|        9E|             3283|   TLH| ATL|        null|  1521.0|     -6.0|    14.0|    1535.0|   1618.0|    7.0|        null|  1625.0|    -14.0|     null|             null|    null|            null|               null|    43.0|   223.0|         null|         null|     null|          null|               null|       null|null|\n",
      "|2019-01-01 00:00:00|        9E|             3284|   ATL| FSM|        null|  1847.0|    -15.0|    18.0|    1905.0|   1935.0|    5.0|        null|  1940.0|    -25.0|     null|             null|    null|            null|               null|    90.0|   579.0|         null|         null|     null|          null|               null|       null|null|\n",
      "|2019-01-01 00:00:00|        9E|             3285|   DAY| MSP|        null|   853.0|     -7.0|    25.0|     918.0|    948.0|    5.0|        null|   953.0|    -19.0|     null|             null|    null|            null|               null|    90.0|   574.0|         null|         null|     null|          null|               null|       null|null|\n",
      "|2019-01-01 00:00:00|        9E|             3286|   JAN| ATL|        null|  1553.0|     -5.0|    33.0|    1626.0|   1818.0|   14.0|        null|  1832.0|      9.0|     null|             null|    null|            null|               null|    52.0|   341.0|         null|         null|     null|          null|               null|       null|null|\n",
      "|2019-01-01 00:00:00|        9E|             3287|   LGA| CVG|        null|  1551.0|     -4.0|    31.0|    1622.0|   1816.0|    8.0|        null|  1824.0|      3.0|     null|             null|    null|            null|               null|   114.0|   585.0|         null|         null|     null|          null|               null|       null|null|\n",
      "|2019-01-01 00:00:00|        9E|             3288|   JAX| LGA|        null|  1037.0|     -8.0|    17.0|    1054.0|   1235.0|    4.0|        null|  1239.0|    -22.0|     null|             null|    null|            null|               null|   101.0|   833.0|         null|         null|     null|          null|               null|       null|null|\n",
      "|2019-01-01 00:00:00|        9E|             3289|   ATL| BMI|        null|  1245.0|      0.0|    15.0|    1300.0|   1316.0|    2.0|        null|  1318.0|    -14.0|     null|             null|    null|            null|               null|    76.0|   533.0|         null|         null|     null|          null|               null|       null|null|\n",
      "|2019-01-01 00:00:00|        9E|             3289|   BMI| ATL|        null|  1410.0|     -5.0|    22.0|    1432.0|   1655.0|    5.0|        null|  1700.0|     -7.0|     null|             null|    null|            null|               null|    83.0|   533.0|         null|         null|     null|          null|               null|       null|null|\n",
      "|2019-01-01 00:00:00|        9E|             3290|   CAK| ATL|        null|   557.0|     -3.0|    10.0|     607.0|    731.0|    6.0|        null|   737.0|    -32.0|     null|             null|    null|            null|               null|    84.0|   528.0|         null|         null|     null|          null|               null|       null|null|\n",
      "|2019-01-01 00:00:00|        9E|             3291|   DTW| DAY|        null|  1552.0|     12.0|    68.0|    1700.0|   1735.0|    3.0|        null|  1738.0|     44.0|     null|             null|    null|            null|               null|    35.0|   166.0|         12.0|          0.0|     32.0|           0.0|                0.0|       null|null|\n",
      "|2019-01-01 00:00:00|        9E|             3292|   MSP| DAY|        null|  2029.0|     -4.0|    10.0|    2039.0|   2253.0|    6.0|        null|  2259.0|    -47.0|     null|             null|    null|            null|               null|    74.0|   574.0|         null|         null|     null|          null|               null|       null|null|\n",
      "|2019-01-01 00:00:00|        9E|             3293|   PHL| DTW|        null|  1312.0|     -5.0|    16.0|    1328.0|   1448.0|    6.0|        null|  1454.0|    -16.0|     null|             null|    null|            null|               null|    80.0|   453.0|         null|         null|     null|          null|               null|       null|null|\n",
      "|2019-01-01 00:00:00|        9E|             3294|   JFK| RIC|        null|  1450.0|      0.0|    40.0|    1530.0|   1632.0|    5.0|        null|  1637.0|      7.0|     null|             null|    null|            null|               null|    62.0|   288.0|         null|         null|     null|          null|               null|       null|null|\n",
      "|2019-01-01 00:00:00|        9E|             3295|   DTW| EWR|        null|  1353.0|     83.0|    18.0|    1411.0|   1516.0|    5.0|        null|  1521.0|     59.0|     null|             null|    null|            null|               null|    65.0|   488.0|          0.0|          0.0|     59.0|           0.0|                0.0|       null|null|\n",
      "|2019-01-01 00:00:00|        9E|             3296|   AGS| ATL|        null|  1148.0|     -8.0|     8.0|    1156.0|   1228.0|    8.0|        null|  1236.0|    -28.0|     null|             null|    null|            null|               null|    32.0|   143.0|         null|         null|     null|          null|               null|       null|null|\n",
      "|2019-01-01 00:00:00|        9E|             3296|   ATL| AGS|        null|  1020.0|     -5.0|    16.0|    1036.0|   1106.0|    5.0|        null|  1111.0|    -14.0|     null|             null|    null|            null|               null|    30.0|   143.0|         null|         null|     null|          null|               null|       null|null|\n",
      "|2019-01-01 00:00:00|        9E|             3297|   DTW| CVG|        null|   817.0|     -8.0|    20.0|     837.0|    928.0|    4.0|        null|   932.0|    -28.0|     null|             null|    null|            null|               null|    51.0|   229.0|         null|         null|     null|          null|               null|       null|null|\n",
      "+-------------------+----------+-----------------+------+----+------------+--------+---------+--------+----------+---------+-------+------------+--------+---------+---------+-----------------+--------+----------------+-------------------+--------+--------+-------------+-------------+---------+--------------+-------------------+-----------+----+\n",
      "only showing top 20 rows\n",
      "\n"
     ]
    }
   ],
   "source": [
    "add_period = add.get_date_period('2019-01-01', '2019-01-02')\n",
    "add_period.dataframe().show()"
   ]
  },
  {
   "cell_type": "code",
   "execution_count": 9,
   "metadata": {},
   "outputs": [
    {
     "name": "stdout",
     "output_type": "stream",
     "text": [
      "+-------------------+----------+-----------------+------+----+------------+--------+---------+--------+----------+---------+-------+------------+--------+---------+---------+-----------------+--------+----------------+-------------------+--------+--------+-------------+-------------+---------+--------------+-------------------+-----------+----+\n",
      "|            FL_DATE|OP_CARRIER|OP_CARRIER_FL_NUM|ORIGIN|DEST|CRS_DEP_TIME|DEP_TIME|DEP_DELAY|TAXI_OUT|WHEELS_OFF|WHEELS_ON|TAXI_IN|CRS_ARR_TIME|ARR_TIME|ARR_DELAY|CANCELLED|CANCELLATION_CODE|DIVERTED|CRS_ELAPSED_TIME|ACTUAL_ELAPSED_TIME|AIR_TIME|DISTANCE|CARRIER_DELAY|WEATHER_DELAY|NAS_DELAY|SECURITY_DELAY|LATE_AIRCRAFT_DELAY|Unnamed: 27|_c20|\n",
      "+-------------------+----------+-----------------+------+----+------------+--------+---------+--------+----------+---------+-------+------------+--------+---------+---------+-----------------+--------+----------------+-------------------+--------+--------+-------------+-------------+---------+--------------+-------------------+-----------+----+\n",
      "|2009-01-01 00:00:00|        YV|             7104|   DEN| CPR|      2150.0|    null|     null|    null|      null|     null|   null|      2312.0|    null|     null|      1.0|                A|     0.0|            82.0|               null|    null|   230.0|         null|         null|     null|          null|               null|       null|null|\n",
      "|2009-01-01 00:00:00|        YV|             7329|   DTW| ORD|      1857.0|    null|     null|    null|      null|     null|   null|      1914.0|    null|     null|      1.0|                A|     0.0|            77.0|               null|    null|   235.0|         null|         null|     null|          null|               null|       null|null|\n",
      "|2009-01-01 00:00:00|        YV|             7065|   EWR| IAD|      1013.0|    null|     null|    null|      null|     null|   null|      1139.0|    null|     null|      1.0|                A|     0.0|            86.0|               null|    null|   213.0|         null|         null|     null|          null|               null|       null|null|\n",
      "|2009-01-01 00:00:00|        YV|             2984|   FAT| LAS|       710.0|    null|     null|    null|      null|     null|   null|       820.0|    null|     null|      1.0|                B|     0.0|            70.0|               null|    null|   258.0|         null|         null|     null|          null|               null|       null|null|\n",
      "|2009-01-01 00:00:00|        YV|             2823|   FAT| PHX|       920.0|    null|     null|    null|      null|     null|   null|      1205.0|    null|     null|      1.0|                B|     0.0|           105.0|               null|    null|   493.0|         null|         null|     null|          null|               null|       null|null|\n",
      "|2009-01-01 00:00:00|        YV|             7344|   MLI| ORD|       600.0|    null|     null|    null|      null|     null|   null|       658.0|    null|     null|      1.0|                A|     0.0|            58.0|               null|    null|   139.0|         null|         null|     null|          null|               null|       null|null|\n",
      "|2009-01-01 00:00:00|        YV|             2798|   SBA| PHX|       600.0|    null|     null|    null|      null|     null|   null|       920.0|    null|     null|      1.0|                B|     0.0|           140.0|               null|    null|   455.0|         null|         null|     null|          null|               null|       null|null|\n",
      "|2009-01-01 00:00:00|        YV|             2939|   SBA| PHX|       940.0|    null|     null|    null|      null|     null|   null|      1214.0|    null|     null|      1.0|                B|     0.0|            94.0|               null|    null|   455.0|         null|         null|     null|          null|               null|       null|null|\n",
      "|2009-01-01 00:00:00|        OO|             4537|   ATL| MOB|      1215.0|    null|     null|    null|      null|     null|   null|      1226.0|    null|     null|      1.0|                A|     0.0|            71.0|               null|    null|   302.0|         null|         null|     null|          null|               null|       null|null|\n",
      "|2009-01-01 00:00:00|        OO|             4537|   MOB| ATL|      1305.0|    null|     null|    null|      null|     null|   null|      1519.0|    null|     null|      1.0|                A|     0.0|            74.0|               null|    null|   302.0|         null|         null|     null|          null|               null|       null|null|\n",
      "|2009-01-01 00:00:00|        OO|             4785|   BTM| SLC|      1300.0|    null|     null|    null|      null|     null|   null|      1415.0|    null|     null|      1.0|                B|     0.0|            75.0|               null|    null|   357.0|         null|         null|     null|          null|               null|       null|null|\n",
      "|2009-01-01 00:00:00|        OO|             4794|   SBA| SLC|       605.0|    null|     null|    null|      null|     null|   null|       908.0|    null|     null|      1.0|                B|     0.0|           123.0|               null|    null|   615.0|         null|         null|     null|          null|               null|       null|null|\n",
      "|2009-01-01 00:00:00|        OO|             4810|   FAT| SLC|       630.0|    null|     null|    null|      null|     null|   null|       910.0|    null|     null|      1.0|                B|     0.0|           100.0|               null|    null|   501.0|         null|         null|     null|          null|               null|       null|null|\n",
      "|2009-01-01 00:00:00|        OO|             5424|   SBA| LAX|      1312.0|    null|     null|    null|      null|     null|   null|      1404.0|    null|     null|      1.0|                A|     0.0|            52.0|               null|    null|    89.0|         null|         null|     null|          null|               null|       null|null|\n",
      "|2009-01-01 00:00:00|        OO|             5466|   MRY| LAX|      1008.0|    null|     null|    null|      null|     null|   null|      1138.0|    null|     null|      1.0|                B|     0.0|            90.0|               null|    null|   267.0|         null|         null|     null|          null|               null|       null|null|\n",
      "|2009-01-01 00:00:00|        OO|             5510|   SBA| LAX|       700.0|    null|     null|    null|      null|     null|   null|       749.0|    null|     null|      1.0|                B|     0.0|            49.0|               null|    null|    89.0|         null|         null|     null|          null|               null|       null|null|\n",
      "|2009-01-01 00:00:00|        OO|             5544|   LAX| SBA|      1430.0|    null|     null|    null|      null|     null|   null|      1513.0|    null|     null|      1.0|                A|     0.0|            43.0|               null|    null|    89.0|         null|         null|     null|          null|               null|       null|null|\n",
      "|2009-01-01 00:00:00|        OO|             5555|   SBA| SFO|       621.0|    null|     null|    null|      null|     null|   null|       745.0|    null|     null|      1.0|                B|     0.0|            84.0|               null|    null|   262.0|         null|         null|     null|          null|               null|       null|null|\n",
      "|2009-01-01 00:00:00|        OO|             5557|   SFO| MRY|       805.0|    null|     null|    null|      null|     null|   null|       848.0|    null|     null|      1.0|                B|     0.0|            43.0|               null|    null|    77.0|         null|         null|     null|          null|               null|       null|null|\n",
      "|2009-01-01 00:00:00|        OO|             5568|   SBA| SFO|      1212.0|    null|     null|    null|      null|     null|   null|      1334.0|    null|     null|      1.0|                B|     0.0|            82.0|               null|    null|   262.0|         null|         null|     null|          null|               null|       null|null|\n",
      "+-------------------+----------+-----------------+------+----+------------+--------+---------+--------+----------+---------+-------+------------+--------+---------+---------+-----------------+--------+----------------+-------------------+--------+--------+-------------+-------------+---------+--------------+-------------------+-----------+----+\n",
      "only showing top 20 rows\n",
      "\n"
     ]
    }
   ],
   "source": [
    "add_cancel = add.get_cancelled()\n",
    "add_cancel.dataframe().show()"
   ]
  },
  {
   "cell_type": "code",
   "execution_count": 10,
   "metadata": {},
   "outputs": [],
   "source": [
    "cancel_num = len(add_cancel)\n",
    "total_num = len(add)"
   ]
  },
  {
   "cell_type": "code",
   "execution_count": 7,
   "metadata": {},
   "outputs": [
    {
     "name": "stdout",
     "output_type": "stream",
     "text": [
      "cancel=973209, total=68979001, 1.41%\n"
     ]
    }
   ],
   "source": [
    "print('cancel={}, total={}, {:.2f}%'.format(cancel_num,\n",
    "                                            total_num,\n",
    "                                            cancel_num/total_num*100))"
   ]
  },
  {
   "cell_type": "code",
   "execution_count": 9,
   "metadata": {},
   "outputs": [
    {
     "data": {
      "text/plain": [
       "StructType([StructField('FL_DATE', TimestampType(), True), StructField('OP_CARRIER', StringType(), True), StructField('OP_CARRIER_FL_NUM', IntegerType(), True), StructField('ORIGIN', StringType(), True), StructField('DEST', StringType(), True), StructField('CRS_DEP_TIME', DoubleType(), True), StructField('DEP_TIME', DoubleType(), True), StructField('DEP_DELAY', DoubleType(), True), StructField('TAXI_OUT', DoubleType(), True), StructField('WHEELS_OFF', DoubleType(), True), StructField('WHEELS_ON', DoubleType(), True), StructField('TAXI_IN', DoubleType(), True), StructField('CRS_ARR_TIME', DoubleType(), True), StructField('ARR_TIME', DoubleType(), True), StructField('ARR_DELAY', DoubleType(), True), StructField('CANCELLED', DoubleType(), True), StructField('CANCELLATION_CODE', StringType(), True), StructField('DIVERTED', DoubleType(), True), StructField('CRS_ELAPSED_TIME', DoubleType(), True), StructField('ACTUAL_ELAPSED_TIME', DoubleType(), True), StructField('AIR_TIME', DoubleType(), True), StructField('DISTANCE', DoubleType(), True), StructField('CARRIER_DELAY', DoubleType(), True), StructField('WEATHER_DELAY', DoubleType(), True), StructField('NAS_DELAY', DoubleType(), True), StructField('SECURITY_DELAY', DoubleType(), True), StructField('LATE_AIRCRAFT_DELAY', DoubleType(), True), StructField('Unnamed: 27', StringType(), True), StructField('OP_UNIQUE_CARRIER', StringType(), True), StructField('_c20', StringType(), True)])"
      ]
     },
     "execution_count": 9,
     "metadata": {},
     "output_type": "execute_result"
    }
   ],
   "source": [
    "add.dataframe().schema"
   ]
  },
  {
   "cell_type": "code",
   "execution_count": 6,
   "metadata": {},
   "outputs": [],
   "source": [
    "add_delay = add.get_delay([0, 0xFFFF], 'arrival')\n",
    "delay_count = add_delay.dataframe().count()"
   ]
  },
  {
   "cell_type": "code",
   "execution_count": 11,
   "metadata": {},
   "outputs": [
    {
     "name": "stdout",
     "output_type": "stream",
     "text": [
      "delay=26597222, total=68979001, 38.56%\n"
     ]
    }
   ],
   "source": [
    "print('delay={}, total={}, {:.2f}%'.format(delay_count,\n",
    "                                            total_num,\n",
    "                                            delay_count/total_num*100))"
   ]
  },
  {
   "cell_type": "code",
   "execution_count": 6,
   "metadata": {},
   "outputs": [
    {
     "data": {
      "text/plain": [
       "18009"
      ]
     },
     "execution_count": 6,
     "metadata": {},
     "output_type": "execute_result"
    }
   ],
   "source": [
    "len(add_period)"
   ]
  },
  {
   "cell_type": "code",
   "execution_count": 8,
   "metadata": {},
   "outputs": [],
   "source": [
    "add_period.airposrt_data_path = '../datasets/AIRPORTS_INFO.csv'\n",
    "add_period_airport = add_period.attach_airport_info()"
   ]
  },
  {
   "cell_type": "code",
   "execution_count": 9,
   "metadata": {},
   "outputs": [
    {
     "name": "stdout",
     "output_type": "stream",
     "text": [
      "+----+-------------------+----------+-----------------+------+------------+--------+---------+--------+----------+---------+-------+------------+--------+---------+---------+-----------------+--------+----------------+-------------------+--------+--------+-------------+-------------+---------+--------------+-------------------+-----------+----+------------------+------------------+-----------+\n",
      "|DEST|            FL_DATE|OP_CARRIER|OP_CARRIER_FL_NUM|ORIGIN|CRS_DEP_TIME|DEP_TIME|DEP_DELAY|TAXI_OUT|WHEELS_OFF|WHEELS_ON|TAXI_IN|CRS_ARR_TIME|ARR_TIME|ARR_DELAY|CANCELLED|CANCELLATION_CODE|DIVERTED|CRS_ELAPSED_TIME|ACTUAL_ELAPSED_TIME|AIR_TIME|DISTANCE|CARRIER_DELAY|WEATHER_DELAY|NAS_DELAY|SECURITY_DELAY|LATE_AIRCRAFT_DELAY|Unnamed: 27|_c20|          DEST_LAT|          DEST_LON|DEST_REGION|\n",
      "+----+-------------------+----------+-----------------+------+------------+--------+---------+--------+----------+---------+-------+------------+--------+---------+---------+-----------------+--------+----------------+-------------------+--------+--------+-------------+-------------+---------+--------------+-------------------+-----------+----+------------------+------------------+-----------+\n",
      "| ATL|2019-01-01 00:00:00|        9E|             3280|   GNV|        null|   601.0|      1.0|    22.0|     623.0|    714.0|    8.0|        null|   722.0|     -1.0|     null|             null|    null|            null|               null|    51.0|   300.0|         null|         null|     null|          null|               null|       null|null|           33.6367|        -84.428101|      US-GA|\n",
      "| CVG|2019-01-01 00:00:00|        9E|             3281|   MSP|        null|  1359.0|     -5.0|    15.0|    1414.0|   1629.0|    4.0|        null|  1633.0|    -36.0|     null|             null|    null|            null|               null|    75.0|   596.0|         null|         null|     null|          null|               null|       null|null|         39.048801|        -84.667801|      US-KY|\n",
      "| CVG|2019-01-01 00:00:00|        9E|             3282|   DTW|        null|  1215.0|     -5.0|    18.0|    1233.0|   1323.0|    6.0|        null|  1329.0|    -16.0|     null|             null|    null|            null|               null|    50.0|   229.0|         null|         null|     null|          null|               null|       null|null|         39.048801|        -84.667801|      US-KY|\n",
      "| ATL|2019-01-01 00:00:00|        9E|             3283|   TLH|        null|  1521.0|     -6.0|    14.0|    1535.0|   1618.0|    7.0|        null|  1625.0|    -14.0|     null|             null|    null|            null|               null|    43.0|   223.0|         null|         null|     null|          null|               null|       null|null|           33.6367|        -84.428101|      US-GA|\n",
      "| FSM|2019-01-01 00:00:00|        9E|             3284|   ATL|        null|  1847.0|    -15.0|    18.0|    1905.0|   1935.0|    5.0|        null|  1940.0|    -25.0|     null|             null|    null|            null|               null|    90.0|   579.0|         null|         null|     null|          null|               null|       null|null|         35.336601|        -94.367401|      US-AR|\n",
      "| MSP|2019-01-01 00:00:00|        9E|             3285|   DAY|        null|   853.0|     -7.0|    25.0|     918.0|    948.0|    5.0|        null|   953.0|    -19.0|     null|             null|    null|            null|               null|    90.0|   574.0|         null|         null|     null|          null|               null|       null|null|            44.882|        -93.221802|      US-MN|\n",
      "| ATL|2019-01-01 00:00:00|        9E|             3286|   JAN|        null|  1553.0|     -5.0|    33.0|    1626.0|   1818.0|   14.0|        null|  1832.0|      9.0|     null|             null|    null|            null|               null|    52.0|   341.0|         null|         null|     null|          null|               null|       null|null|           33.6367|        -84.428101|      US-GA|\n",
      "| CVG|2019-01-01 00:00:00|        9E|             3287|   LGA|        null|  1551.0|     -4.0|    31.0|    1622.0|   1816.0|    8.0|        null|  1824.0|      3.0|     null|             null|    null|            null|               null|   114.0|   585.0|         null|         null|     null|          null|               null|       null|null|         39.048801|        -84.667801|      US-KY|\n",
      "| LGA|2019-01-01 00:00:00|        9E|             3288|   JAX|        null|  1037.0|     -8.0|    17.0|    1054.0|   1235.0|    4.0|        null|  1239.0|    -22.0|     null|             null|    null|            null|               null|   101.0|   833.0|         null|         null|     null|          null|               null|       null|null|         40.777199|        -73.872597|      US-NY|\n",
      "| BMI|2019-01-01 00:00:00|        9E|             3289|   ATL|        null|  1245.0|      0.0|    15.0|    1300.0|   1316.0|    2.0|        null|  1318.0|    -14.0|     null|             null|    null|            null|               null|    76.0|   533.0|         null|         null|     null|          null|               null|       null|null|           40.4771|        -88.915901|      US-IL|\n",
      "| ATL|2019-01-01 00:00:00|        9E|             3289|   BMI|        null|  1410.0|     -5.0|    22.0|    1432.0|   1655.0|    5.0|        null|  1700.0|     -7.0|     null|             null|    null|            null|               null|    83.0|   533.0|         null|         null|     null|          null|               null|       null|null|           33.6367|        -84.428101|      US-GA|\n",
      "| ATL|2019-01-01 00:00:00|        9E|             3290|   CAK|        null|   557.0|     -3.0|    10.0|     607.0|    731.0|    6.0|        null|   737.0|    -32.0|     null|             null|    null|            null|               null|    84.0|   528.0|         null|         null|     null|          null|               null|       null|null|           33.6367|        -84.428101|      US-GA|\n",
      "| DAY|2019-01-01 00:00:00|        9E|             3291|   DTW|        null|  1552.0|     12.0|    68.0|    1700.0|   1735.0|    3.0|        null|  1738.0|     44.0|     null|             null|    null|            null|               null|    35.0|   166.0|         12.0|          0.0|     32.0|           0.0|                0.0|       null|null|         39.902401|        -84.219398|      US-OH|\n",
      "| DAY|2019-01-01 00:00:00|        9E|             3292|   MSP|        null|  2029.0|     -4.0|    10.0|    2039.0|   2253.0|    6.0|        null|  2259.0|    -47.0|     null|             null|    null|            null|               null|    74.0|   574.0|         null|         null|     null|          null|               null|       null|null|         39.902401|        -84.219398|      US-OH|\n",
      "| DTW|2019-01-01 00:00:00|        9E|             3293|   PHL|        null|  1312.0|     -5.0|    16.0|    1328.0|   1448.0|    6.0|        null|  1454.0|    -16.0|     null|             null|    null|            null|               null|    80.0|   453.0|         null|         null|     null|          null|               null|       null|null|42.212398529052734|-83.35340118408203|      US-MI|\n",
      "| RIC|2019-01-01 00:00:00|        9E|             3294|   JFK|        null|  1450.0|      0.0|    40.0|    1530.0|   1632.0|    5.0|        null|  1637.0|      7.0|     null|             null|    null|            null|               null|    62.0|   288.0|         null|         null|     null|          null|               null|       null|null| 37.50519943237305| -77.3197021484375|      US-VA|\n",
      "| EWR|2019-01-01 00:00:00|        9E|             3295|   DTW|        null|  1353.0|     83.0|    18.0|    1411.0|   1516.0|    5.0|        null|  1521.0|     59.0|     null|             null|    null|            null|               null|    65.0|   488.0|          0.0|          0.0|     59.0|           0.0|                0.0|       null|null|         40.692501|        -74.168701|      US-NJ|\n",
      "| ATL|2019-01-01 00:00:00|        9E|             3296|   AGS|        null|  1148.0|     -8.0|     8.0|    1156.0|   1228.0|    8.0|        null|  1236.0|    -28.0|     null|             null|    null|            null|               null|    32.0|   143.0|         null|         null|     null|          null|               null|       null|null|           33.6367|        -84.428101|      US-GA|\n",
      "| AGS|2019-01-01 00:00:00|        9E|             3296|   ATL|        null|  1020.0|     -5.0|    16.0|    1036.0|   1106.0|    5.0|        null|  1111.0|    -14.0|     null|             null|    null|            null|               null|    30.0|   143.0|         null|         null|     null|          null|               null|       null|null|           33.3699|          -81.9645|      US-GA|\n",
      "| CVG|2019-01-01 00:00:00|        9E|             3297|   DTW|        null|   817.0|     -8.0|    20.0|     837.0|    928.0|    4.0|        null|   932.0|    -28.0|     null|             null|    null|            null|               null|    51.0|   229.0|         null|         null|     null|          null|               null|       null|null|         39.048801|        -84.667801|      US-KY|\n",
      "+----+-------------------+----------+-----------------+------+------------+--------+---------+--------+----------+---------+-------+------------+--------+---------+---------+-----------------+--------+----------------+-------------------+--------+--------+-------------+-------------+---------+--------------+-------------------+-----------+----+------------------+------------------+-----------+\n",
      "only showing top 20 rows\n",
      "\n"
     ]
    }
   ],
   "source": [
    "add_period_airport.dataframe().show()"
   ]
  }
 ],
 "metadata": {
  "kernelspec": {
   "display_name": "BigData",
   "language": "python",
   "name": "python3"
  },
  "language_info": {
   "codemirror_mode": {
    "name": "ipython",
    "version": 3
   },
   "file_extension": ".py",
   "mimetype": "text/x-python",
   "name": "python",
   "nbconvert_exporter": "python",
   "pygments_lexer": "ipython3",
   "version": "3.8.16"
  },
  "orig_nbformat": 4
 },
 "nbformat": 4,
 "nbformat_minor": 2
}
