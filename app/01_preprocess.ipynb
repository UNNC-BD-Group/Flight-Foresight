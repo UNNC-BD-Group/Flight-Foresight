{
 "cells": [
  {
   "cell_type": "code",
   "execution_count": 1,
   "metadata": {},
   "outputs": [],
   "source": [
    "from utils.dataset import DatasetStack\n",
    "from utils.compute import regular_feature, RegressionModel"
   ]
  },
  {
   "cell_type": "code",
   "execution_count": 2,
   "metadata": {},
   "outputs": [
    {
     "name": "stdout",
     "output_type": "stream",
     "text": [
      "Initializing Spark...\n",
      "Spark stand by (Master=local, AppName=e106e22b-b0fc-4e13-9d00-40974f18cef6)\n",
      "Load datasets from ../datasets/app-dataset/full/train.csv\n",
      "                     0\n",
      "Spark Master       Sub\n",
      "Spark APP Name     Sub\n",
      "Data Path             \n",
      "Data Count      121513\n",
      "Load datasets from ../datasets/app-dataset/full/test.csv\n",
      "                    0\n",
      "Spark Master      Sub\n",
      "Spark APP Name    Sub\n",
      "Data Path            \n",
      "Data Count      14861\n"
     ]
    }
   ],
   "source": [
    "datasets = DatasetStack(airport_info_path='../datasets/AIRPORTS_INFO.csv')\n",
    "datasets.load('../datasets/app-dataset/full/train.csv', 'train')\n",
    "datasets.load('../datasets/app-dataset/full/test.csv', 'test')"
   ]
  },
  {
   "cell_type": "code",
   "execution_count": 3,
   "metadata": {},
   "outputs": [],
   "source": [
    "trainset = regular_feature(datasets['train'].dataframe(), True)\n",
    "testset = regular_feature(datasets['test'].dataframe(), True)"
   ]
  },
  {
   "cell_type": "code",
   "execution_count": 9,
   "metadata": {},
   "outputs": [],
   "source": [
    "from pyspark.ml.regression import DecisionTreeRegressor\n",
    "from pyspark.ml.tuning import ParamGridBuilder"
   ]
  },
  {
   "cell_type": "code",
   "execution_count": 12,
   "metadata": {},
   "outputs": [],
   "source": [
    "model = RegressionModel(DecisionTreeRegressor, trainset, testset)"
   ]
  },
  {
   "cell_type": "code",
   "execution_count": 13,
   "metadata": {},
   "outputs": [],
   "source": [
    "lr = model.model\n",
    "grid = ParamGridBuilder().addGrid(lr.maxDepth, [3, 5]).build()\n",
    "grid\n",
    "result = model.kfolds(grid, k=2)"
   ]
  },
  {
   "cell_type": "code",
   "execution_count": 14,
   "metadata": {},
   "outputs": [
    {
     "data": {
      "text/plain": [
       "[21.356046550443843, 19.671678483675933]"
      ]
     },
     "execution_count": 14,
     "metadata": {},
     "output_type": "execute_result"
    }
   ],
   "source": [
    "result"
   ]
  },
  {
   "cell_type": "code",
   "execution_count": 2,
   "metadata": {},
   "outputs": [
    {
     "name": "stdout",
     "output_type": "stream",
     "text": [
      "Initializing Spark...\n",
      "Spark stand by (Master=local, AppName=28b5434f-007c-47ff-97ec-278c21a5d341)\n",
      "Load datasets from ../datasets/app-dataset/full/train.csv\n",
      "                                                     0\n",
      "Spark Master                                     local\n",
      "Spark APP Name    28b5434f-007c-47ff-97ec-278c21a5d341\n",
      "Data Path       ../datasets/app-dataset/full/train.csv\n",
      "Data Count                                      121513\n"
     ]
    }
   ],
   "source": [
    "train_set = AirDelayDataset('../datasets/app-dataset/full/train.csv',\n",
    "                            airport_data_path='../datasets/AIRPORTS_INFO.csv')"
   ]
  },
  {
   "cell_type": "code",
   "execution_count": 3,
   "metadata": {},
   "outputs": [
    {
     "data": {
      "text/plain": [
       "                                                     0\n",
       "Spark Master                                     local\n",
       "Spark APP Name    28b5434f-007c-47ff-97ec-278c21a5d341\n",
       "Data Path       ../datasets/app-dataset/full/train.csv\n",
       "Data Count                                      121513"
      ]
     },
     "execution_count": 3,
     "metadata": {},
     "output_type": "execute_result"
    }
   ],
   "source": [
    "train_set"
   ]
  },
  {
   "cell_type": "code",
   "execution_count": 13,
   "metadata": {},
   "outputs": [],
   "source": [
    "data = train_set.attach_airport_info('both')\n",
    "dataframe = data.dataframe().select(\n",
    "    'FL_DATE', 'ORIGIN_LAT', 'ORIGIN_LON', 'DEST_LAT', 'DEST_LON',\n",
    "    'DEP_TIME', 'DEP_DELAY', 'OP_CARRIER', \n",
    "    'DISTANCE', 'CARRIER_DELAY', 'WEATHER_DELAY', 'NAS_DELAY',\n",
    "    'SECURITY_DELAY', 'LATE_AIRCRAFT_DELAY', 'ARR_DELAY'\n",
    ")"
   ]
  },
  {
   "cell_type": "code",
   "execution_count": 14,
   "metadata": {},
   "outputs": [],
   "source": [
    "dataframe = dataframe.fillna(0)"
   ]
  },
  {
   "cell_type": "code",
   "execution_count": 20,
   "metadata": {},
   "outputs": [],
   "source": [
    "from pyspark.sql.functions import corr"
   ]
  },
  {
   "cell_type": "code",
   "execution_count": 32,
   "metadata": {},
   "outputs": [
    {
     "data": {
      "text/plain": [
       "'FL_DATE'"
      ]
     },
     "execution_count": 32,
     "metadata": {},
     "output_type": "execute_result"
    }
   ],
   "source": [
    "dataframe.columns[0]"
   ]
  },
  {
   "cell_type": "code",
   "execution_count": 35,
   "metadata": {},
   "outputs": [
    {
     "name": "stdout",
     "output_type": "stream",
     "text": [
      "FL_DATE\n",
      "ORIGIN_LAT\n",
      "ORIGIN_LON\n",
      "DEST_LAT\n",
      "DEST_LON\n",
      "DEP_TIME\n",
      "DEP_DELAY\n",
      "OP_CARRIER\n",
      "DISTANCE\n",
      "CARRIER_DELAY\n",
      "WEATHER_DELAY\n",
      "NAS_DELAY\n",
      "SECURITY_DELAY\n",
      "LATE_AIRCRAFT_DELAY\n",
      "ARR_DELAY\n"
     ]
    }
   ],
   "source": [
    "cors = {}\n",
    "for item in dataframe.columns:\n",
    "    print(item)\n",
    "    if item == 'ARR_DELAY' or item == 'FL_DATE' or item == 'OP_CARRIER':\n",
    "        continue\n",
    "    cor = dataframe.select(corr('ARR_DELAY', item)).toPandas().iloc[0].values[0]\n",
    "    cors[item] = cor"
   ]
  },
  {
   "cell_type": "code",
   "execution_count": 36,
   "metadata": {},
   "outputs": [
    {
     "data": {
      "text/plain": [
       "{'ORIGIN_LAT': -0.0021211824507489257,\n",
       " 'ORIGIN_LON': 0.01695532941141543,\n",
       " 'DEST_LAT': -0.0033262318774313266,\n",
       " 'DEST_LON': 0.022658593476044278,\n",
       " 'DEP_TIME': 0.15723548225103148,\n",
       " 'DEP_DELAY': 0.9398714422412073,\n",
       " 'DISTANCE': -0.02600098737563631,\n",
       " 'CARRIER_DELAY': 0.6069754707513229,\n",
       " 'WEATHER_DELAY': 0.3037087221972517,\n",
       " 'NAS_DELAY': 0.43254351458637247,\n",
       " 'SECURITY_DELAY': 0.026983116998700082,\n",
       " 'LATE_AIRCRAFT_DELAY': 0.6150973659113383}"
      ]
     },
     "execution_count": 36,
     "metadata": {},
     "output_type": "execute_result"
    }
   ],
   "source": [
    "cors"
   ]
  },
  {
   "cell_type": "code",
   "execution_count": 15,
   "metadata": {},
   "outputs": [
    {
     "name": "stdout",
     "output_type": "stream",
     "text": [
      "+-------------------+------------------+-------------------+-----------------+-------------------+--------+---------+----------+--------+-------------+-------------+---------+--------------+-------------------+---------+\n",
      "|            FL_DATE|        ORIGIN_LAT|         ORIGIN_LON|         DEST_LAT|           DEST_LON|DEP_TIME|DEP_DELAY|OP_CARRIER|DISTANCE|CARRIER_DELAY|WEATHER_DELAY|NAS_DELAY|SECURITY_DELAY|LATE_AIRCRAFT_DELAY|ARR_DELAY|\n",
      "+-------------------+------------------+-------------------+-----------------+-------------------+--------+---------+----------+--------+-------------+-------------+---------+--------------+-------------------+---------+\n",
      "|2009-01-01 00:00:00|29.984399795532227| -95.34140014648438|        32.115004|        -110.938053|  1750.0|      0.0|        XE|   936.0|          0.0|          0.0|      0.0|           0.0|                0.0|    -16.0|\n",
      "|2009-01-01 00:00:00|           41.9786|           -87.9048|        33.938801|         -81.119499|  1421.0|     -1.0|        YV|   666.0|          0.0|          0.0|      0.0|           0.0|                0.0|    -14.0|\n",
      "|2009-01-01 00:00:00|         33.435302|        -112.005905|39.49909973144531|-119.76799774169922|  1430.0|     -5.0|        YV|   601.0|          0.0|          0.0|      0.0|           0.0|                0.0|     -2.0|\n",
      "|2009-01-01 00:00:00| 39.49909973144531|-119.76799774169922|        33.435302|        -112.005905|  1615.0|      0.0|        YV|   601.0|          0.0|          0.0|      0.0|           0.0|                0.0|     -3.0|\n",
      "|2009-01-01 00:00:00|         33.435302|        -112.005905|        40.785749|        -111.979746|  1904.0|     11.0|        OO|   507.0|          0.0|          0.0|      0.0|           0.0|                0.0|     12.0|\n",
      "|2009-01-01 00:00:00| 37.61899948120117|           -122.375|        40.785749|        -111.979746|   723.0|     -7.0|        OO|   599.0|          0.0|          0.0|      0.0|           0.0|                0.0|      9.0|\n",
      "|2009-01-01 00:00:00|         33.942501|        -118.407997|  39.861698150635|     -104.672996521|   629.0|     -1.0|        UA|   862.0|          0.0|          0.0|      0.0|           0.0|                0.0|      2.0|\n",
      "|2009-01-01 00:00:00|  35.2140007019043| -80.94309997558594| 36.1245002746582|  -86.6781997680664|  1749.0|     -1.0|        US|   329.0|          0.0|          0.0|     15.0|           0.0|                0.0|     15.0|\n",
      "|2009-01-01 00:00:00|         40.639447|         -73.779317|        36.083361|        -115.151817|  1821.0|     36.0|        US|  2248.0|          8.0|          0.0|      0.0|           0.0|               11.0|     19.0|\n",
      "|2009-01-01 00:00:00| 30.49410057067871| -81.68789672851562|        33.562901|         -86.753502|  1239.0|     -1.0|        WN|   365.0|          0.0|          0.0|      0.0|           0.0|                0.0|     -9.0|\n",
      "|2009-01-01 00:00:00|     32.7336006165|     -117.190002441|        35.040199|        -106.609001|  1954.0|      9.0|        WN|   628.0|          0.0|          0.0|      0.0|           0.0|                0.0|     -3.0|\n",
      "|2009-01-01 00:00:00|     34.5676994324|     -98.4166030884|          33.6367|         -84.428101|  1233.0|    -10.0|        EV|   804.0|          0.0|          0.0|      0.0|           0.0|                0.0|    -33.0|\n",
      "|2009-01-01 00:00:00|           36.8946|         -76.201202|          33.6367|         -84.428101|  1446.0|     33.0|        EV|   516.0|          0.0|          0.0|      0.0|           0.0|                0.0|      0.0|\n",
      "|2009-01-01 00:00:00|           33.6367|         -84.428101|        33.562901|         -86.753502|  1019.0|     -5.0|        EV|   134.0|          0.0|          0.0|      0.0|           0.0|                0.0|    -10.0|\n",
      "|2009-01-01 00:00:00|          21.32062|        -157.924228|        20.898543|        -156.431212|  1509.0|      6.0|        HA|   100.0|          0.0|          0.0|      0.0|           0.0|                0.0|      4.0|\n",
      "|2009-01-01 00:00:00|         19.721399|        -155.048004|        19.738783|        -156.045603|  1056.0|     -4.0|        HA|    64.0|          0.0|          0.0|      0.0|           0.0|                0.0|     -1.0|\n",
      "|2009-01-01 00:00:00|           41.9786|           -87.9048|        37.649899|         -97.433098|  1407.0|     -3.0|        MQ|   588.0|          0.0|          0.0|      0.0|           0.0|                0.0|    -11.0|\n",
      "|2009-01-01 00:00:00|42.212398529052734| -83.35340118408203|           44.882|         -93.221802|  1707.0|     -3.0|        NW|   528.0|          0.0|          0.0|      0.0|           0.0|                0.0|    -13.0|\n",
      "|2009-01-01 00:00:00|         40.639447|         -73.779317|           44.882|         -93.221802|  1732.0|     -3.0|        NW|  1028.0|          0.0|          0.0|      0.0|           0.0|                0.0|     -1.0|\n",
      "|2009-01-01 00:00:00|28.429399490356445| -81.30899810791016|        40.639447|         -73.779317|  1149.0|     -6.0|        AA|   944.0|          0.0|          0.0|      0.0|           0.0|                0.0|    -11.0|\n",
      "+-------------------+------------------+-------------------+-----------------+-------------------+--------+---------+----------+--------+-------------+-------------+---------+--------------+-------------------+---------+\n",
      "only showing top 20 rows\n",
      "\n"
     ]
    }
   ],
   "source": [
    "dataframe.show()"
   ]
  },
  {
   "cell_type": "code",
   "execution_count": 70,
   "metadata": {},
   "outputs": [],
   "source": [
    "from pyspark.ml.evaluation import RegressionEvaluator\n",
    "from pyspark.ml.regression import DecisionTreeRegressor\n",
    "from pyspark.ml.feature import VectorIndexer, VectorAssembler, StringIndexer, StandardScaler\n",
    "from pyspark.ml import Pipeline\n",
    "from pyspark.sql.functions import month, dayofmonth"
   ]
  },
  {
   "cell_type": "code",
   "execution_count": 54,
   "metadata": {},
   "outputs": [],
   "source": [
    "\n",
    "date = dataframe.select('FL_DATE',\n",
    "                 month(dataframe['FL_DATE']).alias('FL_DATE_MONTH'),\n",
    "                 dayofmonth(dataframe['FL_DATE']).alias('FL_DATE_DAY'))\n",
    "dataframe_date = dataframe.join(date, on='FL_DATE', how='left_outer')"
   ]
  },
  {
   "cell_type": "code",
   "execution_count": 65,
   "metadata": {},
   "outputs": [],
   "source": [
    "evaluator_rmse = RegressionEvaluator(predictionCol='prediction', labelCol='ARR_DELAY', metricName='rmse')\n",
    "evaluator_r2 = RegressionEvaluator(predictionCol='prediction', labelCol='ARR_DELAY', metricName='r2')"
   ]
  },
  {
   "cell_type": "code",
   "execution_count": 55,
   "metadata": {},
   "outputs": [
    {
     "name": "stdout",
     "output_type": "stream",
     "text": [
      "+-------------------+------------------+------------------+---------+-----------+--------+---------+----------+--------+-------------+-------------+---------+--------------+-------------------+---------+-------------+-----------+\n",
      "|            FL_DATE|        ORIGIN_LAT|        ORIGIN_LON| DEST_LAT|   DEST_LON|DEP_TIME|DEP_DELAY|OP_CARRIER|DISTANCE|CARRIER_DELAY|WEATHER_DELAY|NAS_DELAY|SECURITY_DELAY|LATE_AIRCRAFT_DELAY|ARR_DELAY|FL_DATE_MONTH|FL_DATE_DAY|\n",
      "+-------------------+------------------+------------------+---------+-----------+--------+---------+----------+--------+-------------+-------------+---------+--------------+-------------------+---------+-------------+-----------+\n",
      "|2009-01-01 00:00:00|29.984399795532227|-95.34140014648438|32.115004|-110.938053|  1750.0|      0.0|        XE|   936.0|          0.0|          0.0|      0.0|           0.0|                0.0|    -16.0|            1|          1|\n",
      "|2009-01-01 00:00:00|29.984399795532227|-95.34140014648438|32.115004|-110.938053|  1750.0|      0.0|        XE|   936.0|          0.0|          0.0|      0.0|           0.0|                0.0|    -16.0|            1|          1|\n",
      "|2009-01-01 00:00:00|29.984399795532227|-95.34140014648438|32.115004|-110.938053|  1750.0|      0.0|        XE|   936.0|          0.0|          0.0|      0.0|           0.0|                0.0|    -16.0|            1|          1|\n",
      "|2009-01-01 00:00:00|29.984399795532227|-95.34140014648438|32.115004|-110.938053|  1750.0|      0.0|        XE|   936.0|          0.0|          0.0|      0.0|           0.0|                0.0|    -16.0|            1|          1|\n",
      "|2009-01-01 00:00:00|29.984399795532227|-95.34140014648438|32.115004|-110.938053|  1750.0|      0.0|        XE|   936.0|          0.0|          0.0|      0.0|           0.0|                0.0|    -16.0|            1|          1|\n",
      "|2009-01-01 00:00:00|29.984399795532227|-95.34140014648438|32.115004|-110.938053|  1750.0|      0.0|        XE|   936.0|          0.0|          0.0|      0.0|           0.0|                0.0|    -16.0|            1|          1|\n",
      "|2009-01-01 00:00:00|29.984399795532227|-95.34140014648438|32.115004|-110.938053|  1750.0|      0.0|        XE|   936.0|          0.0|          0.0|      0.0|           0.0|                0.0|    -16.0|            1|          1|\n",
      "|2009-01-01 00:00:00|29.984399795532227|-95.34140014648438|32.115004|-110.938053|  1750.0|      0.0|        XE|   936.0|          0.0|          0.0|      0.0|           0.0|                0.0|    -16.0|            1|          1|\n",
      "|2009-01-01 00:00:00|29.984399795532227|-95.34140014648438|32.115004|-110.938053|  1750.0|      0.0|        XE|   936.0|          0.0|          0.0|      0.0|           0.0|                0.0|    -16.0|            1|          1|\n",
      "|2009-01-01 00:00:00|29.984399795532227|-95.34140014648438|32.115004|-110.938053|  1750.0|      0.0|        XE|   936.0|          0.0|          0.0|      0.0|           0.0|                0.0|    -16.0|            1|          1|\n",
      "|2009-01-01 00:00:00|29.984399795532227|-95.34140014648438|32.115004|-110.938053|  1750.0|      0.0|        XE|   936.0|          0.0|          0.0|      0.0|           0.0|                0.0|    -16.0|            1|          1|\n",
      "|2009-01-01 00:00:00|29.984399795532227|-95.34140014648438|32.115004|-110.938053|  1750.0|      0.0|        XE|   936.0|          0.0|          0.0|      0.0|           0.0|                0.0|    -16.0|            1|          1|\n",
      "|2009-01-01 00:00:00|29.984399795532227|-95.34140014648438|32.115004|-110.938053|  1750.0|      0.0|        XE|   936.0|          0.0|          0.0|      0.0|           0.0|                0.0|    -16.0|            1|          1|\n",
      "|2009-01-01 00:00:00|29.984399795532227|-95.34140014648438|32.115004|-110.938053|  1750.0|      0.0|        XE|   936.0|          0.0|          0.0|      0.0|           0.0|                0.0|    -16.0|            1|          1|\n",
      "|2009-01-01 00:00:00|29.984399795532227|-95.34140014648438|32.115004|-110.938053|  1750.0|      0.0|        XE|   936.0|          0.0|          0.0|      0.0|           0.0|                0.0|    -16.0|            1|          1|\n",
      "|2009-01-01 00:00:00|29.984399795532227|-95.34140014648438|32.115004|-110.938053|  1750.0|      0.0|        XE|   936.0|          0.0|          0.0|      0.0|           0.0|                0.0|    -16.0|            1|          1|\n",
      "|2009-01-01 00:00:00|29.984399795532227|-95.34140014648438|32.115004|-110.938053|  1750.0|      0.0|        XE|   936.0|          0.0|          0.0|      0.0|           0.0|                0.0|    -16.0|            1|          1|\n",
      "|2009-01-01 00:00:00|29.984399795532227|-95.34140014648438|32.115004|-110.938053|  1750.0|      0.0|        XE|   936.0|          0.0|          0.0|      0.0|           0.0|                0.0|    -16.0|            1|          1|\n",
      "|2009-01-01 00:00:00|29.984399795532227|-95.34140014648438|32.115004|-110.938053|  1750.0|      0.0|        XE|   936.0|          0.0|          0.0|      0.0|           0.0|                0.0|    -16.0|            1|          1|\n",
      "|2009-01-01 00:00:00|29.984399795532227|-95.34140014648438|32.115004|-110.938053|  1750.0|      0.0|        XE|   936.0|          0.0|          0.0|      0.0|           0.0|                0.0|    -16.0|            1|          1|\n",
      "+-------------------+------------------+------------------+---------+-----------+--------+---------+----------+--------+-------------+-------------+---------+--------------+-------------------+---------+-------------+-----------+\n",
      "only showing top 20 rows\n",
      "\n"
     ]
    }
   ],
   "source": [
    "dataframe_date.show()"
   ]
  },
  {
   "cell_type": "code",
   "execution_count": 103,
   "metadata": {},
   "outputs": [],
   "source": [
    "from utils.compute import regular_feature"
   ]
  },
  {
   "cell_type": "code",
   "execution_count": 104,
   "metadata": {},
   "outputs": [],
   "source": [
    "df = regular_feature(dataframe)"
   ]
  },
  {
   "cell_type": "code",
   "execution_count": 105,
   "metadata": {},
   "outputs": [
    {
     "name": "stdout",
     "output_type": "stream",
     "text": [
      "+-------------------+----------+-----------+---------+-----------+--------+---------+----------+--------+-------------+-------------+---------+--------------+-------------------+---------+-------------+-----------+----------------+--------------------+--------------------+\n",
      "|            FL_DATE|ORIGIN_LAT| ORIGIN_LON| DEST_LAT|   DEST_LON|DEP_TIME|DEP_DELAY|OP_CARRIER|DISTANCE|CARRIER_DELAY|WEATHER_DELAY|NAS_DELAY|SECURITY_DELAY|LATE_AIRCRAFT_DELAY|ARR_DELAY|FL_DATE_MONTH|FL_DATE_DAY|OP_CARRIER_INDEX|           features_|            features|\n",
      "+-------------------+----------+-----------+---------+-----------+--------+---------+----------+--------+-------------+-------------+---------+--------------+-------------------+---------+-------------+-----------+----------------+--------------------+--------------------+\n",
      "|2009-03-28 00:00:00| 33.942501|-118.407997|47.449162|-122.311134|  1828.0|     -2.0|        AS|   954.0|          0.0|          0.0|      0.0|           0.0|                0.0|    -14.0|            3|         28|             9.0|[3.0,28.0,33.9425...|[0.90678476460677...|\n",
      "|2009-03-28 00:00:00| 33.942501|-118.407997|47.449162|-122.311134|  1828.0|     -2.0|        AS|   954.0|          0.0|          0.0|      0.0|           0.0|                0.0|    -14.0|            3|         28|             9.0|[3.0,28.0,33.9425...|[0.90678476460677...|\n",
      "|2009-03-28 00:00:00| 33.942501|-118.407997|47.449162|-122.311134|  1828.0|     -2.0|        AS|   954.0|          0.0|          0.0|      0.0|           0.0|                0.0|    -14.0|            3|         28|             9.0|[3.0,28.0,33.9425...|[0.90678476460677...|\n",
      "|2009-03-28 00:00:00| 33.942501|-118.407997|47.449162|-122.311134|  1828.0|     -2.0|        AS|   954.0|          0.0|          0.0|      0.0|           0.0|                0.0|    -14.0|            3|         28|             9.0|[3.0,28.0,33.9425...|[0.90678476460677...|\n",
      "|2009-03-28 00:00:00| 33.942501|-118.407997|47.449162|-122.311134|  1828.0|     -2.0|        AS|   954.0|          0.0|          0.0|      0.0|           0.0|                0.0|    -14.0|            3|         28|             9.0|[3.0,28.0,33.9425...|[0.90678476460677...|\n",
      "|2009-03-28 00:00:00| 33.942501|-118.407997|47.449162|-122.311134|  1828.0|     -2.0|        AS|   954.0|          0.0|          0.0|      0.0|           0.0|                0.0|    -14.0|            3|         28|             9.0|[3.0,28.0,33.9425...|[0.90678476460677...|\n",
      "|2009-03-28 00:00:00| 33.942501|-118.407997|47.449162|-122.311134|  1828.0|     -2.0|        AS|   954.0|          0.0|          0.0|      0.0|           0.0|                0.0|    -14.0|            3|         28|             9.0|[3.0,28.0,33.9425...|[0.90678476460677...|\n",
      "|2009-03-28 00:00:00| 33.942501|-118.407997|47.449162|-122.311134|  1828.0|     -2.0|        AS|   954.0|          0.0|          0.0|      0.0|           0.0|                0.0|    -14.0|            3|         28|             9.0|[3.0,28.0,33.9425...|[0.90678476460677...|\n",
      "|2009-03-28 00:00:00| 33.942501|-118.407997|47.449162|-122.311134|  1828.0|     -2.0|        AS|   954.0|          0.0|          0.0|      0.0|           0.0|                0.0|    -14.0|            3|         28|             9.0|[3.0,28.0,33.9425...|[0.90678476460677...|\n",
      "|2009-03-28 00:00:00| 33.942501|-118.407997|47.449162|-122.311134|  1828.0|     -2.0|        AS|   954.0|          0.0|          0.0|      0.0|           0.0|                0.0|    -14.0|            3|         28|             9.0|[3.0,28.0,33.9425...|[0.90678476460677...|\n",
      "|2009-03-28 00:00:00| 33.942501|-118.407997|47.449162|-122.311134|  1828.0|     -2.0|        AS|   954.0|          0.0|          0.0|      0.0|           0.0|                0.0|    -14.0|            3|         28|             9.0|[3.0,28.0,33.9425...|[0.90678476460677...|\n",
      "|2009-03-28 00:00:00| 33.942501|-118.407997|47.449162|-122.311134|  1828.0|     -2.0|        AS|   954.0|          0.0|          0.0|      0.0|           0.0|                0.0|    -14.0|            3|         28|             9.0|[3.0,28.0,33.9425...|[0.90678476460677...|\n",
      "|2009-03-28 00:00:00| 33.942501|-118.407997|47.449162|-122.311134|  1828.0|     -2.0|        AS|   954.0|          0.0|          0.0|      0.0|           0.0|                0.0|    -14.0|            3|         28|             9.0|[3.0,28.0,33.9425...|[0.90678476460677...|\n",
      "|2009-03-28 00:00:00| 33.942501|-118.407997|47.449162|-122.311134|  1828.0|     -2.0|        AS|   954.0|          0.0|          0.0|      0.0|           0.0|                0.0|    -14.0|            3|         28|             9.0|[3.0,28.0,33.9425...|[0.90678476460677...|\n",
      "|2009-03-28 00:00:00| 33.942501|-118.407997|47.449162|-122.311134|  1828.0|     -2.0|        AS|   954.0|          0.0|          0.0|      0.0|           0.0|                0.0|    -14.0|            3|         28|             9.0|[3.0,28.0,33.9425...|[0.90678476460677...|\n",
      "|2009-03-28 00:00:00| 33.942501|-118.407997|47.449162|-122.311134|  1828.0|     -2.0|        AS|   954.0|          0.0|          0.0|      0.0|           0.0|                0.0|    -14.0|            3|         28|             9.0|[3.0,28.0,33.9425...|[0.90678476460677...|\n",
      "|2009-03-28 00:00:00| 33.942501|-118.407997|47.449162|-122.311134|  1828.0|     -2.0|        AS|   954.0|          0.0|          0.0|      0.0|           0.0|                0.0|    -14.0|            3|         28|             9.0|[3.0,28.0,33.9425...|[0.90678476460677...|\n",
      "|2009-03-28 00:00:00| 33.942501|-118.407997|47.449162|-122.311134|  1828.0|     -2.0|        AS|   954.0|          0.0|          0.0|      0.0|           0.0|                0.0|    -14.0|            3|         28|             9.0|[3.0,28.0,33.9425...|[0.90678476460677...|\n",
      "|2009-03-28 00:00:00| 33.942501|-118.407997|47.449162|-122.311134|  1828.0|     -2.0|        AS|   954.0|          0.0|          0.0|      0.0|           0.0|                0.0|    -14.0|            3|         28|             9.0|[3.0,28.0,33.9425...|[0.90678476460677...|\n",
      "|2009-03-28 00:00:00| 33.942501|-118.407997|47.449162|-122.311134|  1828.0|     -2.0|        AS|   954.0|          0.0|          0.0|      0.0|           0.0|                0.0|    -14.0|            3|         28|             9.0|[3.0,28.0,33.9425...|[0.90678476460677...|\n",
      "+-------------------+----------+-----------+---------+-----------+--------+---------+----------+--------+-------------+-------------+---------+--------------+-------------------+---------+-------------+-----------+----------------+--------------------+--------------------+\n",
      "only showing top 20 rows\n",
      "\n"
     ]
    }
   ],
   "source": [
    "df.show()"
   ]
  },
  {
   "cell_type": "code",
   "execution_count": 108,
   "metadata": {},
   "outputs": [],
   "source": [
    "model = DecisionTreeRegressor(featuresCol='features', labelCol='ARR_DELAY', maxDepth=5)"
   ]
  },
  {
   "cell_type": "code",
   "execution_count": 109,
   "metadata": {},
   "outputs": [
    {
     "data": {
      "text/plain": [
       "DecisionTreeRegressionModel: uid=DecisionTreeRegressor_0ff1069ea206, depth=5, numNodes=63, numFeatures=15"
      ]
     },
     "execution_count": 109,
     "metadata": {},
     "output_type": "execute_result"
    }
   ],
   "source": [
    "model = model.fit(df)"
   ]
  },
  {
   "cell_type": "code",
   "execution_count": null,
   "metadata": {},
   "outputs": [
    {
     "data": {
      "text/plain": [
       "11.70849776457867"
      ]
     },
     "execution_count": 87,
     "metadata": {},
     "output_type": "execute_result"
    }
   ],
   "source": [
    "evaluator_rmse.evaluate(pred)"
   ]
  },
  {
   "cell_type": "code",
   "execution_count": null,
   "metadata": {},
   "outputs": [
    {
     "data": {
      "text/plain": [
       "0.9125372771683421"
      ]
     },
     "execution_count": 88,
     "metadata": {},
     "output_type": "execute_result"
    }
   ],
   "source": [
    "evaluator_r2.evaluate(pred)"
   ]
  },
  {
   "cell_type": "code",
   "execution_count": null,
   "metadata": {},
   "outputs": [],
   "source": []
  },
  {
   "cell_type": "code",
   "execution_count": null,
   "metadata": {},
   "outputs": [],
   "source": [
    "RegressionEvaluator.evaluate()"
   ]
  },
  {
   "cell_type": "code",
   "execution_count": null,
   "metadata": {},
   "outputs": [],
   "source": [
    "def feature_filter(dataset):\n",
    "    "
   ]
  }
 ],
 "metadata": {
  "kernelspec": {
   "display_name": "BigData",
   "language": "python",
   "name": "python3"
  },
  "language_info": {
   "codemirror_mode": {
    "name": "ipython",
    "version": 3
   },
   "file_extension": ".py",
   "mimetype": "text/x-python",
   "name": "python",
   "nbconvert_exporter": "python",
   "pygments_lexer": "ipython3",
   "version": "3.8.16"
  },
  "orig_nbformat": 4
 },
 "nbformat": 4,
 "nbformat_minor": 2
}
